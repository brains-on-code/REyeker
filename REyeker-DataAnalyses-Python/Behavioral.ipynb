{
 "cells": [
  {
   "cell_type": "markdown",
   "metadata": {},
   "source": [
    "imports"
   ]
  },
  {
   "cell_type": "code",
   "execution_count": null,
   "metadata": {},
   "outputs": [],
   "source": [
    "import pandas as pd"
   ]
  },
  {
   "cell_type": "markdown",
   "metadata": {},
   "source": [
    "config"
   ]
  },
  {
   "cell_type": "code",
   "execution_count": null,
   "metadata": {},
   "outputs": [],
   "source": [
    "config_prefix = ['BR', 'BI', 'TR', 'TI']\n",
    "\n",
    "config_datasheet = r'./preprocessed.xlsx'"
   ]
  },
  {
   "cell_type": "markdown",
   "metadata": {},
   "source": [
    "import df"
   ]
  },
  {
   "cell_type": "code",
   "execution_count": 3,
   "metadata": {},
   "outputs": [],
   "source": [
    "raw = pd.read_excel(config_datasheet)\n",
    "df = pd.DataFrame(raw)\n",
    "df = df.loc[df[\"Flag\"]!=\"outlier\"]"
   ]
  },
  {
   "cell_type": "markdown",
   "metadata": {},
   "source": [
    "get names of algorithm"
   ]
  },
  {
   "cell_type": "code",
   "execution_count": 4,
   "metadata": {},
   "outputs": [],
   "source": [
    "algo_name_array = [name for name in df[\"Algorithm\"].unique()]"
   ]
  },
  {
   "cell_type": "markdown",
   "metadata": {},
   "source": [
    "split dataframes "
   ]
  },
  {
   "cell_type": "code",
   "execution_count": 5,
   "metadata": {},
   "outputs": [],
   "source": [
    "df_cat_array = []\n",
    "df_cat_array.append(df.loc[(df[\"ProgrammingStyle\"]==\"R\") & (df[\"Comprehension\"]==\"BU\")])\n",
    "df_cat_array.append(df.loc[(df[\"ProgrammingStyle\"]==\"I\") & (df[\"Comprehension\"]==\"BU\")])\n",
    "df_cat_array.append(df.loc[(df[\"ProgrammingStyle\"]==\"R\") & (df[\"Comprehension\"]==\"TD\")])\n",
    "df_cat_array.append(df.loc[(df[\"ProgrammingStyle\"]==\"I\") & (df[\"Comprehension\"]==\"TD\")])\n",
    "\n",
    "df_algo_cat_array = []\n",
    "for algo_name in algo_name_array:\n",
    "    tmp_df = []\n",
    "    tmp_df.append(df.loc[(df[\"Algorithm\"]==algo_name) & (df[\"ProgrammingStyle\"]==\"R\") & (df[\"Comprehension\"]==\"BU\")])\n",
    "    tmp_df.append(df.loc[(df[\"Algorithm\"]==algo_name) & (df[\"ProgrammingStyle\"]==\"I\") & (df[\"Comprehension\"]==\"BU\")])\n",
    "    tmp_df.append(df.loc[(df[\"Algorithm\"]==algo_name) & (df[\"ProgrammingStyle\"]==\"R\") & (df[\"Comprehension\"]==\"TD\")])\n",
    "    tmp_df.append(df.loc[(df[\"Algorithm\"]==algo_name) & (df[\"ProgrammingStyle\"]==\"I\") & (df[\"Comprehension\"]==\"TD\")])\n",
    "    df_algo_cat_array.append(tmp_df)"
   ]
  },
  {
   "cell_type": "markdown",
   "metadata": {},
   "source": [
    "create result"
   ]
  },
  {
   "cell_type": "code",
   "execution_count": 6,
   "metadata": {},
   "outputs": [],
   "source": [
    "cols = [\"Algorithm\", \"Comprehension\",\n",
    "        \"R_Response_count\", \"R_Correctness\", \"R_ResponseTimeMean\", \"R_ResponseTimeDeviation\",\n",
    "        \"I_Response_count\", \"I_Correctness\", \"I_ResponseTimeMean\", \"I_ResponseTimeDeviation\"]\n",
    "\n",
    "result_df = pd.DataFrame(columns=cols)\n",
    "\n",
    "for algo_df_array in df_algo_cat_array:\n",
    "    for i in range(2):\n",
    "        rec =  algo_df_array[i*2+0]\n",
    "        it =  algo_df_array[i*2+1]\n",
    "        \n",
    "        Algorithm = rec.iloc[0][\"Algorithm\"]\n",
    "        Comprehension = \"Top-Down\"\n",
    "        if i == 1:\n",
    "            Comprehension = \"Bottom-Up\"\n",
    "        \n",
    "        R_Response_count = len(rec)\n",
    "        R_Correctness = float(len(rec.loc[rec[\"Correctness\"]==True]))/float(len(rec))\n",
    "        R_ResponseTimeMean = int(rec[\"ResponseTime\"].mean())\n",
    "        R_ResponseTimeDeviation = None\n",
    "        \n",
    "        I_Response_count = len(it)\n",
    "        I_Correctness = float(len(it.loc[it[\"Correctness\"]==True]))/float(len(it))\n",
    "        I_ResponseTimeMean = int(it[\"ResponseTime\"].mean())\n",
    "        I_ResponseTimeDeviation = None\n",
    "        \n",
    "        data = [\n",
    "            Algorithm, Comprehension,\n",
    "            R_Response_count, R_Correctness, R_ResponseTimeMean, R_ResponseTimeDeviation,\n",
    "            I_Response_count, I_Correctness, I_ResponseTimeMean, I_ResponseTimeDeviation,\n",
    "        ]\n",
    "        \n",
    "        result_df = result_df.append(pd.DataFrame([data], columns=cols))\n",
    "\n",
    "for i in range(2):\n",
    "    rec =  df_cat_array[i*2+0]\n",
    "    it =  df_cat_array[i*2+1]\n",
    "    \n",
    "    Algorithm = \"Total\"\n",
    "    Comprehension = \"Top-Down\"\n",
    "    if i == 1:\n",
    "        Comprehension = \"Bottom-Up\"\n",
    "    \n",
    "    R_Response_count = len(rec)\n",
    "    R_Correctness = float(len(rec.loc[rec[\"Correctness\"]==True]))/float(len(rec))\n",
    "    R_ResponseTimeMean = int(rec[\"ResponseTime\"].mean())\n",
    "    R_ResponseTimeDeviation = int(rec[\"ResponseTime\"].std())\n",
    "    \n",
    "    I_Response_count = len(it)\n",
    "    I_Correctness = float(len(it.loc[it[\"Correctness\"]==True]))/float(len(it))\n",
    "    I_ResponseTimeMean = int(it[\"ResponseTime\"].mean())\n",
    "    I_ResponseTimeDeviation = int(it[\"ResponseTime\"].std())\n",
    "    \n",
    "    data = [\n",
    "        Algorithm, Comprehension,\n",
    "        R_Response_count, R_Correctness, R_ResponseTimeMean, R_ResponseTimeDeviation,\n",
    "        I_Response_count, I_Correctness, I_ResponseTimeMean, I_ResponseTimeDeviation,\n",
    "    ]\n",
    "    \n",
    "    result_df = result_df.append(pd.DataFrame([data], columns=cols))\n",
    "    \n",
    "result_df.to_excel(\"response_times.xlsx\")"
   ]
  },
  {
   "cell_type": "code",
   "execution_count": null,
   "metadata": {},
   "outputs": [],
   "source": []
  }
 ],
 "metadata": {
  "kernelspec": {
   "display_name": "Python 3",
   "language": "python",
   "name": "python3"
  },
  "language_info": {
   "codemirror_mode": {
    "name": "ipython",
    "version": 3
   },
   "file_extension": ".py",
   "mimetype": "text/x-python",
   "name": "python",
   "nbconvert_exporter": "python",
   "pygments_lexer": "ipython3",
   "version": "3.8.5"
  }
 },
 "nbformat": 4,
 "nbformat_minor": 4
}
