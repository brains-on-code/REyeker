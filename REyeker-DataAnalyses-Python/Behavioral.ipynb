{
 "cells": [
  {
   "cell_type": "code",
   "execution_count": 1,
   "metadata": {},
   "outputs": [],
   "source": [
    "import pandas as pd\n",
    "\n",
    "%matplotlib inline\n",
    "import matplotlib.pyplot as plt\n",
    "\n",
    "import numpy as np\n",
    "\n",
    "from pathlib import Path\n",
    "\n",
    "import re\n",
    "\n",
    "import modules.rEYEkerAnalysis as rEYEker\n",
    "\n",
    "from scipy import stats\n",
    "\n",
    "from chord import Chord"
   ]
  },
  {
   "cell_type": "code",
   "execution_count": 16,
   "metadata": {},
   "outputs": [],
   "source": [
    "config_prefix = ['BR', 'BI', 'TR', 'TI']\n",
    "\n",
    "config_algo_names = ['BinarySearch', 'BubbleSort', 'Factorial', 'Fibonacci', 'IntegerBinary', 'MultiplyMatrix', 'PrimeFactors', 'ReverseString']\n",
    "\n",
    "config_id_variable = \"CASE\"\n",
    "\n",
    "config_answer_variables = [\n",
    "    ['A310_01', 'A414_01', 'A214_01', 'A106_01'],\n",
    "    ['BR02_01', 'BI02_01', 'TR02_01', 'TI02_01'],\n",
    "    ['BR06_01', 'BI06_01', 'TR06_01', 'TI06_01'],\n",
    "    ['BR10_01', 'BI10_01', 'TR10_01', 'TI10_01'],\n",
    "    ['A406_01', 'A302_01', 'A102_01', 'A206_01'],\n",
    "    ['A210_01', 'A114_01', 'A314_01', 'A402_01'],\n",
    "    ['A110_01', 'A202_01', 'A410_01', 'A306_01'],\n",
    "    ['BR14_01', 'BI14_01', 'TR14_01', 'TI14_01'],\n",
    "]\n",
    "\n",
    "config_time_variables = [\n",
    "    ['TIME049','TIME070','TIME036','TIME015'],\n",
    "    ['TIME021','TIME055','TIME005','TIME038'],\n",
    "    ['TIME006','TIME040','TIME025','TIME061'],\n",
    "    ['TIME059','TIME023','TIME042','TIME008'],\n",
    "    ['TIME066','TIME051','TIME017','TIME032'],\n",
    "    ['TIME034','TIME019','TIME053','TIME064'],\n",
    "    ['TIME013','TIME030','TIME068','TIME047'],\n",
    "    ['TIME044','TIME010','TIME057','TIME027'],\n",
    "]\n",
    "\n",
    "\n",
    "config_answer_patterns = [\n",
    "    ['3', '3', '3', '3'],\n",
    "    ['3.*16.*23.*42.*61.*75.*536','3.*16.*23.*42.*61.*75.*536','3.*16.*23.*42.*61.*75.*536','3.*16.*23.*42.*61.*75.*536'],\n",
    "    ['6','6','120','120'],\n",
    "    ['2', '2','2','2'],\n",
    "    ['1.*0.*0.*0.*1','1.*0.*0.*0.*1','1.*0.*0.*0.*1','1.*0.*0.*0.*1'],\n",
    "    ['6.*6.*6.*12.*12.*12.*18.*18.*18','6.*6.*6.*12.*12.*12.*18.*18.*18','6.*6.*6.*12.*12.*12.*18.*18.*18','6.*6.*6.*12.*12.*12.*18.*18.*18'],\n",
    "    ['3.*5','3.*5','3.*5','3.*5'],\n",
    "    ['gnikcar[tT].*ey[eE]','gnikcar[tT].*ey[eE]','gnikcar[tT].*ey[eE]','gnikcar[tT].*ey[eE]']\n",
    "]\n",
    "\n",
    "\n",
    "config_datasheet = r'./Book5.xlsx'"
   ]
  },
  {
   "cell_type": "code",
   "execution_count": 17,
   "metadata": {},
   "outputs": [],
   "source": [
    "df_matrix = []\n",
    "raw = pd.read_excel(config_datasheet)\n",
    "\n",
    "# load data\n",
    "for row, _stuff in enumerate(config_algo_names):\n",
    "    df_array = []\n",
    "    for col, _stuff in enumerate(config_prefix):\n",
    "        df = pd.DataFrame(raw, columns = [config_id_variable, config_answer_variables[row][col], config_time_variables[row][col]])\n",
    "        df = df.iloc[1:]\n",
    "        df = df.dropna()\n",
    "        df_array.append(df)\n",
    "    df_matrix.append(df_array)"
   ]
  },
  {
   "cell_type": "code",
   "execution_count": 18,
   "metadata": {},
   "outputs": [],
   "source": [
    "['BR', 'BI', 'TR', 'TI']\n",
    "cols = [\"id\", \"response_time\", \"correctness\", \"flag\"]\n",
    "df_BU_R = pd.DataFrame(columns=cols)\n",
    "df_BU_I = pd.DataFrame(columns=cols)\n",
    "df_TD_R = pd.DataFrame(columns=cols)\n",
    "df_TD_I = pd.DataFrame(columns=cols)\n",
    "\n",
    "for row_idx, df_row in enumerate(df_matrix):\n",
    "    for col, df in enumerate(df_row):\n",
    "        \n",
    "        pattern = config_answer_patterns[row_idx][col]\n",
    "        regex = re.compile(pattern)\n",
    "        \n",
    "        for index, row in df.iterrows():\n",
    "\n",
    "            id_value =  row[\"CASE\"]\n",
    "            response_time = int(row[config_time_variables[row_idx][col]])\n",
    "            answer = row[config_answer_variables[row_idx][col]]\n",
    "            result = regex.match(str(answer))\n",
    "            correctness = False\n",
    "            \n",
    "            if result is not None:\n",
    "                correctness = True\n",
    "                \n",
    "            flag = \"\"\n",
    "            data = pd.DataFrame([[id_value, response_time, correctness, flag]], columns=cols)\n",
    "                  \n",
    "            if col == 0:\n",
    "                df_BU_R = df_BU_R.append(data)\n",
    "            elif col == 1:\n",
    "                df_BU_I = df_BU_I.append(data)\n",
    "            elif col == 2:\n",
    "                df_TD_R = df_TD_R.append(data)\n",
    "            else:\n",
    "                df_TD_I = df_TD_I.append(data)  "
   ]
  },
  {
   "cell_type": "code",
   "execution_count": 19,
   "metadata": {},
   "outputs": [],
   "source": [
    "df_array_independent = [df_BU_R, df_BU_I, df_TD_R, df_TD_I]\n",
    "df_means = [df[[\"response_time\"]].mean() for df in df_array_independent]\n",
    "df_stds = [df[[\"response_time\"]].std() for df in df_array_independent]\n",
    "df_len_b4 = [len(df) for df in df_array_independent]"
   ]
  },
  {
   "cell_type": "code",
   "execution_count": 20,
   "metadata": {},
   "outputs": [],
   "source": [
    "for idx, df in enumerate(df_array_independent):\n",
    "    mean = float(df_means[idx])\n",
    "    stddev = float(df_stds[idx])\n",
    "    for idx, row in df.iterrows():\n",
    "        response_time = row[\"response_time\"]\n",
    "        if not(30 <= response_time <= mean+2*stddev):\n",
    "            row[\"flag\"] = \"outlier\""
   ]
  },
  {
   "cell_type": "code",
   "execution_count": 39,
   "metadata": {},
   "outputs": [
    {
     "name": "stdout",
     "output_type": "stream",
     "text": [
      "    id response_time correctness     flag\n",
      "0  750           195        True  outlier\n",
      "0  815           195        True  outlier\n",
      "0  854           195       False  outlier\n",
      "0  852           195       False  outlier\n",
      "0  764           195       False  outlier\n"
     ]
    }
   ],
   "source": [
    "with pd.option_context('display.max_rows', None, 'display.max_columns', None):  # more options can be specified also\n",
    "    print(df_array_independent[0].loc[df_array_independent[0][\"flag\"]==\"outlier\"])"
   ]
  },
  {
   "cell_type": "code",
   "execution_count": 40,
   "metadata": {},
   "outputs": [
    {
     "name": "stdout",
     "output_type": "stream",
     "text": [
      "    id response_time correctness     flag\n",
      "0  717           198       False  outlier\n",
      "0  815           198        True  outlier\n",
      "0  716           198        True  outlier\n",
      "0  773           198        True  outlier\n",
      "0  852           198       False  outlier\n"
     ]
    }
   ],
   "source": [
    "with pd.option_context('display.max_rows', None, 'display.max_columns', None):  # more options can be specified also\n",
    "    print(df_array_independent[1].loc[df_array_independent[1][\"flag\"]==\"outlier\"])"
   ]
  },
  {
   "cell_type": "code",
   "execution_count": 41,
   "metadata": {},
   "outputs": [
    {
     "name": "stdout",
     "output_type": "stream",
     "text": [
      "    id response_time correctness     flag\n",
      "0  699           149       False  outlier\n",
      "0  700           149        True  outlier\n",
      "0  734           149       False  outlier\n",
      "0  767           149       False  outlier\n",
      "0  825           149       False  outlier\n",
      "0  837           149       False  outlier\n",
      "0  859           149       False  outlier\n",
      "0  946           149       False  outlier\n",
      "0  889           149       False  outlier\n",
      "0  784           149       False  outlier\n",
      "0  735           149       False  outlier\n",
      "0  941           149       False  outlier\n",
      "0  804           149        True  outlier\n",
      "0  851           149       False  outlier\n"
     ]
    }
   ],
   "source": [
    "with pd.option_context('display.max_rows', None, 'display.max_columns', None):  # more options can be specified also\n",
    "    print(df_array_independent[2].loc[df_array_independent[2][\"flag\"]==\"outlier\"])"
   ]
  },
  {
   "cell_type": "code",
   "execution_count": 42,
   "metadata": {},
   "outputs": [
    {
     "name": "stdout",
     "output_type": "stream",
     "text": [
      "    id response_time correctness     flag\n",
      "0  638           193       False  outlier\n",
      "0  868           193       False  outlier\n",
      "0  803           193        True  outlier\n",
      "0  867           193        True  outlier\n",
      "0  772           193       False  outlier\n"
     ]
    }
   ],
   "source": [
    "with pd.option_context('display.max_rows', None, 'display.max_columns', None):  # more options can be specified also\n",
    "    print(df_array_independent[3].loc[df_array_independent[3][\"flag\"]==\"outlier\"])"
   ]
  },
  {
   "cell_type": "code",
   "execution_count": 25,
   "metadata": {},
   "outputs": [
    {
     "data": {
      "text/plain": [
       "[response_time    195.423611\n",
       " dtype: float64,\n",
       " response_time    198.418919\n",
       " dtype: float64,\n",
       " response_time    149.170543\n",
       " dtype: float64,\n",
       " response_time    193.550633\n",
       " dtype: float64]"
      ]
     },
     "execution_count": 25,
     "metadata": {},
     "output_type": "execute_result"
    }
   ],
   "source": [
    "df_means = [df.loc[df[\"flag\"]!=\"outlier\"][[\"response_time\"]].mean() for df in df_array_independent]\n",
    "df_stds = [df.loc[df[\"flag\"]!=\"outlier\"][[\"response_time\"]].std() for df in df_array_independent]\n",
    "df_len_after = [len(df.loc[df[\"flag\"]!=\"outlier\"]) for df in df_array_independent]\n",
    "\n",
    "df_deleted_amount = [df_len_b4[idx]-df_len_after[idx] for idx in range(len(df_len_after))]\n",
    "df_means"
   ]
  },
  {
   "cell_type": "code",
   "execution_count": 26,
   "metadata": {},
   "outputs": [],
   "source": [
    "for idx, df in enumerate(df_array_independent):\n",
    "    df.loc[df[\"flag\"] == \"outlier\", \"response_time\"] = int(df_means[idx])"
   ]
  },
  {
   "cell_type": "code",
   "execution_count": 28,
   "metadata": {},
   "outputs": [],
   "source": [
    "cols = [\"id\", \"response_time\", \"correctness\", \"flag\"]\n",
    "inserted = [] \n",
    "\n",
    "for idx1, df in enumerate(df_array_independent):\n",
    "    for idx2, row in df.iterrows():\n",
    "        id_value = row[\"id\"]\n",
    "        entries_id_BU_R = df_BU_R.loc[(df_BU_R[\"id\"] == id_value) & (df_BU_R[\"flag\"] == \"outlier\")]\n",
    "        entries_id_BU_I = df_BU_I.loc[(df_BU_I[\"id\"] == id_value) & (df_BU_I[\"flag\"] == \"outlier\")] \n",
    "        entries_id_TD_R = df_TD_R.loc[(df_TD_R[\"id\"] == id_value) & (df_TD_R[\"flag\"] == \"outlier\")]\n",
    "        entries_id_TD_I = df_TD_R.loc[(df_TD_R[\"id\"] == id_value) & (df_TD_R[\"flag\"] == \"outlier\")]\n",
    "        \n",
    "        df_per_participant = entries_id_BU_R\n",
    "        df_per_participant = df_per_participant.append(entries_id_BU_I)\n",
    "        df_per_participant = df_per_participant.append(entries_id_TD_R)\n",
    "        df_per_participant = df_per_participant.append(entries_id_TD_I)\n",
    "        \n",
    "        number_of_outliers_per_participant = len(df_per_participant)\n",
    "        \n",
    "        if number_of_outliers_per_participant > 2:\n",
    "            df_BU_R = df_BU_R.loc[df_BU_R[\"id\"]!=id_value]\n",
    "            df_BU_I = df_BU_I.loc[df_BU_I[\"id\"]!=id_value]\n",
    "            df_TD_R = df_TD_R.loc[df_TD_R[\"id\"]!=id_value]\n",
    "            df_TD_I = df_TD_I.loc[df_TD_I[\"id\"]!=id_value]\n",
    "            \n",
    "df_array_independent = [df_BU_R, df_BU_I, df_TD_R, df_TD_I]"
   ]
  },
  {
   "cell_type": "code",
   "execution_count": 29,
   "metadata": {},
   "outputs": [],
   "source": [
    "for id, missing in inserted:\n",
    "    missing = str(missing) + \" where missing\"\n",
    "    df_BU_R.loc[(df_BU_R[\"id\"] == id) & (df_BU_R[\"flag\"] == \"\"), \"flag\"] = missing\n",
    "    df_BU_I.loc[(df_BU_I[\"id\"] == id) & (df_BU_I[\"flag\"] == \"\"), \"flag\"] = missing\n",
    "    df_TD_R.loc[(df_TD_R[\"id\"] == id) & (df_TD_R[\"flag\"] == \"\"), \"flag\"] = missing\n",
    "    df_TD_I.loc[(df_TD_I[\"id\"] == id) & (df_TD_I[\"flag\"] == \"\"), \"flag\"] = missing"
   ]
  },
  {
   "cell_type": "code",
   "execution_count": 30,
   "metadata": {},
   "outputs": [
    {
     "data": {
      "text/plain": [
       "[29, 27, 27, 28]"
      ]
     },
     "execution_count": 30,
     "metadata": {},
     "output_type": "execute_result"
    }
   ],
   "source": [
    "df_len_after2 = [len(df) for df in df_array_independent]\n",
    "df_deleted_amount = [df_len_b4[idx]-df_len_after2[idx] for idx in range(len(df_len_after2))]\n",
    "df_deleted_amount"
   ]
  },
  {
   "cell_type": "code",
   "execution_count": 37,
   "metadata": {},
   "outputs": [
    {
     "data": {
      "text/plain": [
       "[0.44776119402985076,\n",
       " 0.5514705882352942,\n",
       " 0.4492753623188406,\n",
       " 0.6197183098591549]"
      ]
     },
     "execution_count": 37,
     "metadata": {},
     "output_type": "execute_result"
    }
   ],
   "source": [
    "total_answers = [len(df) for df in df_array_independent]\n",
    "total_correct = [len(df.loc[df[\"correctness\"]==True]) for df in df_array_independent]\n",
    "percentage = [float(correct)/float(total) for correct, total in zip(total_correct, total_answers)]\n",
    "percentage"
   ]
  },
  {
   "cell_type": "code",
   "execution_count": 43,
   "metadata": {},
   "outputs": [
    {
     "data": {
      "text/plain": [
       "[60, 75, 62, 88]"
      ]
     },
     "execution_count": 43,
     "metadata": {},
     "output_type": "execute_result"
    }
   ],
   "source": [
    "total_correct"
   ]
  },
  {
   "cell_type": "code",
   "execution_count": 44,
   "metadata": {},
   "outputs": [
    {
     "data": {
      "text/plain": [
       "Power_divergenceResult(statistic=7.112280701754386, pvalue=0.06840381915557886)"
      ]
     },
     "execution_count": 44,
     "metadata": {},
     "output_type": "execute_result"
    }
   ],
   "source": [
    "from scipy.stats import chisquare\n",
    "chisquare(total_correct)"
   ]
  },
  {
   "cell_type": "code",
   "execution_count": 45,
   "metadata": {},
   "outputs": [],
   "source": [
    "import statsmodels.api as sm\n",
    "from statsmodels.formula.api import ols\n",
    "\n",
    "response_times = []\n",
    "\n",
    "model = ols('height ~ C(water) + C(sun) + C(water):C(sun)', data=df).fit()\n",
    "sm.stats.anova_lm(model, typ=2)"
   ]
  }
 ],
 "metadata": {
  "kernelspec": {
   "display_name": "Python 3",
   "language": "python",
   "name": "python3"
  },
  "language_info": {
   "codemirror_mode": {
    "name": "ipython",
    "version": 3
   },
   "file_extension": ".py",
   "mimetype": "text/x-python",
   "name": "python",
   "nbconvert_exporter": "python",
   "pygments_lexer": "ipython3",
   "version": "3.8.5"
  }
 },
 "nbformat": 4,
 "nbformat_minor": 4
}
