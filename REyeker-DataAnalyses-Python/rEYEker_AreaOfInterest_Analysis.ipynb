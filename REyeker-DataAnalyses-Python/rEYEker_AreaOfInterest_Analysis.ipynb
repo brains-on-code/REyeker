{
 "cells": [
  {
   "cell_type": "markdown",
   "metadata": {},
   "source": [
    "# Areas of Interest Data Analysis"
   ]
  },
  {
   "cell_type": "code",
   "execution_count": 100,
   "metadata": {},
   "outputs": [],
   "source": [
    "# lib for dataframes\n",
    "import pandas as pd\n",
    "\n",
    "\n",
    "from scipy import stats\n",
    "\n",
    "from chord import Chord"
   ]
  },
  {
   "cell_type": "markdown",
   "metadata": {},
   "source": [
    "Config"
   ]
  },
  {
   "cell_type": "code",
   "execution_count": 101,
   "metadata": {},
   "outputs": [],
   "source": [
    "config_prefix = ['BR', 'BI', 'TR', 'TI']\n",
    "\n",
    "config_datasheet = r'./preprocessed.xlsx'"
   ]
  },
  {
   "cell_type": "markdown",
   "metadata": {},
   "source": [
    "Import Dataframe"
   ]
  },
  {
   "cell_type": "code",
   "execution_count": 102,
   "metadata": {},
   "outputs": [],
   "source": [
    "df_matrix = []\n",
    "raw = pd.read_excel(config_datasheet)\n",
    "df = pd.DataFrame(raw)\n",
    "df = df.loc[df[\"Flag\"]!=\"outlier\"]"
   ]
  },
  {
   "cell_type": "markdown",
   "metadata": {},
   "source": [
    "Prepare Image Paths"
   ]
  },
  {
   "cell_type": "code",
   "execution_count": 103,
   "metadata": {},
   "outputs": [],
   "source": [
    "algo_name_array = [name for name in df[\"Algorithm\"].unique()]\n",
    "aoi_cat_path_matrix = []\n",
    "\n",
    "for algo_name in algo_name_array:\n",
    "    aoi_array =[\n",
    "        'data/aoi_categorized/AOI_BR_' + algo_name + '.xlsx',\n",
    "        'data/aoi_categorized/AOI_BI_' + algo_name + '.xlsx',\n",
    "        'data/aoi_categorized/AOI_TR_' + algo_name + '.xlsx',\n",
    "        'data/aoi_categorized/AOI_TI_' + algo_name + '.xlsx',\n",
    "    ]\n",
    "    aoi_cat_path_matrix.append(aoi_array)"
   ]
  },
  {
   "cell_type": "markdown",
   "metadata": {},
   "source": [
    "Load AOI to dataframe"
   ]
  },
  {
   "cell_type": "code",
   "execution_count": 104,
   "metadata": {},
   "outputs": [],
   "source": [
    "aoi_df_matrix = []\n",
    "for path_array in aoi_cat_path_matrix:\n",
    "    aoi_df_array = []\n",
    "    for path in path_array:\n",
    "        raw = pd.read_excel(path)\n",
    "        tmp_df = pd.DataFrame(raw)\n",
    "        aoi_df_array.append(tmp_df)\n",
    "    aoi_df_matrix.append(aoi_df_array) "
   ]
  },
  {
   "cell_type": "markdown",
   "metadata": {},
   "source": [
    "Split DataFrames"
   ]
  },
  {
   "cell_type": "code",
   "execution_count": 107,
   "metadata": {},
   "outputs": [],
   "source": [
    "df_BU_R = df.loc[(df[\"Comprehension\"]==\"BU\") & (df[\"ProgrammingStyle\"]==\"R\")]\n",
    "df_BU_I = df.loc[(df[\"Comprehension\"]==\"BU\") & (df[\"ProgrammingStyle\"]==\"I\")]\n",
    "df_TD_R = df.loc[(df[\"Comprehension\"]==\"TD\") & (df[\"ProgrammingStyle\"]==\"R\")]\n",
    "df_TD_I = df.loc[(df[\"Comprehension\"]==\"TD\") & (df[\"ProgrammingStyle\"]==\"I\")]\n",
    "\n",
    "df_array = [df_BU_R, df_BU_I, df_TD_R, df_TD_I]"
   ]
  },
  {
   "cell_type": "markdown",
   "metadata": {},
   "source": [
    "Cast Data to Valid format"
   ]
  },
  {
   "cell_type": "code",
   "execution_count": 119,
   "metadata": {},
   "outputs": [],
   "source": [
    "#cast data to valid format\n",
    "\n",
    "def to_valid(string_points: str):\n",
    "    string_points = string_points.strip()\n",
    "    \n",
    "    coordinate_str_array = string_points.split(\" \")\n",
    "    coordinates = []\n",
    "    for coordinate_str in coordinate_str_array:\n",
    "        coordinate = coordinate_str.split(\"-\")\n",
    "        coordinate = (int(coordinate[1]))\n",
    "        coordinates.append(coordinate) \n",
    "    return coordinates"
   ]
  },
  {
   "cell_type": "code",
   "execution_count": 120,
   "metadata": {},
   "outputs": [],
   "source": [
    "iterative = ['none', 'main', 'Iterative definition', 'Pre calculation', 'Iteration Condition', 'Iteration Step', 'Return Result']\n",
    "recursive = ['none','main', 'Recursive definition', 'Pre calculation', 'Recursive Condition', 'Recursive Step', 'Return Result']\n",
    "order = ['0', '1', '2', '3', '4', '5', '6']"
   ]
  },
  {
   "cell_type": "code",
   "execution_count": 121,
   "metadata": {},
   "outputs": [],
   "source": [
    "def is_in(df, y):\n",
    "    for _idx, row in df.iterrows():\n",
    "        if row[\"startHeight\"] <= y <= row[\"stopHeight\"]:\n",
    "            return row[\"Name\"]\n",
    "    return \"none\""
   ]
  },
  {
   "cell_type": "code",
   "execution_count": 128,
   "metadata": {},
   "outputs": [
    {
     "data": {
      "text/plain": [
       "4"
      ]
     },
     "execution_count": 128,
     "metadata": {},
     "output_type": "execute_result"
    }
   ],
   "source": [
    "cols = [\"startHeight\", \"stopHeight\", \"startWidth\", \"stopWidth\", \"Name\"]\n",
    "\n",
    "relation_tensor = []\n",
    "for idx, df in enumerate(df_array):\n",
    "    names = None\n",
    "    if idx % 2 == 0:\n",
    "        names = recursive\n",
    "    else:\n",
    "        names = iterative\n",
    "        \n",
    "    relation = []\n",
    "    for i in range(len(names)):\n",
    "        relation.append([0]*len(names))\n",
    "    \n",
    "    \n",
    "    for row_idx, row in df.iterrows():\n",
    "        algo_name = row[\"Algorithm\"]\n",
    "        aoi_df = aoi_df_matrix[algo_name_array.index(algo_name)][idx]\n",
    "        click_data = row[\"ClickData\"] \n",
    "        click_data = to_valid(click_data)\n",
    "        labels = [is_in(aoi_df, coord) for coord in click_data]\n",
    "        \n",
    "        for i in range(len(labels)-1):\n",
    "            from_node = names.index(labels[i])\n",
    "            to_node = names.index(labels[i+1])\n",
    "            \n",
    "            relation[from_node][to_node] += 1\n",
    "    relation_tensor.append(relation)"
   ]
  },
  {
   "cell_type": "code",
   "execution_count": 132,
   "metadata": {},
   "outputs": [],
   "source": [
    "for matrix in relation_tensor:\n",
    "    for idx in range(len(matrix)):\n",
    "        matrix[idx][idx] = 0"
   ]
  },
  {
   "cell_type": "code",
   "execution_count": 134,
   "metadata": {},
   "outputs": [],
   "source": [
    "Chord(relation_tensor[0], order, padding=0.1).to_html(\"BR_general.html\")\n",
    "Chord(relation_tensor[1], order, padding=0.1).to_html(\"BI_general.html\")"
   ]
  },
  {
   "cell_type": "code",
   "execution_count": 136,
   "metadata": {},
   "outputs": [],
   "source": [
    "Chord(relation_tensor[2], order, padding=0.1).to_html(\"TR_general.html\")\n",
    "Chord(relation_tensor[3], order, padding=0.1).to_html(\"TI_general.html\")"
   ]
  },
  {
   "cell_type": "code",
   "execution_count": 16,
   "metadata": {},
   "outputs": [
    {
     "data": {
      "text/plain": [
       "559"
      ]
     },
     "execution_count": 16,
     "metadata": {},
     "output_type": "execute_result"
    }
   ],
   "source": [
    "from pathlib import Path\n",
    "\n",
    "file = Path('BR_general.html')\n",
    "file.write_text(file.read_text().replace('True', 'true'))\n",
    "\n",
    "file = Path('BI_general.html')\n",
    "file.write_text(file.read_text().replace('True', 'true'))\n",
    "\n",
    "file = Path('TR_general.html')\n",
    "file.write_text(file.read_text().replace('True', 'true'))\n",
    "\n",
    "file = Path('TI_general.html')\n",
    "file.write_text(file.read_text().replace('True', 'true'))\n"
   ]
  },
  {
   "cell_type": "code",
   "execution_count": 24,
   "metadata": {},
   "outputs": [],
   "source": [
    "names = [\"Action\", \"Adventure\", \"Comedy\", \"Drama\", \"Fantasy\", \"Thriller\"]\n",
    "\n",
    "matrix = [\n",
    "    [0, 5, 6, 4, 7, 4],\n",
    "    [5, 0, 5, 4, 6, 5],\n",
    "    [6, 5, 0, 4, 5, 5],\n",
    "    [4, 4, 4, 0, 5, 5],\n",
    "    [7, 6, 5, 5, 0, 4],\n",
    "    [4, 5, 5, 5, 4, 0]\n",
    "]\n",
    "\n",
    "Chord(matrix, names).to_html()"
   ]
  },
  {
   "cell_type": "code",
   "execution_count": null,
   "metadata": {},
   "outputs": [],
   "source": []
  }
 ],
 "metadata": {
  "kernelspec": {
   "display_name": "Python 3",
   "language": "python",
   "name": "python3"
  },
  "language_info": {
   "codemirror_mode": {
    "name": "ipython",
    "version": 3
   },
   "file_extension": ".py",
   "mimetype": "text/x-python",
   "name": "python",
   "nbconvert_exporter": "python",
   "pygments_lexer": "ipython3",
   "version": "3.8.5"
  }
 },
 "nbformat": 4,
 "nbformat_minor": 4
}
