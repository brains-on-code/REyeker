{
 "cells": [
  {
   "cell_type": "markdown",
   "metadata": {},
   "source": [
    "# Areas of Interest Data Analysis"
   ]
  },
  {
   "cell_type": "code",
   "execution_count": 96,
   "metadata": {},
   "outputs": [],
   "source": [
    "import pandas as pd\n",
    "\n",
    "%matplotlib inline\n",
    "import matplotlib.pyplot as plt\n",
    "\n",
    "import numpy as np\n",
    "\n",
    "from pathlib import Path\n",
    "\n",
    "import re\n",
    "\n",
    "import modules.rEYEkerAnalysis as rEYEker"
   ]
  },
  {
   "cell_type": "code",
   "execution_count": 97,
   "metadata": {},
   "outputs": [],
   "source": [
    "config_prefix = ['BR', 'BI', 'TR', 'TI']\n",
    "\n",
    "config_algo_names = ['BinarySearch', 'BubbleSort', 'Factorial', 'Fibonacci', 'IntegerBinary', 'MultiplyMatrix', 'PrimeFactors', 'ReverseString']\n",
    "\n",
    "config_click_variables = [\n",
    "    ['A319_01', 'A420_01', 'A220_01', 'A118_01'],\n",
    "    ['BR18_01', 'BI18_01', 'TR18_01', 'TI18_01'],\n",
    "    ['BR19_01', 'BI19_01', 'TR19_01', 'TI19_01'],\n",
    "    ['BR20_01', 'BI20_01', 'TR20_01', 'TI20_01'],\n",
    "    ['A418_01', 'A317_01', 'A117_01', 'A218_01'],\n",
    "    ['A219_01', 'A120_01', 'A320_01', 'A417_01'],\n",
    "    ['A119_01', 'A217_01', 'A419_01', 'A318_01'],\n",
    "    ['BR21_01', 'BI21_01', 'TR21_01', 'TI21_01']\n",
    "]\n",
    "\n",
    "config_answer_variables = [\n",
    "    ['A310_01', 'A414_01', 'A214_01', 'A106_01'],\n",
    "    ['BR02_01', 'BI02_01', 'TR02_01', 'TI02_01'],\n",
    "    ['BR06_01', 'BI06_01', 'TR06_01', 'TI06_01'],\n",
    "    ['BR10_01', 'BI10_01', 'TR10_01', 'TI10_01'],\n",
    "    ['A406_01', 'A302_01', 'A102_01', 'A206_01'],\n",
    "    ['A210_01', 'A114_01', 'A314_01', 'A402_01'],\n",
    "    ['A110_01', 'A202_01', 'A410_01', 'A306_01'],\n",
    "    ['BR14_01', 'BI14_01', 'TR14_01', 'TI14_01'],\n",
    "]\n",
    "\n",
    "config_time_variables = [\n",
    "    ['TIME049','TIME070','TIME036','TIME015'],\n",
    "    ['TIME021','TIME055','TIME005','TIME038'],\n",
    "    ['TIME006','TIME040','TIME025','TIME061'],\n",
    "    ['TIME059', 'TIME023', 'TIME042', 'TIME008'],\n",
    "    ['TIME066','TIME051','TIME017','TIME032'],\n",
    "    ['TIME034','TIME019','TIME053','TIME064'],\n",
    "    ['TIME013','TIME030','TIME068','TIME047'],\n",
    "    ['TIME044','TIME010','TIME057','TIME027'],\n",
    "]\n",
    "\n",
    "\n",
    "config_answer_patterns = [\n",
    "    ['3', '3', '3', '3'],\n",
    "    ['3.*16.*23.*42.*61.*75.*536','3.*16.*23.*42.*61.*75.*536','3.*16.*23.*42.*61.*75.*536','3.*16.*23.*42.*61.*75.*536'],\n",
    "    ['6','6','120','120'],\n",
    "    ['2', '2','2','2'],\n",
    "    ['1.*0.*0.*0.*1','1.*0.*0.*0.*1','1.*0.*0.*0.*1','1.*0.*0.*0.*1'],\n",
    "    ['6.*6.*6.*12.*12.*12.*18.*18.*18','6.*6.*6.*12.*12.*12.*18.*18.*18','6.*6.*6.*12.*12.*12.*18.*18.*18','6.*6.*6.*12.*12.*12.*18.*18.*18'],\n",
    "    ['3.*5','3.*5','3.*5','3.*5'],\n",
    "    ['gnikcar[tT].*ey[eE]','gnikcar[tT].*ey[eE]','gnikcar[tT].*ey[eE]','gnikcar[tT].*ey[eE]']\n",
    "]\n",
    "\n",
    "\n",
    "config_reyeker_settings_path = \"data/example.json\"\n",
    "\n",
    "config_datasheet = r'./Book4.xlsx'\n",
    "\n",
    "config_alpha = 0.05"
   ]
  },
  {
   "cell_type": "code",
   "execution_count": 98,
   "metadata": {},
   "outputs": [],
   "source": [
    "image_paths = []\n",
    "\n",
    "for algo_name in config_algo_names:\n",
    "    image_array = []\n",
    "    for prefix in config_prefix:\n",
    "        image_array.append('images/' + prefix + '/' + prefix + '_' + algo_name + '.png')\n",
    "    image_paths.append(image_array)\n",
    "    \n",
    "aoi_datasheets = []\n",
    "for algo_name in config_algo_names:\n",
    "    datasheet_array = []\n",
    "    for prefix in config_prefix:\n",
    "        datasheet_array.append(prefix + '_' + algo_name + '.xlsx')\n",
    "    aoi_datasheets.append(datasheet_array)"
   ]
  },
  {
   "cell_type": "code",
   "execution_count": 99,
   "metadata": {},
   "outputs": [],
   "source": [
    "df_matrix = []\n",
    "raw = pd.read_excel(config_datasheet)\n",
    "\n",
    "# load data\n",
    "for column, _stuff in enumerate(config_algo_names):\n",
    "    df_array = []\n",
    "    for row, _stuff in enumerate(config_prefix):\n",
    "        df = pd.DataFrame(raw, columns = [config_click_variables[column][row], config_answer_variables[column][row], config_time_variables[column][row]])\n",
    "        df = df.iloc[1:]\n",
    "        df = df.dropna()\n",
    "        df_array.append(df)\n",
    "    df_matrix.append(df_array)"
   ]
  },
  {
   "cell_type": "code",
   "execution_count": null,
   "metadata": {},
   "outputs": [],
   "source": []
  },
  {
   "cell_type": "code",
   "execution_count": 100,
   "metadata": {},
   "outputs": [],
   "source": [
    "tmp_df_matrix = []\n",
    "\n",
    "#filter for right\n",
    "for row, df_row in enumerate(df_matrix):\n",
    "    tmp_df_array = []\n",
    "    for col, df in enumerate(df_row):\n",
    "        right_answer_pattern = config_answer_patterns[row][col]\n",
    "        regex = re.compile(right_answer_pattern)\n",
    "        answer_field = config_answer_variables[row][col]\n",
    "        \n",
    "        df_right = pd.DataFrame(columns = [config_click_variables[row][col], config_answer_variables[row][col], config_time_variables[row][col]])\n",
    "        \n",
    "        for _idx, df_row in df.iterrows():\n",
    "            result = regex.match(str(df_row[answer_field]))\n",
    "            if result is not None:\n",
    "                df_right = df_right.append(df_row)\n",
    "                \n",
    "        tmp_df_array.append(df_right)\n",
    "    tmp_df_matrix.append(tmp_df_array)\n",
    "                \n",
    "df_matrix = tmp_df_matrix"
   ]
  },
  {
   "cell_type": "code",
   "execution_count": null,
   "metadata": {},
   "outputs": [],
   "source": []
  },
  {
   "cell_type": "code",
   "execution_count": null,
   "metadata": {},
   "outputs": [],
   "source": [
    "tmp_df_matrix = []\n",
    "\n",
    "# filter for outliers\n",
    "for row, df_row in enumerate(df_matrix):\n",
    "    tmp_df_array = []\n",
    "    for col, df in enumerate(df_row):\n",
    "        time_field = config_time_variables[row][col]\n",
    "        \n",
    "        df_right = pd.DataFrame(columns = [config_click_variables[row][col], config_answer_variables[row][col], config_time_variables[row][col]])\n",
    "        \n",
    "        for _idx, df_row in df.iterrows():\n",
    "            result = regex.match(str(df_row[answer_field]))\n",
    "            if result is not None:\n",
    "                df_right = df_right.append(df_row)\n",
    "                \n",
    "        tmp_df_array.append(df_right)\n",
    "    tmp_df_matrix.append(tmp_df_array)\n",
    "                \n",
    "df_matrix = tmp_df_matrix"
   ]
  }
 ],
 "metadata": {
  "kernelspec": {
   "display_name": "Python 3",
   "language": "python",
   "name": "python3"
  },
  "language_info": {
   "codemirror_mode": {
    "name": "ipython",
    "version": 3
   },
   "file_extension": ".py",
   "mimetype": "text/x-python",
   "name": "python",
   "nbconvert_exporter": "python",
   "pygments_lexer": "ipython3",
   "version": "3.8.5"
  }
 },
 "nbformat": 4,
 "nbformat_minor": 4
}
