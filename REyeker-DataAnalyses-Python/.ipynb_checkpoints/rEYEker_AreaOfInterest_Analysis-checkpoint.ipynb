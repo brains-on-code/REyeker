{
 "cells": [
  {
   "cell_type": "markdown",
   "metadata": {},
   "source": [
    "# Areas of Interest Data Analysis"
   ]
  },
  {
   "cell_type": "code",
   "execution_count": 44,
   "metadata": {},
   "outputs": [],
   "source": [
    "# lib for dataframes\n",
    "import pandas as pd\n",
    "\n",
    "\n",
    "from scipy import stats\n",
    "\n",
    "from chord import Chord"
   ]
  },
  {
   "cell_type": "markdown",
   "metadata": {},
   "source": [
    "Config"
   ]
  },
  {
   "cell_type": "code",
   "execution_count": 45,
   "metadata": {},
   "outputs": [],
   "source": [
    "config_prefix = ['BR', 'BI', 'TR', 'TI']\n",
    "\n",
    "config_algo_names = ['BinarySearch', 'BubbleSort', 'Factorial', 'Fibonacci', 'IntegerBinary', 'MultiplyMatrix', 'PrimeFactors', 'ReverseString']\n",
    "\n",
    "config_datasheet = r'./preprocessed.xlsx'"
   ]
  },
  {
   "cell_type": "markdown",
   "metadata": {},
   "source": [
    "Import Dataframe"
   ]
  },
  {
   "cell_type": "code",
   "execution_count": 54,
   "metadata": {},
   "outputs": [],
   "source": [
    "df_matrix = []\n",
    "raw = pd.read_excel(config_datasheet)\n",
    "df = pd.DataFrame(raw)\n",
    "df = df.loc[df[\"Flag\"]!=\"outlier\"]"
   ]
  },
  {
   "cell_type": "markdown",
   "metadata": {},
   "source": [
    "Prepare Image Paths"
   ]
  },
  {
   "cell_type": "code",
   "execution_count": null,
   "metadata": {},
   "outputs": [],
   "source": []
  },
  {
   "cell_type": "markdown",
   "metadata": {},
   "source": [
    "Split DataFrames"
   ]
  },
  {
   "cell_type": "code",
   "execution_count": 55,
   "metadata": {},
   "outputs": [
    {
     "data": {
      "text/html": [
       "<div>\n",
       "<style scoped>\n",
       "    .dataframe tbody tr th:only-of-type {\n",
       "        vertical-align: middle;\n",
       "    }\n",
       "\n",
       "    .dataframe tbody tr th {\n",
       "        vertical-align: top;\n",
       "    }\n",
       "\n",
       "    .dataframe thead th {\n",
       "        text-align: right;\n",
       "    }\n",
       "</style>\n",
       "<table border=\"1\" class=\"dataframe\">\n",
       "  <thead>\n",
       "    <tr style=\"text-align: right;\">\n",
       "      <th></th>\n",
       "      <th>Subject</th>\n",
       "      <th>ProgrammingStyle</th>\n",
       "      <th>Comprehension</th>\n",
       "      <th>ResponseTime</th>\n",
       "      <th>Algorithm</th>\n",
       "      <th>Flag</th>\n",
       "      <th>Correctness</th>\n",
       "      <th>ClickData</th>\n",
       "    </tr>\n",
       "  </thead>\n",
       "  <tbody>\n",
       "    <tr>\n",
       "      <th>0</th>\n",
       "      <td>638</td>\n",
       "      <td>R</td>\n",
       "      <td>BU</td>\n",
       "      <td>296</td>\n",
       "      <td>BinarySearch</td>\n",
       "      <td>NaN</td>\n",
       "      <td>True</td>\n",
       "      <td>136-143 182-47 475-78 284-96 190-147 437-143 1...</td>\n",
       "    </tr>\n",
       "    <tr>\n",
       "      <th>2</th>\n",
       "      <td>784</td>\n",
       "      <td>R</td>\n",
       "      <td>BU</td>\n",
       "      <td>438</td>\n",
       "      <td>BinarySearch</td>\n",
       "      <td>NaN</td>\n",
       "      <td>True</td>\n",
       "      <td>176-32 413-60 216-110 426-77 209-116 286-166 5...</td>\n",
       "    </tr>\n",
       "    <tr>\n",
       "      <th>3</th>\n",
       "      <td>829</td>\n",
       "      <td>R</td>\n",
       "      <td>BU</td>\n",
       "      <td>449</td>\n",
       "      <td>BinarySearch</td>\n",
       "      <td>NaN</td>\n",
       "      <td>False</td>\n",
       "      <td>197-66 457-40 232-133 383-167 152-140 194-198 ...</td>\n",
       "    </tr>\n",
       "    <tr>\n",
       "      <th>4</th>\n",
       "      <td>841</td>\n",
       "      <td>R</td>\n",
       "      <td>BU</td>\n",
       "      <td>123</td>\n",
       "      <td>BinarySearch</td>\n",
       "      <td>NaN</td>\n",
       "      <td>True</td>\n",
       "      <td>195-40 450-92 201-104 196-137 535-171 208-217 ...</td>\n",
       "    </tr>\n",
       "    <tr>\n",
       "      <th>5</th>\n",
       "      <td>857</td>\n",
       "      <td>R</td>\n",
       "      <td>BU</td>\n",
       "      <td>467</td>\n",
       "      <td>BinarySearch</td>\n",
       "      <td>NaN</td>\n",
       "      <td>True</td>\n",
       "      <td>100-35 364-56 165-89 385-87 152-108 176-142 20...</td>\n",
       "    </tr>\n",
       "    <tr>\n",
       "      <th>...</th>\n",
       "      <td>...</td>\n",
       "      <td>...</td>\n",
       "      <td>...</td>\n",
       "      <td>...</td>\n",
       "      <td>...</td>\n",
       "      <td>...</td>\n",
       "      <td>...</td>\n",
       "      <td>...</td>\n",
       "    </tr>\n",
       "    <tr>\n",
       "      <th>143</th>\n",
       "      <td>877</td>\n",
       "      <td>R</td>\n",
       "      <td>BU</td>\n",
       "      <td>98</td>\n",
       "      <td>ReverseString</td>\n",
       "      <td>NaN</td>\n",
       "      <td>False</td>\n",
       "      <td>144-62 109-27 161-62 367-86 484-78 291-124 217...</td>\n",
       "    </tr>\n",
       "    <tr>\n",
       "      <th>144</th>\n",
       "      <td>889</td>\n",
       "      <td>R</td>\n",
       "      <td>BU</td>\n",
       "      <td>69</td>\n",
       "      <td>ReverseString</td>\n",
       "      <td>NaN</td>\n",
       "      <td>True</td>\n",
       "      <td>77-54 266-109 54-19 125-87 411-91 256-128 480-...</td>\n",
       "    </tr>\n",
       "    <tr>\n",
       "      <th>145</th>\n",
       "      <td>895</td>\n",
       "      <td>R</td>\n",
       "      <td>BU</td>\n",
       "      <td>69</td>\n",
       "      <td>ReverseString</td>\n",
       "      <td>NaN</td>\n",
       "      <td>True</td>\n",
       "      <td>150-61 147-29 170-60 432-82 301-105 397-136 21...</td>\n",
       "    </tr>\n",
       "    <tr>\n",
       "      <th>147</th>\n",
       "      <td>948</td>\n",
       "      <td>R</td>\n",
       "      <td>BU</td>\n",
       "      <td>174</td>\n",
       "      <td>ReverseString</td>\n",
       "      <td>NaN</td>\n",
       "      <td>True</td>\n",
       "      <td>152-82 402-73 388-125 322-141 329-61 331-113 3...</td>\n",
       "    </tr>\n",
       "    <tr>\n",
       "      <th>148</th>\n",
       "      <td>949</td>\n",
       "      <td>R</td>\n",
       "      <td>BU</td>\n",
       "      <td>97</td>\n",
       "      <td>ReverseString</td>\n",
       "      <td>NaN</td>\n",
       "      <td>False</td>\n",
       "      <td>171-41 208-98 320-140 390-217 329-258 314-304 ...</td>\n",
       "    </tr>\n",
       "  </tbody>\n",
       "</table>\n",
       "<p>136 rows × 8 columns</p>\n",
       "</div>"
      ],
      "text/plain": [
       "     Subject ProgrammingStyle Comprehension  ResponseTime      Algorithm Flag  \\\n",
       "0        638                R            BU           296   BinarySearch  NaN   \n",
       "2        784                R            BU           438   BinarySearch  NaN   \n",
       "3        829                R            BU           449   BinarySearch  NaN   \n",
       "4        841                R            BU           123   BinarySearch  NaN   \n",
       "5        857                R            BU           467   BinarySearch  NaN   \n",
       "..       ...              ...           ...           ...            ...  ...   \n",
       "143      877                R            BU            98  ReverseString  NaN   \n",
       "144      889                R            BU            69  ReverseString  NaN   \n",
       "145      895                R            BU            69  ReverseString  NaN   \n",
       "147      948                R            BU           174  ReverseString  NaN   \n",
       "148      949                R            BU            97  ReverseString  NaN   \n",
       "\n",
       "     Correctness                                          ClickData  \n",
       "0           True  136-143 182-47 475-78 284-96 190-147 437-143 1...  \n",
       "2           True  176-32 413-60 216-110 426-77 209-116 286-166 5...  \n",
       "3          False  197-66 457-40 232-133 383-167 152-140 194-198 ...  \n",
       "4           True  195-40 450-92 201-104 196-137 535-171 208-217 ...  \n",
       "5           True  100-35 364-56 165-89 385-87 152-108 176-142 20...  \n",
       "..           ...                                                ...  \n",
       "143        False  144-62 109-27 161-62 367-86 484-78 291-124 217...  \n",
       "144         True  77-54 266-109 54-19 125-87 411-91 256-128 480-...  \n",
       "145         True  150-61 147-29 170-60 432-82 301-105 397-136 21...  \n",
       "147         True  152-82 402-73 388-125 322-141 329-61 331-113 3...  \n",
       "148        False  171-41 208-98 320-140 390-217 329-258 314-304 ...  \n",
       "\n",
       "[136 rows x 8 columns]"
      ]
     },
     "execution_count": 55,
     "metadata": {},
     "output_type": "execute_result"
    }
   ],
   "source": [
    "df_BU_R = df.loc[(df[\"Comprehension\"]==\"BU\") & (df[\"ProgrammingStyle\"]==\"R\")]\n",
    "df_BU_I = df.loc[(df[\"Comprehension\"]==\"BU\") & (df[\"ProgrammingStyle\"]==\"I\")]\n",
    "df_TD_R = df.loc[(df[\"Comprehension\"]==\"TD\") & (df[\"ProgrammingStyle\"]==\"R\")]\n",
    "df_TD_I = df.loc[(df[\"Comprehension\"]==\"TD\") & (df[\"ProgrammingStyle\"]==\"I\")]\n",
    "\n",
    "df_array = [df_BU_R, df_BU_I, df_TD_R, df_TD_I]"
   ]
  },
  {
   "cell_type": "markdown",
   "metadata": {},
   "source": [
    "Cast Data to Valid format"
   ]
  },
  {
   "cell_type": "code",
   "execution_count": 51,
   "metadata": {},
   "outputs": [],
   "source": [
    "#cast data to valid format\n",
    "\n",
    "visual_stimulus_matrix = []\n",
    "\n",
    "for df in df_array:\n",
    "    visual_stimulus_array = []\n",
    "    for idx, row in df.iterrows():\n",
    "        data_str = row[\"ClickData\"]\n",
    "        data_str = data_str.strip()\n",
    "        \n",
    "        coordinate_str_array = data_str.split(\" \")\n",
    "        coordinates = []\n",
    "        for coordinate_str in coordinate_str_array:\n",
    "            coordinate = coordinate_str.split(\"-\")\n",
    "            coordinate = (int(coordinate[1]))\n",
    "            coordinates.append(coordinate)\n",
    "                \n",
    "        visual_stimulus_array.append(coordinates)\n",
    "    visual_stimulus_matrix.append(visual_stimulus_array)"
   ]
  },
  {
   "cell_type": "code",
   "execution_count": 11,
   "metadata": {},
   "outputs": [],
   "source": [
    "iterative = ['none', 'main', 'Iterative definition', 'Pre calculation', 'Iteration Condition', 'Iteration Step', 'Return Result']\n",
    "recursive = ['none','main', 'Recursive definition', 'Pre calculation', 'Recursive Condition', 'Recursive Step', 'Return Result']\n",
    "order = ['0', '1', '2', '3', '4', '5', '6']"
   ]
  },
  {
   "cell_type": "code",
   "execution_count": 12,
   "metadata": {},
   "outputs": [],
   "source": [
    "def is_in(df, y):\n",
    "    for _idx, row in df.iterrows():\n",
    "        if row[\"startHeight\"] <= y <= row[\"stopHeight\"]:\n",
    "            return row[\"Name\"]\n",
    "    return \"none\""
   ]
  },
  {
   "cell_type": "code",
   "execution_count": 13,
   "metadata": {},
   "outputs": [],
   "source": [
    "cols = [\"startHeight\", \"stopHeight\", \"startWidth\", \"stopWidth\", \"Name\"]\n",
    "\n",
    "relation_array = []\n",
    "for row in range(len(config_prefix)):\n",
    "    names = None\n",
    "    if row % 2 == 0:\n",
    "        names = recursive\n",
    "    else:\n",
    "        names = iterative\n",
    "    \n",
    "    relation = []\n",
    "    for i in range(len(names)):\n",
    "        relation.append([0]*len(names))\n",
    "    \n",
    "    for col in range(len(config_algo_names)):\n",
    "        datasheet = aoi_datasheets[col][row]\n",
    "        df = pd.read_excel(datasheet)\n",
    "        \n",
    "        for data_set in visual_stimulus_tensor[col][row]:\n",
    "            for idx in range(len(data_set)-1):\n",
    "                from_field = is_in(df, data_set[idx])\n",
    "                to_field = is_in(df, data_set[idx+1])\n",
    "        \n",
    "                from_field = names.index(from_field)\n",
    "                to_field = names.index(to_field)\n",
    "                \n",
    "                relation[from_field][to_field] = 1 + relation[from_field][to_field] \n",
    "                \n",
    "    relation_array.append(relation)"
   ]
  },
  {
   "cell_type": "code",
   "execution_count": 14,
   "metadata": {},
   "outputs": [],
   "source": [
    "for matrix in relation_array:\n",
    "    for idx in range(len(matrix)):\n",
    "        matrix[idx][idx] = 0"
   ]
  },
  {
   "cell_type": "code",
   "execution_count": 15,
   "metadata": {},
   "outputs": [],
   "source": [
    "Chord(relation_array[0], order, padding=0.1).to_html(\"BR_general.html\")\n",
    "Chord(relation_array[1], order, padding=0.1).to_html(\"BI_general.html\")"
   ]
  },
  {
   "cell_type": "code",
   "execution_count": 17,
   "metadata": {},
   "outputs": [],
   "source": [
    "Chord(relation_array[2], order, padding=0.1).to_html(\"TR_general.html\")\n",
    "Chord(relation_array[3], order, padding=0.1).to_html(\"TI_general.html\")"
   ]
  },
  {
   "cell_type": "code",
   "execution_count": 16,
   "metadata": {},
   "outputs": [
    {
     "data": {
      "text/plain": [
       "559"
      ]
     },
     "execution_count": 16,
     "metadata": {},
     "output_type": "execute_result"
    }
   ],
   "source": [
    "from pathlib import Path\n",
    "\n",
    "file = Path('BR_general.html')\n",
    "file.write_text(file.read_text().replace('True', 'true'))\n",
    "\n",
    "file = Path('BI_general.html')\n",
    "file.write_text(file.read_text().replace('True', 'true'))\n",
    "\n",
    "file = Path('TR_general.html')\n",
    "file.write_text(file.read_text().replace('True', 'true'))\n",
    "\n",
    "file = Path('TI_general.html')\n",
    "file.write_text(file.read_text().replace('True', 'true'))\n"
   ]
  },
  {
   "cell_type": "code",
   "execution_count": 24,
   "metadata": {},
   "outputs": [],
   "source": [
    "names = [\"Action\", \"Adventure\", \"Comedy\", \"Drama\", \"Fantasy\", \"Thriller\"]\n",
    "\n",
    "matrix = [\n",
    "    [0, 5, 6, 4, 7, 4],\n",
    "    [5, 0, 5, 4, 6, 5],\n",
    "    [6, 5, 0, 4, 5, 5],\n",
    "    [4, 4, 4, 0, 5, 5],\n",
    "    [7, 6, 5, 5, 0, 4],\n",
    "    [4, 5, 5, 5, 4, 0]\n",
    "]\n",
    "\n",
    "Chord(matrix, names).to_html()"
   ]
  },
  {
   "cell_type": "code",
   "execution_count": null,
   "metadata": {},
   "outputs": [],
   "source": []
  }
 ],
 "metadata": {
  "kernelspec": {
   "display_name": "Python 3",
   "language": "python",
   "name": "python3"
  },
  "language_info": {
   "codemirror_mode": {
    "name": "ipython",
    "version": 3
   },
   "file_extension": ".py",
   "mimetype": "text/x-python",
   "name": "python",
   "nbconvert_exporter": "python",
   "pygments_lexer": "ipython3",
   "version": "3.8.5"
  }
 },
 "nbformat": 4,
 "nbformat_minor": 4
}
