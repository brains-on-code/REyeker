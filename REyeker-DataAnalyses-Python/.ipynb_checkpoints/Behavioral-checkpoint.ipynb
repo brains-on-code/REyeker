{
 "cells": [
  {
   "cell_type": "code",
   "execution_count": 81,
   "metadata": {},
   "outputs": [],
   "source": [
    "import pandas as pd\n",
    "\n",
    "%matplotlib inline\n",
    "import matplotlib.pyplot as plt\n",
    "\n",
    "import numpy as np\n",
    "\n",
    "from pathlib import Path\n",
    "\n",
    "import re\n",
    "\n",
    "import modules.rEYEkerAnalysis as rEYEker\n",
    "\n",
    "from scipy import stats\n",
    "\n",
    "from chord import Chord"
   ]
  },
  {
   "cell_type": "code",
   "execution_count": 96,
   "metadata": {},
   "outputs": [],
   "source": [
    "config_prefix = ['BR', 'BI', 'TR', 'TI']\n",
    "\n",
    "config_algo_names = ['BinarySearch', 'BubbleSort', 'Factorial', 'Fibonacci', 'IntegerBinary', 'MultiplyMatrix', 'PrimeFactors', 'ReverseString']\n",
    "\n",
    "config_id_variable = \"CASE\"\n",
    "\n",
    "config_answer_variables = [\n",
    "    ['A310_01', 'A414_01', 'A214_01', 'A106_01'],\n",
    "    ['BR02_01', 'BI02_01', 'TR02_01', 'TI02_01'],\n",
    "    ['BR06_01', 'BI06_01', 'TR06_01', 'TI06_01'],\n",
    "    ['BR10_01', 'BI10_01', 'TR10_01', 'TI10_01'],\n",
    "    ['A406_01', 'A302_01', 'A102_01', 'A206_01'],\n",
    "    ['A210_01', 'A114_01', 'A314_01', 'A402_01'],\n",
    "    ['A110_01', 'A202_01', 'A410_01', 'A306_01'],\n",
    "    ['BR14_01', 'BI14_01', 'TR14_01', 'TI14_01'],\n",
    "]\n",
    "\n",
    "config_time_variables = [\n",
    "    ['TIME049','TIME070','TIME036','TIME015'],\n",
    "    ['TIME021','TIME055','TIME005','TIME038'],\n",
    "    ['TIME006','TIME040','TIME025','TIME061'],\n",
    "    ['TIME059','TIME023','TIME042','TIME008'],\n",
    "    ['TIME066','TIME051','TIME017','TIME032'],\n",
    "    ['TIME034','TIME019','TIME053','TIME064'],\n",
    "    ['TIME013','TIME030','TIME068','TIME047'],\n",
    "    ['TIME044','TIME010','TIME057','TIME027'],\n",
    "]\n",
    "\n",
    "\n",
    "config_answer_patterns = [\n",
    "    ['3', '3', '3', '3'],\n",
    "    ['3.*16.*23.*42.*61.*75.*536','3.*16.*23.*42.*61.*75.*536','3.*16.*23.*42.*61.*75.*536','3.*16.*23.*42.*61.*75.*536'],\n",
    "    ['6','6','120','120'],\n",
    "    ['2', '2','2','2'],\n",
    "    ['1.*0.*0.*0.*1','1.*0.*0.*0.*1','1.*0.*0.*0.*1','1.*0.*0.*0.*1'],\n",
    "    ['6.*6.*6.*12.*12.*12.*18.*18.*18','6.*6.*6.*12.*12.*12.*18.*18.*18','6.*6.*6.*12.*12.*12.*18.*18.*18','6.*6.*6.*12.*12.*12.*18.*18.*18'],\n",
    "    ['3.*5','3.*5','3.*5','3.*5'],\n",
    "    ['gnikcar[tT].*ey[eE]','gnikcar[tT].*ey[eE]','gnikcar[tT].*ey[eE]','gnikcar[tT].*ey[eE]']\n",
    "]\n",
    "\n",
    "\n",
    "config_datasheet = r'./Book5.xlsx'"
   ]
  },
  {
   "cell_type": "code",
   "execution_count": 97,
   "metadata": {},
   "outputs": [],
   "source": [
    "df_matrix = []\n",
    "raw = pd.read_excel(config_datasheet)\n",
    "\n",
    "# load data\n",
    "for row, _stuff in enumerate(config_algo_names):\n",
    "    df_array = []\n",
    "    for col, _stuff in enumerate(config_prefix):\n",
    "        df = pd.DataFrame(raw, columns = [config_id_variable, config_answer_variables[row][col], config_time_variables[row][col]])\n",
    "        df = df.iloc[1:]\n",
    "        df = df.dropna()\n",
    "        df_array.append(df)\n",
    "    df_matrix.append(df_array)"
   ]
  },
  {
   "cell_type": "code",
   "execution_count": 98,
   "metadata": {},
   "outputs": [],
   "source": [
    "['BR', 'BI', 'TR', 'TI']\n",
    "cols = [\"id\", \"response_time\", \"correctness\", \"flag\"]\n",
    "df_BU_R = pd.DataFrame(columns=cols)\n",
    "df_BU_I = pd.DataFrame(columns=cols)\n",
    "df_TD_R = pd.DataFrame(columns=cols)\n",
    "df_TD_I = pd.DataFrame(columns=cols)\n",
    "\n",
    "for row_idx, df_row in enumerate(df_matrix):\n",
    "    for col, df in enumerate(df_row):\n",
    "        \n",
    "        pattern = config_answer_patterns[row_idx][col]\n",
    "        regex = re.compile(pattern)\n",
    "        \n",
    "        for index, row in df.iterrows():\n",
    "\n",
    "            id_value =  row[\"CASE\"]\n",
    "            response_time = int(row[config_time_variables[row_idx][col]])\n",
    "            answer = row[config_answer_variables[row_idx][col]]\n",
    "            result = regex.match(str(answer))\n",
    "            correctness = False\n",
    "            \n",
    "            if result is not None:\n",
    "                correctness = True\n",
    "                \n",
    "            flag = \"\"\n",
    "            data = pd.DataFrame([[id_value, response_time, correctness, flag]], columns=cols)\n",
    "                  \n",
    "            if col == 0:\n",
    "                df_BU_R = df_BU_R.append(data)\n",
    "            elif col == 1:\n",
    "                df_BU_I = df_BU_I.append(data)\n",
    "            elif col == 2:\n",
    "                df_TD_R = df_TD_R.append(data)\n",
    "            else:\n",
    "                df_TD_I = df_TD_I.append(data)  "
   ]
  },
  {
   "cell_type": "code",
   "execution_count": 99,
   "metadata": {},
   "outputs": [],
   "source": [
    "df_array_independent = [df_BU_R, df_BU_I, df_TD_R, df_TD_I]\n",
    "df_means = [df[[\"response_time\"]].mean() for df in df_array_independent]\n",
    "df_stds = [df[[\"response_time\"]].std() for df in df_array_independent]\n",
    "df_len_b4 = [len(df) for df in df_array_independent]"
   ]
  },
  {
   "cell_type": "code",
   "execution_count": 100,
   "metadata": {},
   "outputs": [],
   "source": [
    "for idx, df in enumerate(df_array_independent):\n",
    "    mean = float(df_means[idx])\n",
    "    stddev = float(df_stds[idx])\n",
    "    for idx, row in df.iterrows():\n",
    "        response_time = row[\"response_time\"]\n",
    "        if not(30 <= response_time <= mean+2*stddev):\n",
    "            row[\"flag\"] = \"outlier\""
   ]
  },
  {
   "cell_type": "code",
   "execution_count": 101,
   "metadata": {},
   "outputs": [
    {
     "name": "stdout",
     "output_type": "stream",
     "text": [
      "    id response_time correctness     flag\n",
      "0  750           760        True  outlier\n",
      "0  785           786       False  outlier\n",
      "0  815           729        True  outlier\n",
      "0  737            28        True  outlier\n",
      "0  794            15        True  outlier\n",
      "0  842             7       False  outlier\n",
      "0  883          1287        True  outlier\n",
      "0  958            25        True  outlier\n",
      "0  821            10       False  outlier\n",
      "0  872            20       False  outlier\n",
      "0  703            22       False  outlier\n",
      "0  942          1554        True  outlier\n",
      "0  785          1243       False  outlier\n",
      "0  854           866       False  outlier\n",
      "0  760            17       False  outlier\n",
      "0  852           746       False  outlier\n",
      "0  764            16       False  outlier\n",
      "0  850             4       False  outlier\n",
      "0  938           739        True  outlier\n"
     ]
    }
   ],
   "source": [
    "with pd.option_context('display.max_rows', None, 'display.max_columns', None):  # more options can be specified also\n",
    "    print(df_array_independent[0].loc[df_array_independent[0][\"flag\"]==\"outlier\"])"
   ]
  },
  {
   "cell_type": "code",
   "execution_count": 102,
   "metadata": {},
   "outputs": [
    {
     "name": "stdout",
     "output_type": "stream",
     "text": [
      "    id response_time correctness     flag\n",
      "0  717            28       False  outlier\n",
      "0  821            17       False  outlier\n",
      "0  850             9        True  outlier\n",
      "0  890             3        True  outlier\n",
      "0  712          1277        True  outlier\n",
      "0  727          1094        True  outlier\n",
      "0  842             9       False  outlier\n",
      "0  886           924       False  outlier\n",
      "0  815           877        True  outlier\n",
      "0  716           824        True  outlier\n",
      "0  773           948        True  outlier\n",
      "0  794            13        True  outlier\n",
      "0  842            21       False  outlier\n",
      "0  852          1726       False  outlier\n",
      "0  894            24        True  outlier\n"
     ]
    }
   ],
   "source": [
    "with pd.option_context('display.max_rows', None, 'display.max_columns', None):  # more options can be specified also\n",
    "    print(df_array_independent[1].loc[df_array_independent[1][\"flag\"]==\"outlier\"])"
   ]
  },
  {
   "cell_type": "code",
   "execution_count": 103,
   "metadata": {},
   "outputs": [
    {
     "name": "stdout",
     "output_type": "stream",
     "text": [
      "    id response_time correctness     flag\n",
      "0  785           799       False  outlier\n",
      "0  699            17       False  outlier\n",
      "0  700            22        True  outlier\n",
      "0  727            14       False  outlier\n",
      "0  734             4       False  outlier\n",
      "0  737            18        True  outlier\n",
      "0  760            18       False  outlier\n",
      "0  767            18       False  outlier\n",
      "0  794             7        True  outlier\n",
      "0  825            25       False  outlier\n",
      "0  837            22       False  outlier\n",
      "0  842             4       False  outlier\n",
      "0  859            24       False  outlier\n",
      "0  883            14       False  outlier\n",
      "0  886             6        True  outlier\n",
      "0  894             3        True  outlier\n",
      "0  946            20       False  outlier\n",
      "0  958             8        True  outlier\n",
      "0  890             4       False  outlier\n",
      "0  712           706        True  outlier\n",
      "0  850             5        True  outlier\n",
      "0  889            24       False  outlier\n",
      "0  842            16        True  outlier\n",
      "0  712           756        True  outlier\n",
      "0  784           675       False  outlier\n",
      "0  938          1172        True  outlier\n",
      "0  703            29       False  outlier\n",
      "0  735           748       False  outlier\n",
      "0  880           828       False  outlier\n",
      "0  941           762       False  outlier\n",
      "0  942           965        True  outlier\n",
      "0  804           895        True  outlier\n",
      "0  821             5       False  outlier\n",
      "0  851            22       False  outlier\n",
      "0  872            19       False  outlier\n",
      "0  880           592        True  outlier\n"
     ]
    }
   ],
   "source": [
    "with pd.option_context('display.max_rows', None, 'display.max_columns', None):  # more options can be specified also\n",
    "    print(df_array_independent[2].loc[df_array_independent[2][\"flag\"]==\"outlier\"])"
   ]
  },
  {
   "cell_type": "code",
   "execution_count": 104,
   "metadata": {},
   "outputs": [
    {
     "name": "stdout",
     "output_type": "stream",
     "text": [
      "    id response_time correctness     flag\n",
      "0  727          1053        True  outlier\n",
      "0  638          1994       False  outlier\n",
      "0  712          1147       False  outlier\n",
      "0  850            10       False  outlier\n",
      "0  868          1967       False  outlier\n",
      "0  703            27       False  outlier\n",
      "0  803            23        True  outlier\n",
      "0  821            13       False  outlier\n",
      "0  867            20        True  outlier\n",
      "0  872            25       False  outlier\n",
      "0  883          3735       False  outlier\n",
      "0  772            19       False  outlier\n"
     ]
    }
   ],
   "source": [
    "with pd.option_context('display.max_rows', None, 'display.max_columns', None):  # more options can be specified also\n",
    "    print(df_array_independent[3].loc[df_array_independent[3][\"flag\"]==\"outlier\"])"
   ]
  },
  {
   "cell_type": "code",
   "execution_count": 107,
   "metadata": {},
   "outputs": [],
   "source": [
    "for idx, df in enumerate(df_array_independent):\n",
    "    tmp_df = df.loc[df[\"flag\"] != \"outlier\"]\n",
    "    df_array_independent[idx] = tmp_df"
   ]
  },
  {
   "cell_type": "code",
   "execution_count": 108,
   "metadata": {},
   "outputs": [
    {
     "data": {
      "text/plain": [
       "[19, 15, 36, 12]"
      ]
     },
     "execution_count": 108,
     "metadata": {},
     "output_type": "execute_result"
    }
   ],
   "source": [
    "df_means = [df[[\"response_time\"]].mean() for df in df_array_independent]\n",
    "df_stds = [df[[\"response_time\"]].std() for df in df_array_independent]\n",
    "df_len_after = [len(df) for df in df_array_independent]\n",
    "\n",
    "df_deleted_amount = [df_len_b4[idx]-df_len_after[idx] for idx in range(len(df_len_after))]\n",
    "df_deleted_amount"
   ]
  },
  {
   "cell_type": "code",
   "execution_count": 109,
   "metadata": {},
   "outputs": [],
   "source": [
    "cols = [\"id\", \"response_time\", \"correctness\", \"flag\"]\n",
    "inserted = [] \n",
    "\n",
    "for idx1, df in enumerate(df_array_independent):\n",
    "    for idx2, row in df.iterrows():\n",
    "        id_value = row[\"id\"]\n",
    "        entries_id_BU_R = df_BU_R.loc[df_BU_R[\"id\"] == id_value]\n",
    "        entries_id_BU_I = df_BU_I.loc[df_BU_I[\"id\"] == id_value] \n",
    "        entries_id_TD_R = df_TD_R.loc[df_TD_R[\"id\"] == id_value]\n",
    "        entries_id_TD_I = df_TD_R.loc[df_TD_R[\"id\"] == id_value]\n",
    "        \n",
    "        df_per_participant = entries_id_BU_R\n",
    "        df_per_participant = df_per_participant.append(entries_id_BU_I)\n",
    "        df_per_participant = df_per_participant.append(entries_id_TD_R)\n",
    "        df_per_participant = df_per_participant.append(entries_id_TD_I)\n",
    "        \n",
    "        rest = (4-len(df_per_participant) % 4) % 4\n",
    "    \n",
    "        if 0 < rest <= 2:\n",
    "            inserted.append((id_value, rest))\n",
    "            \n",
    "            len_BU_R = len(entries_id_BU_R)\n",
    "            len_BU_I = len(entries_id_BU_I)\n",
    "            len_TD_R = len(entries_id_TD_R)\n",
    "            len_TD_I = len(entries_id_TD_I)\n",
    "            \n",
    "            \n",
    "            if len_BU_R < len_BU_I or len_BU_R < len_TD_R or len_BU_R < len_TD_I:\n",
    "                # Missing in BU_R\n",
    "                tmp_df = pd.DataFrame([[id_value, float(df_means[0]), False, \"inserted\"]], columns=cols)\n",
    "                df_BU_R = df_BU_R.append(tmp_df)\n",
    "            \n",
    "            if len_BU_I < len_BU_R or len_BU_I < len_TD_R or len_BU_I < len_TD_I:\n",
    "                # Missing in BU_I\n",
    "                tmp_df = pd.DataFrame([[id_value, float(df_means[1]), False, \"inserted\"]], columns=cols)\n",
    "                df_BU_I = df_BU_I.append(tmp_df)\n",
    "            \n",
    "            if len_TD_R < len_BU_R or len_TD_R < len_BU_I or len_TD_R < len_TD_I:\n",
    "                # Missing in TD_R\n",
    "                tmp_df = pd.DataFrame([[id_value, float(df_means[2]), False, \"inserted\"]], columns=cols)\n",
    "                df_TD_R = df_TD_R.append(tmp_df)\n",
    "            \n",
    "            if len_TD_I < len_BU_R or len_TD_I < len_BU_I or len_TD_I < len_TD_R:\n",
    "                # Missing in TD_I\n",
    "                tmp_df = pd.DataFrame([[id_value, float(df_means[3]), False, \"inserted\"]], columns=cols)\n",
    "                df_TD_I = df_TD_I.append(tmp_df)\n",
    "                \n",
    "        elif rest > 2:\n",
    "            df_BU_R = df_BU_R.loc[df_BU_R[\"id\"]!=id_value]\n",
    "            df_BU_I = df_BU_I.loc[df_BU_I[\"id\"]!=id_value]\n",
    "            df_TD_R = df_TD_R.loc[df_TD_R[\"id\"]!=id_value]\n",
    "            df_TD_I = df_TD_I.loc[df_TD_I[\"id\"]!=id_value]\n",
    "            \n",
    "df_array_independent = [df_BU_R, df_BU_I, df_TD_R, df_TD_I]"
   ]
  },
  {
   "cell_type": "code",
   "execution_count": 110,
   "metadata": {},
   "outputs": [],
   "source": [
    "for id, missing in inserted:\n",
    "    missing = str(missing) + \" where missing\"\n",
    "    df_BU_R.loc[(df_BU_R[\"id\"] == id) & (df_BU_R[\"flag\"] == \"\"), \"flag\"] = missing\n",
    "    df_BU_I.loc[(df_BU_I[\"id\"] == id) & (df_BU_I[\"flag\"] == \"\"), \"flag\"] = missing\n",
    "    df_TD_R.loc[(df_TD_R[\"id\"] == id) & (df_TD_R[\"flag\"] == \"\"), \"flag\"] = missing\n",
    "    df_TD_I.loc[(df_TD_I[\"id\"] == id) & (df_TD_I[\"flag\"] == \"\"), \"flag\"] = missing"
   ]
  },
  {
   "cell_type": "code",
   "execution_count": 111,
   "metadata": {},
   "outputs": [
    {
     "data": {
      "text/plain": [
       "[-8, -8, -6, -6]"
      ]
     },
     "execution_count": 111,
     "metadata": {},
     "output_type": "execute_result"
    }
   ],
   "source": [
    "df_len_after2 = [len(df) for df in df_array_independent]\n",
    "df_deleted_amount = [df_len_b4[idx]-df_len_after2[idx] for idx in range(len(df_len_after2))]\n",
    "df_deleted_amount"
   ]
  },
  {
   "cell_type": "code",
   "execution_count": 113,
   "metadata": {},
   "outputs": [
    {
     "data": {
      "text/plain": [
       "[83, 98, 84, 104]"
      ]
     },
     "execution_count": 113,
     "metadata": {},
     "output_type": "execute_result"
    }
   ],
   "source": [
    "total_answers = [len(df.loc[df[\"correctness\"]==True]) for df in df_array_independent]\n",
    "total_correct = [len(df.loc[df[\"correctness\"]==True]) for df in df_array_independent]\n",
    "total_correct"
   ]
  },
  {
   "cell_type": "code",
   "execution_count": null,
   "metadata": {},
   "outputs": [],
   "source": []
  }
 ],
 "metadata": {
  "kernelspec": {
   "display_name": "Python 3",
   "language": "python",
   "name": "python3"
  },
  "language_info": {
   "codemirror_mode": {
    "name": "ipython",
    "version": 3
   },
   "file_extension": ".py",
   "mimetype": "text/x-python",
   "name": "python",
   "nbconvert_exporter": "python",
   "pygments_lexer": "ipython3",
   "version": "3.8.5"
  }
 },
 "nbformat": 4,
 "nbformat_minor": 4
}
