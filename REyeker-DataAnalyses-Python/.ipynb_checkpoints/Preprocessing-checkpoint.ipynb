{
 "cells": [
  {
   "cell_type": "code",
   "execution_count": 99,
   "metadata": {},
   "outputs": [],
   "source": [
    "import pandas as pd\n",
    "\n",
    "%matplotlib inline\n",
    "import matplotlib.pyplot as plt\n",
    "\n",
    "import numpy as np\n",
    "\n",
    "from pathlib import Path\n",
    "\n",
    "import re\n",
    "import modules.rEYEkerAnalysis as rEYEker\n",
    "\n",
    "from scipy import stats\n",
    "\n",
    "from chord import Chord"
   ]
  },
  {
   "cell_type": "code",
   "execution_count": 126,
   "metadata": {},
   "outputs": [],
   "source": [
    "config_prefix = ['BR', 'BI', 'TR', 'TI']\n",
    "\n",
    "config_algo_names = ['BinarySearch', 'BubbleSort', 'Factorial', 'Fibonacci', 'IntegerBinary', 'MultiplyMatrix', 'PrimeFactors', 'ReverseString']\n",
    "\n",
    "config_id_variable = \"CASE\"\n",
    "\n",
    "config_answer_variables = [\n",
    "    ['A310_01', 'A414_01', 'A214_01', 'A106_01'],\n",
    "    ['BR02_01', 'BI02_01', 'TR02_01', 'TI02_01'],\n",
    "    ['BR06_01', 'BI06_01', 'TR06_01', 'TI06_01'],\n",
    "    ['BR10_01', 'BI10_01', 'TR10_01', 'TI10_01'],\n",
    "    ['A406_01', 'A302_01', 'A102_01', 'A206_01'],\n",
    "    ['A210_01', 'A114_01', 'A314_01', 'A402_01'],\n",
    "    ['A110_01', 'A202_01', 'A410_01', 'A306_01'],\n",
    "    ['BR14_01', 'BI14_01', 'TR14_01', 'TI14_01'],\n",
    "]\n",
    "\n",
    "config_time_variables = [\n",
    "    ['TIME049','TIME070','TIME036','TIME015'],\n",
    "    ['TIME021','TIME055','TIME005','TIME038'],\n",
    "    ['TIME006','TIME040','TIME025','TIME061'],\n",
    "    ['TIME059','TIME023','TIME042','TIME008'],\n",
    "    ['TIME066','TIME051','TIME017','TIME032'],\n",
    "    ['TIME034','TIME019','TIME053','TIME064'],\n",
    "    ['TIME013','TIME030','TIME068','TIME047'],\n",
    "    ['TIME044','TIME010','TIME057','TIME027'],\n",
    "]\n",
    "\n",
    "config_click_variables = [\n",
    "    ['A319_01', 'A420_01', 'A220_01', 'A118_01'],\n",
    "    ['BR18_01', 'BI18_01', 'TR18_01', 'TI18_01'],\n",
    "    ['BR19_01', 'BI19_01', 'TR19_01', 'TI19_01'],\n",
    "    ['BR20_01', 'BI20_01', 'TR20_01', 'TI20_01'],\n",
    "    ['A418_01', 'A317_01', 'A117_01', 'A218_01'],\n",
    "    ['A219_01', 'A120_01', 'A320_01', 'A417_01'],\n",
    "    ['A119_01', 'A217_01', 'A419_01', 'A318_01'],\n",
    "    ['BR21_01', 'BI21_01', 'TR21_01', 'TI21_01']\n",
    "]\n",
    "\n",
    "\n",
    "config_answer_patterns = [\n",
    "    ['.*3.*', '.*3.*', '.*3.*', '.*3.*'],\n",
    "    ['.*3.*16.*23.*42.*61.*75.*536.*','.*3.*16.*23.*42.*61.*75.*536.*','.*3.*16.*23.*42.*61.*75.*536.*','.*3.*16.*23.*42.*61.*75.*536.*'],\n",
    "    ['.*6.*','.*6.*','.*120.*','.*120.*'],\n",
    "    ['.*2.*', '.*2.*','.*2.*','.*2.*'],\n",
    "    ['.*1.*0.*0.*0.*1.*','.*1.*0.*0.*0.*1.*','.*1.*0.*0.*0.*1.*','.*1.*0.*0.*0.*1.*'],\n",
    "    ['.*6.*6.*6.*12.*12.*12.*18.*18.*18.*','.*6.*6.*6.*12.*12.*12.*18.*18.*18.*','.*6.*6.*6.*12.*12.*12.*18.*18.*18.*','.*6.*6.*6.*12.*12.*12.*18.*18.*18.*'],\n",
    "    ['.*3.*5.*','.*3.*5.*','.*3.*5.*','.*3.*5.*'],\n",
    "    ['.*gnikcar[tT].*ey[eE].*','.*gnikcar[tT].*ey[eE].*','.*gnikcar[tT].*ey[eE].*','.*gnikcar[tT].*ey[eE].*']\n",
    "]\n",
    "\n",
    "\n",
    "config_datasheet = r'./Book5.xlsx'"
   ]
  },
  {
   "cell_type": "code",
   "execution_count": 127,
   "metadata": {},
   "outputs": [],
   "source": [
    "df_matrix = []\n",
    "raw = pd.read_excel(config_datasheet)\n",
    "\n",
    "# load data\n",
    "for row, _stuff in enumerate(config_algo_names):\n",
    "    df_array = []\n",
    "    for col, _stuff in enumerate(config_prefix):\n",
    "        df = pd.DataFrame(raw, columns = [config_id_variable, \n",
    "                                          config_answer_variables[row][col], \n",
    "                                          config_time_variables[row][col],\n",
    "                                          config_click_variables[row][col],])\n",
    "        df = df.iloc[1:]\n",
    "        df = df.dropna()\n",
    "        df_array.append(df)\n",
    "    df_matrix.append(df_array)"
   ]
  },
  {
   "cell_type": "code",
   "execution_count": 128,
   "metadata": {},
   "outputs": [],
   "source": [
    "cols = [\"id\", \"response_time\", \"correctness\", \"flag\", \"algo_name\", \"click_data\"]\n",
    "df_BU_R = pd.DataFrame(columns=cols)\n",
    "df_BU_I = pd.DataFrame(columns=cols)\n",
    "df_TD_R = pd.DataFrame(columns=cols)\n",
    "df_TD_I = pd.DataFrame(columns=cols)\n",
    "\n",
    "for row_idx, df_row in enumerate(df_matrix):\n",
    "    algo_name = config_algo_names[row_idx]\n",
    "    for col, df in enumerate(df_row): \n",
    "        pattern = config_answer_patterns[row_idx][col]\n",
    "        regex = re.compile(pattern)\n",
    "        \n",
    "        for index, row in df.iterrows():\n",
    "\n",
    "            id_value =  row[\"CASE\"]\n",
    "            response_time = int(row[config_time_variables[row_idx][col]])\n",
    "            answer = row[config_answer_variables[row_idx][col]]\n",
    "            click_data = row[config_click_variables[row_idx][col]]\n",
    "            result = regex.match(str(answer))\n",
    "            correctness = False\n",
    "            \n",
    "            if result is not None:\n",
    "                correctness = True\n",
    "                \n",
    "            flag = \"\"\n",
    "            data = pd.DataFrame([[id_value, response_time, correctness, flag, algo_name, click_data]], columns=cols)\n",
    "                  \n",
    "            if col == 0:\n",
    "                df_BU_R = df_BU_R.append(data)\n",
    "            elif col == 1:\n",
    "                df_BU_I = df_BU_I.append(data)\n",
    "            elif col == 2:\n",
    "                df_TD_R = df_TD_R.append(data)\n",
    "            else:\n",
    "                df_TD_I = df_TD_I.append(data)"
   ]
  },
  {
   "cell_type": "code",
   "execution_count": 129,
   "metadata": {},
   "outputs": [
    {
     "name": "stdout",
     "output_type": "stream",
     "text": [
      "Before Outlier removal: 650\n"
     ]
    }
   ],
   "source": [
    "df_array_independent = [df_BU_R, df_BU_I, df_TD_R, df_TD_I]\n",
    "df_means = [df[[\"response_time\"]].mean() for df in df_array_independent]\n",
    "df_stds = [df[[\"response_time\"]].std() for df in df_array_independent]\n",
    "df_len_b4 = [len(df) for df in df_array_independent]\n",
    "\n",
    "corects = sum([len(df) for df in df_array_independent])\n",
    "print(\"Before Outlier removal: \" + str(sum(df_len_b4)))"
   ]
  },
  {
   "cell_type": "code",
   "execution_count": 130,
   "metadata": {},
   "outputs": [],
   "source": [
    "for idx, df in enumerate(df_array_independent):\n",
    "    mean = float(df_means[idx])\n",
    "    stddev = float(df_stds[idx])\n",
    "    for idx, row in df.iterrows():\n",
    "        response_time = row[\"response_time\"]\n",
    "        if not(30 < response_time < mean+2*stddev):\n",
    "            row[\"flag\"] = \"outlier\""
   ]
  },
  {
   "cell_type": "code",
   "execution_count": 131,
   "metadata": {},
   "outputs": [
    {
     "name": "stdout",
     "output_type": "stream",
     "text": [
      "Number of Outliers: 78\n"
     ]
    }
   ],
   "source": [
    "dfs_length = [len(df.loc[df[\"flag\"]==\"outlier\"]) for df in df_array_independent]\n",
    "print(\"Number of Outliers: \" + str(sum(dfs_length)))"
   ]
  },
  {
   "cell_type": "code",
   "execution_count": 132,
   "metadata": {},
   "outputs": [
    {
     "name": "stdout",
     "output_type": "stream",
     "text": [
      "means without outliers: [198.0921985815603, 200.3082191780822, 150.1015625, 194.59235668789808]\n"
     ]
    }
   ],
   "source": [
    "df_means = [float(df.loc[df[\"flag\"]!=\"outlier\"][[\"response_time\"]].mean()) for df in df_array_independent]\n",
    "df_stds = [float(df.loc[df[\"flag\"]!=\"outlier\"][[\"response_time\"]].std()) for df in df_array_independent]\n",
    "df_len_after = [len(df.loc[df[\"flag\"]!=\"outlier\"]) for df in df_array_independent]\n",
    "\n",
    "df_deleted_amount = [df_len_b4[idx]-df_len_after[idx] for idx in range(len(df_len_after))]\n",
    "print(\"means without outliers: \" + str(df_means))"
   ]
  },
  {
   "cell_type": "code",
   "execution_count": 133,
   "metadata": {},
   "outputs": [],
   "source": [
    "for idx, df in enumerate(df_array_independent):\n",
    "    df.loc[df[\"flag\"] == \"outlier\", \"response_time\"] = int(df_means[idx])"
   ]
  },
  {
   "cell_type": "code",
   "execution_count": 134,
   "metadata": {},
   "outputs": [
    {
     "name": "stdout",
     "output_type": "stream",
     "text": [
      "Participant with the following number got deleted: 712. Because 5 where missing.\n",
      "Participant with the following number got deleted: 785. Because 4 where missing.\n",
      "Participant with the following number got deleted: 794. Because 4 where missing.\n",
      "Participant with the following number got deleted: 842. Because 7 where missing.\n",
      "Participant with the following number got deleted: 821. Because 4 where missing.\n",
      "Participant with the following number got deleted: 880. Because 4 where missing.\n"
     ]
    }
   ],
   "source": [
    "cols = [\"id\", \"response_time\", \"correctness\", \"flag\"]\n",
    "\n",
    "for idx1, df in enumerate(df_array_independent):\n",
    "    for idx2, row in df.iterrows():\n",
    "        id_value = row[\"id\"]\n",
    "        entries_id_BU_R = df_BU_R.loc[(df_BU_R[\"id\"] == id_value) & (df_BU_R[\"flag\"] == \"outlier\")]\n",
    "        entries_id_BU_I = df_BU_I.loc[(df_BU_I[\"id\"] == id_value) & (df_BU_I[\"flag\"] == \"outlier\")] \n",
    "        entries_id_TD_R = df_TD_R.loc[(df_TD_R[\"id\"] == id_value) & (df_TD_R[\"flag\"] == \"outlier\")]\n",
    "        entries_id_TD_I = df_TD_R.loc[(df_TD_R[\"id\"] == id_value) & (df_TD_R[\"flag\"] == \"outlier\")]\n",
    "        \n",
    "        df_per_participant = entries_id_BU_R\n",
    "        df_per_participant = df_per_participant.append(entries_id_BU_I)\n",
    "        df_per_participant = df_per_participant.append(entries_id_TD_R)\n",
    "        df_per_participant = df_per_participant.append(entries_id_TD_I)\n",
    "        \n",
    "        number_of_outliers_per_participant = len(df_per_participant)\n",
    "        \n",
    "        if number_of_outliers_per_participant > 3:\n",
    "            print(\"Participant with the following number got deleted: \" + str(id_value) + \". Because \" + str(number_of_outliers_per_participant) + \" where missing.\")\n",
    "            df_BU_R = df_BU_R.loc[df_BU_R[\"id\"]!=id_value]\n",
    "            df_BU_I = df_BU_I.loc[df_BU_I[\"id\"]!=id_value]\n",
    "            df_TD_R = df_TD_R.loc[df_TD_R[\"id\"]!=id_value]\n",
    "            df_TD_I = df_TD_I.loc[df_TD_I[\"id\"]!=id_value]\n",
    "            \n",
    "df_array_independent = [df_BU_R, df_BU_I, df_TD_R, df_TD_I]"
   ]
  },
  {
   "cell_type": "code",
   "execution_count": null,
   "metadata": {},
   "outputs": [],
   "source": []
  },
  {
   "cell_type": "code",
   "execution_count": 135,
   "metadata": {},
   "outputs": [
    {
     "name": "stdout",
     "output_type": "stream",
     "text": [
      "Deleted per Style: [10, 9, 10, 9]\n"
     ]
    }
   ],
   "source": [
    "df_len_after2 = [len(df) for df in df_array_independent]\n",
    "df_deleted_amount = [df_len_b4[idx]-df_len_after2[idx] for idx in range(len(df_len_after2))]\n",
    "print(\"Deleted per Style: \" + str(df_deleted_amount))"
   ]
  },
  {
   "cell_type": "code",
   "execution_count": 136,
   "metadata": {},
   "outputs": [
    {
     "name": "stdout",
     "output_type": "stream",
     "text": [
      "numer of total correct answers: [83, 91, 89, 107]\n",
      "numer of total answers: [149, 151, 153, 159]\n",
      "percentages of correct answers: [0.5570469798657718, 0.6026490066225165, 0.5816993464052288, 0.6729559748427673]\n"
     ]
    }
   ],
   "source": [
    "total_answers = [len(df) for df in df_array_independent]\n",
    "total_correct = [len(df.loc[df[\"correctness\"]==True]) for df in df_array_independent]\n",
    "percentage = [float(correct)/float(total) for correct, total in zip(total_correct, total_answers)]\n",
    "print(\"numer of total correct answers: \" + str(total_correct))\n",
    "print(\"numer of total answers: \" + str(total_answers))\n",
    "print(\"percentages of correct answers: \" + str(percentage))"
   ]
  },
  {
   "cell_type": "code",
   "execution_count": 137,
   "metadata": {},
   "outputs": [],
   "source": [
    "import statsmodels.api as sm\n",
    "from statsmodels.formula.api import ols\n",
    "cols = [\"Subject\",\"ProgrammingStyle\", \"Comprehension\", \"ResponseTime\", \"Algorithm\", \"Flag\", \"Correctness\", \"ClickData\"]\n",
    "\n",
    "def fill(list_data, dataframe, coding_style, comprehension_style):\n",
    "    for idx, row in dataframe.iterrows():\n",
    "        response_time = row[\"response_time\"]\n",
    "        algorithm = row[\"algo_name\"]\n",
    "        flag = row[\"flag\"]\n",
    "        click_data = row[\"click_data\"]\n",
    "        correctness = row[\"Correctness\"]\n",
    "        id = row[\"id\"]\n",
    "        list_data.append([id,coding_style, comprehension_style, response_time, algorithm, flag, correctness, click_data])\n",
    "\n",
    "data = []\n",
    "fill(data, df_BU_R, \"R\", \"BU\")\n",
    "fill(data, df_BU_I, \"I\", \"BU\")\n",
    "fill(data, df_TD_R, \"R\", \"TD\")\n",
    "fill(data, df_TD_I, \"I\", \"TD\")\n",
    "df = pd.DataFrame(data, columns=cols)\n",
    "df.to_excel(\"preprocessed.xlsx\", index=False)"
   ]
  },
  {
   "cell_type": "code",
   "execution_count": 138,
   "metadata": {},
   "outputs": [
    {
     "data": {
      "text/html": [
       "<div>\n",
       "<style scoped>\n",
       "    .dataframe tbody tr th:only-of-type {\n",
       "        vertical-align: middle;\n",
       "    }\n",
       "\n",
       "    .dataframe tbody tr th {\n",
       "        vertical-align: top;\n",
       "    }\n",
       "\n",
       "    .dataframe thead th {\n",
       "        text-align: right;\n",
       "    }\n",
       "</style>\n",
       "<table border=\"1\" class=\"dataframe\">\n",
       "  <thead>\n",
       "    <tr style=\"text-align: right;\">\n",
       "      <th></th>\n",
       "      <th>id</th>\n",
       "      <th>response_time</th>\n",
       "      <th>correctness</th>\n",
       "      <th>flag</th>\n",
       "      <th>algo_name</th>\n",
       "      <th>click_data</th>\n",
       "    </tr>\n",
       "  </thead>\n",
       "  <tbody>\n",
       "    <tr>\n",
       "      <th>0</th>\n",
       "      <td>638</td>\n",
       "      <td>296</td>\n",
       "      <td>True</td>\n",
       "      <td></td>\n",
       "      <td>BinarySearch</td>\n",
       "      <td>136-143 182-47 475-78 284-96 190-147 437-143 1...</td>\n",
       "    </tr>\n",
       "    <tr>\n",
       "      <th>0</th>\n",
       "      <td>750</td>\n",
       "      <td>198</td>\n",
       "      <td>True</td>\n",
       "      <td>outlier</td>\n",
       "      <td>BinarySearch</td>\n",
       "      <td>464-76 144-124 406-176 534-235 307-273 541-370...</td>\n",
       "    </tr>\n",
       "    <tr>\n",
       "      <th>0</th>\n",
       "      <td>784</td>\n",
       "      <td>438</td>\n",
       "      <td>True</td>\n",
       "      <td></td>\n",
       "      <td>BinarySearch</td>\n",
       "      <td>176-32 413-60 216-110 426-77 209-116 286-166 5...</td>\n",
       "    </tr>\n",
       "    <tr>\n",
       "      <th>0</th>\n",
       "      <td>829</td>\n",
       "      <td>449</td>\n",
       "      <td>False</td>\n",
       "      <td></td>\n",
       "      <td>BinarySearch</td>\n",
       "      <td>197-66 457-40 232-133 383-167 152-140 194-198 ...</td>\n",
       "    </tr>\n",
       "    <tr>\n",
       "      <th>0</th>\n",
       "      <td>841</td>\n",
       "      <td>123</td>\n",
       "      <td>True</td>\n",
       "      <td></td>\n",
       "      <td>BinarySearch</td>\n",
       "      <td>195-40 450-92 201-104 196-137 535-171 208-217 ...</td>\n",
       "    </tr>\n",
       "    <tr>\n",
       "      <th>...</th>\n",
       "      <td>...</td>\n",
       "      <td>...</td>\n",
       "      <td>...</td>\n",
       "      <td>...</td>\n",
       "      <td>...</td>\n",
       "      <td>...</td>\n",
       "    </tr>\n",
       "    <tr>\n",
       "      <th>0</th>\n",
       "      <td>889</td>\n",
       "      <td>69</td>\n",
       "      <td>True</td>\n",
       "      <td></td>\n",
       "      <td>ReverseString</td>\n",
       "      <td>77-54 266-109 54-19 125-87 411-91 256-128 480-...</td>\n",
       "    </tr>\n",
       "    <tr>\n",
       "      <th>0</th>\n",
       "      <td>895</td>\n",
       "      <td>69</td>\n",
       "      <td>True</td>\n",
       "      <td></td>\n",
       "      <td>ReverseString</td>\n",
       "      <td>150-61 147-29 170-60 432-82 301-105 397-136 21...</td>\n",
       "    </tr>\n",
       "    <tr>\n",
       "      <th>0</th>\n",
       "      <td>938</td>\n",
       "      <td>198</td>\n",
       "      <td>True</td>\n",
       "      <td>outlier</td>\n",
       "      <td>ReverseString</td>\n",
       "      <td>124-23 143-87 401-105 200-130 389-150 435-102 ...</td>\n",
       "    </tr>\n",
       "    <tr>\n",
       "      <th>0</th>\n",
       "      <td>948</td>\n",
       "      <td>174</td>\n",
       "      <td>True</td>\n",
       "      <td></td>\n",
       "      <td>ReverseString</td>\n",
       "      <td>152-82 402-73 388-125 322-141 329-61 331-113 3...</td>\n",
       "    </tr>\n",
       "    <tr>\n",
       "      <th>0</th>\n",
       "      <td>949</td>\n",
       "      <td>97</td>\n",
       "      <td>False</td>\n",
       "      <td></td>\n",
       "      <td>ReverseString</td>\n",
       "      <td>171-41 208-98 320-140 390-217 329-258 314-304 ...</td>\n",
       "    </tr>\n",
       "  </tbody>\n",
       "</table>\n",
       "<p>149 rows × 6 columns</p>\n",
       "</div>"
      ],
      "text/plain": [
       "     id response_time correctness     flag      algo_name  \\\n",
       "0   638           296        True            BinarySearch   \n",
       "0   750           198        True  outlier   BinarySearch   \n",
       "0   784           438        True            BinarySearch   \n",
       "0   829           449       False            BinarySearch   \n",
       "0   841           123        True            BinarySearch   \n",
       "..  ...           ...         ...      ...            ...   \n",
       "0   889            69        True           ReverseString   \n",
       "0   895            69        True           ReverseString   \n",
       "0   938           198        True  outlier  ReverseString   \n",
       "0   948           174        True           ReverseString   \n",
       "0   949            97       False           ReverseString   \n",
       "\n",
       "                                           click_data  \n",
       "0   136-143 182-47 475-78 284-96 190-147 437-143 1...  \n",
       "0   464-76 144-124 406-176 534-235 307-273 541-370...  \n",
       "0   176-32 413-60 216-110 426-77 209-116 286-166 5...  \n",
       "0   197-66 457-40 232-133 383-167 152-140 194-198 ...  \n",
       "0   195-40 450-92 201-104 196-137 535-171 208-217 ...  \n",
       "..                                                ...  \n",
       "0   77-54 266-109 54-19 125-87 411-91 256-128 480-...  \n",
       "0   150-61 147-29 170-60 432-82 301-105 397-136 21...  \n",
       "0   124-23 143-87 401-105 200-130 389-150 435-102 ...  \n",
       "0   152-82 402-73 388-125 322-141 329-61 331-113 3...  \n",
       "0   171-41 208-98 320-140 390-217 329-258 314-304 ...  \n",
       "\n",
       "[149 rows x 6 columns]"
      ]
     },
     "execution_count": 138,
     "metadata": {},
     "output_type": "execute_result"
    }
   ],
   "source": [
    "df_BU_R"
   ]
  },
  {
   "cell_type": "code",
   "execution_count": null,
   "metadata": {},
   "outputs": [],
   "source": []
  }
 ],
 "metadata": {
  "kernelspec": {
   "display_name": "Python 3",
   "language": "python",
   "name": "python3"
  },
  "language_info": {
   "codemirror_mode": {
    "name": "ipython",
    "version": 3
   },
   "file_extension": ".py",
   "mimetype": "text/x-python",
   "name": "python",
   "nbconvert_exporter": "python",
   "pygments_lexer": "ipython3",
   "version": "3.8.5"
  }
 },
 "nbformat": 4,
 "nbformat_minor": 4
}
