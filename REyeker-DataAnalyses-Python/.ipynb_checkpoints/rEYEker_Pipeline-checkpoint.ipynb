{
 "cells": [
  {
   "cell_type": "markdown",
   "metadata": {},
   "source": [
    "<h1> Data Analysis for REYeker</h1>"
   ]
  },
  {
   "cell_type": "code",
   "execution_count": 97,
   "metadata": {},
   "outputs": [],
   "source": [
    "# lib for dataframes\n",
    "import pandas as pd\n",
    "\n",
    "# lib for saving np images\n",
    "from PIL import Image\n",
    "\n",
    "# lib for plotting\n",
    "%matplotlib inline\n",
    "import matplotlib.pyplot as plt\n",
    "\n",
    "# lib for numerical computations\n",
    "import numpy as np\n",
    "\n",
    "# lib for regex\n",
    "import re\n",
    "\n",
    "# lib for crerating paths\n",
    "from pathlib import Path\n",
    "\n",
    "# REYeker lib\n",
    "import modules.rEYEkerAnalysis as rEYEker\n",
    "\n",
    "# for t testing\n",
    "from scipy import stats\n",
    "\n",
    "# lib for better plotting\n",
    "import seaborn as sns\n",
    "sns.set_theme('paper')\n",
    "\n",
    "# lib for differ calculation\n",
    "import difflib"
   ]
  },
  {
   "cell_type": "markdown",
   "metadata": {},
   "source": [
    "<h2>1. Configuration</h2>"
   ]
  },
  {
   "cell_type": "markdown",
   "metadata": {},
   "source": [
    "<h5>Database configuration </h5>"
   ]
  },
  {
   "cell_type": "code",
   "execution_count": 98,
   "metadata": {},
   "outputs": [],
   "source": [
    "# path to the datafile\n",
    "config_datasheet_path = r'./data/Book4.xlsx'\n",
    "\n",
    "# columns with visual stimulus data\n",
    "config_visual_stimulus_variable_array = ['TR20_01', 'TI20_01', 'BR20_01', 'BI20_01']\n",
    "\n",
    "# columns with names of the algo\n",
    "config_algo_names = ['TR_FIB', 'TI_FIB', 'BR_FIB', 'BI_FIB']\n",
    "\n",
    "# columns with time data of visual stimulus\n",
    "config_time_variable_array = []\n",
    "\n",
    "# columns with the given answers of the studen\n",
    "config_answer_variable_array = ['TR10_01', 'TI10_01', 'BR10_01', 'BI10_01']\n",
    "\n",
    "# regex pattern for correct answer\n",
    "config_answer_pattern_array = ['2', '2','2','2']\n",
    "\n",
    "# colums of response time\n",
    "config_response_time_variable_array = ['TIME042', 'TIME008', 'TIME059', 'TIME023']"
   ]
  },
  {
   "cell_type": "markdown",
   "metadata": {},
   "source": [
    "<h5>Configuration for REYEker data </h5>"
   ]
  },
  {
   "cell_type": "code",
   "execution_count": 99,
   "metadata": {},
   "outputs": [],
   "source": [
    "# file for loading rEYEker settings\n",
    "config_reyeker_settings_path = \"data/example.json\""
   ]
  },
  {
   "cell_type": "markdown",
   "metadata": {},
   "source": [
    "<h5>Configuration for saving images </h5>"
   ]
  },
  {
   "cell_type": "code",
   "execution_count": 100,
   "metadata": {},
   "outputs": [],
   "source": [
    "# data for loading the images\n",
    "config_image_path_array = ['images/TR/TR_Fibonacci.png',\n",
    "               'images/TI/TI_Fibonacci.png',\n",
    "               'images/BR/BR_Fibonacci.png',\n",
    "               'images/BI/BI_Fibonacci.png']\n",
    "\n",
    "# where to save to heatmaps and sequence diagrams\n",
    "config_folder_prefix_array = [\n",
    "    'TR/',\n",
    "    'TI/',\n",
    "    'BR/',\n",
    "    'BI/']\n",
    "\n",
    "# used for saving the heatmaps and sequence diagrams\n",
    "config_image_prefix_array = [\n",
    "    'TR_Fibonacci_',\n",
    "    'TI_Fibonacci_',\n",
    "    'BR_Fibonacci_',\n",
    "    'BI_Fibonacci_']"
   ]
  },
  {
   "cell_type": "markdown",
   "metadata": {},
   "source": [
    "<h5>Configuration for Code Flow data import</h5>"
   ]
  },
  {
   "cell_type": "code",
   "execution_count": 101,
   "metadata": {},
   "outputs": [],
   "source": [
    "# excel data in data/code_flow\n",
    "config_code_flow_datasheet_array = ['TR_Fibonacci.xlsx',\n",
    "                  'TI_Fibonacci.xlsx',\n",
    "                  'BR_Fibonacci.xlsx',\n",
    "                  'BI_Fibonacci.xlsx']  "
   ]
  },
  {
   "cell_type": "markdown",
   "metadata": {},
   "source": [
    "##### Configuration for aoi data import"
   ]
  },
  {
   "cell_type": "code",
   "execution_count": 102,
   "metadata": {},
   "outputs": [],
   "source": [
    "# excel data in data/aoi_categorized\n",
    "config_aoi_datasheet_array = ['AOI_TR_Fibonacci.xlsx',\n",
    "                  'AOI_TI_Fibonacci.xlsx',\n",
    "                  'AOI_BR_Fibonacci.xlsx',\n",
    "                  'AOI_BI_Fibonacci.xlsx']  "
   ]
  },
  {
   "cell_type": "markdown",
   "metadata": {},
   "source": [
    "<h5>Configuration for alpha value for t-test </h5>"
   ]
  },
  {
   "cell_type": "code",
   "execution_count": 103,
   "metadata": {},
   "outputs": [],
   "source": [
    "# confidence needed for t test\n",
    "config_alpha = 0.05"
   ]
  },
  {
   "cell_type": "markdown",
   "metadata": {},
   "source": [
    "<h5>Import the columns and create dataframe</h5>"
   ]
  },
  {
   "cell_type": "code",
   "execution_count": 104,
   "metadata": {},
   "outputs": [],
   "source": [
    "needed_columns_array = []\n",
    "\n",
    "# create all dataframe headers\n",
    "for i in range(len(config_visual_stimulus_variable_array)):\n",
    "    tmp_list = []\n",
    "    tmp_list.append(config_visual_stimulus_variable_array[i])\n",
    "    \n",
    "    if len(config_time_variable_array) != 0:\n",
    "        tmp_list.append(config_time_variable_array[i])\n",
    "\n",
    "    tmp_list.append(config_answer_variable_array[i])\n",
    "    tmp_list.append(config_response_time_variable_array[i])\n",
    "    needed_columns_array.append(tmp_list)\n",
    "\n",
    "df_array = []\n",
    "raw = pd.read_excel(config_datasheet_path)\n",
    "\n",
    "# read all dataframes\n",
    "for data_set in needed_columns_array:\n",
    "    dataframe = pd.DataFrame(raw, columns = data_set)\n",
    "    dataframe = dataframe.iloc[1:]\n",
    "    dataframe = dataframe.dropna()\n",
    "    df_array.append(dataframe)"
   ]
  },
  {
   "cell_type": "markdown",
   "metadata": {},
   "source": [
    "<h4>Splitting Dataframes in right and wrong answers.</h4>"
   ]
  },
  {
   "cell_type": "code",
   "execution_count": 105,
   "metadata": {},
   "outputs": [],
   "source": [
    "df_array_right = []\n",
    "df_array_wrong = []\n",
    "\n",
    "# iter over every dataframe\n",
    "for idx, dataframe in enumerate(df_array):\n",
    "    right_answer_pattern = config_answer_pattern_array[idx]\n",
    "    regex = re.compile(right_answer_pattern)\n",
    "    answer_field = config_answer_variable_array[idx]\n",
    "    \n",
    "    dataframe_right = pd.DataFrame(columns = needed_columns_array[idx])\n",
    "    dataframe_wrong = pd.DataFrame(columns = needed_columns_array[idx])\n",
    "    \n",
    "    # iter over every row and check if the result is rightr\n",
    "    for _idx, row  in dataframe.iterrows():\n",
    "        result = regex.match(str(row[answer_field]))\n",
    "        if result is not None:\n",
    "            dataframe_right = dataframe_right.append(row)\n",
    "        else:\n",
    "            dataframe_wrong = dataframe_wrong.append(row)\n",
    "    \n",
    "    \n",
    "    \n",
    "    df_array_right.append(dataframe_right)\n",
    "    df_array_wrong.append(dataframe_wrong)"
   ]
  },
  {
   "cell_type": "markdown",
   "metadata": {},
   "source": [
    "<h4>Remove Outliers</h4>"
   ]
  },
  {
   "cell_type": "code",
   "execution_count": 106,
   "metadata": {},
   "outputs": [],
   "source": [
    "tmp_df_array = []\n",
    "tmp_df_array_wrong = []\n",
    "\n",
    "#iterate over all dataframes and remove outliers\n",
    "for idx, dataframe in enumerate(df_array_right):\n",
    "\n",
    "    data = dataframe[config_response_time_variable_array[idx]]\n",
    "    cleared_dataframe = None\n",
    "    if len(data) == 1:\n",
    "        cleared_dataframe = dataframe\n",
    "    else:\n",
    "        cleared_dataframe = dataframe[(np.abs(stats.zscore(data.astype(float))) < 3)]\n",
    "    tmp_df_array.append(cleared_dataframe)\n",
    "    \n",
    "#iterate over all dataframes and remove outliers\n",
    "for idx, dataframe in enumerate(df_array_wrong):\n",
    "    data = dataframe[config_response_time_variable_array[idx]]\n",
    "    cleared_dataframe = dataframe[data.between(data.quantile(.15), data.quantile(0.85))]\n",
    "    tmp_df_array_wrong.append(cleared_dataframe)\n",
    "    \n",
    "df_array = tmp_df_array\n",
    "df_array_wong = tmp_df_array_wrong"
   ]
  },
  {
   "cell_type": "markdown",
   "metadata": {},
   "source": [
    "<h4>Import REYeker Settings</h4>"
   ]
  },
  {
   "cell_type": "code",
   "execution_count": 107,
   "metadata": {},
   "outputs": [],
   "source": [
    "(_data, _times, click_setting) = rEYEker.load_data_from_json(config_reyeker_settings_path)"
   ]
  },
  {
   "cell_type": "markdown",
   "metadata": {},
   "source": [
    "<h4>Import Images Settings</h4>"
   ]
  },
  {
   "cell_type": "code",
   "execution_count": 108,
   "metadata": {},
   "outputs": [],
   "source": [
    "image_array = []\n",
    "\n",
    "# read in every image\n",
    "for image_path in config_image_path_array:\n",
    "    img = rEYEker.load_image(image_path)\n",
    "    image_array.append(img)"
   ]
  },
  {
   "cell_type": "markdown",
   "metadata": {},
   "source": [
    "<h4> Cast Data to Valid format</h4>"
   ]
  },
  {
   "cell_type": "markdown",
   "metadata": {},
   "source": [
    "Import the visual stimulus measured Data"
   ]
  },
  {
   "cell_type": "code",
   "execution_count": 109,
   "metadata": {},
   "outputs": [],
   "source": [
    "visual_stimulus_data_matrix = []\n",
    "\n",
    "#iter over every dataframe\n",
    "for idx, dataframe in enumerate(df_array):\n",
    "    visual_stimulus_array = []\n",
    "    visual_stimulus_row = config_visual_stimulus_variable_array[idx]\n",
    "\n",
    "    #iter over every row \n",
    "    for _idx, item in dataframe.iterrows():\n",
    "        data_str = item[visual_stimulus_row]\n",
    "        data_str = data_str.strip()\n",
    "        coordinates_str = data_str.split(\" \")\n",
    "        coordinates = []\n",
    "        \n",
    "        # iter over every coordinate pair x-y\n",
    "        for coordinate_str in coordinates_str:\n",
    "            coordinate = coordinate_str.split(\"-\")\n",
    "            coordinate = (int(coordinate[0]), int(coordinate[1]))\n",
    "            coordinates.append(coordinate)\n",
    "            \n",
    "        visual_stimulus_array.append(coordinates)\n",
    "        \n",
    "    visual_stimulus_data_matrix.append(visual_stimulus_array)"
   ]
  },
  {
   "cell_type": "markdown",
   "metadata": {},
   "source": [
    "Import the Time Data"
   ]
  },
  {
   "cell_type": "code",
   "execution_count": 110,
   "metadata": {},
   "outputs": [],
   "source": [
    "timestamps_data_matrix = []\n",
    "\n",
    "#iter over every dataframe\n",
    "for idx, dataframe in enumerate(df_array):\n",
    "    if len(config_time_variable_array) <= idx:\n",
    "        break\n",
    "    time_measurements = []\n",
    "    time_measurement_row = config_time_variable_array[idx]\n",
    "\n",
    "    #iter over every row \n",
    "    for _idx, item in dataframe.iterrows():\n",
    "        data_str = item[time_measurement_row]\n",
    "        data_str = data_str.strip()\n",
    "        timestamps = data_str.split(\" \")\n",
    "        timestamps = [int(timestamp) for timestamp in timestamps]\n",
    "        time_measurement_row.append(timestamps)\n",
    "        \n",
    "    timestamps_data_matrix.append(visual_stimulus_measurements)"
   ]
  },
  {
   "cell_type": "markdown",
   "metadata": {},
   "source": [
    "<h4>Helper Functions</h4>"
   ]
  },
  {
   "cell_type": "code",
   "execution_count": 111,
   "metadata": {},
   "outputs": [],
   "source": [
    "def save_images(image_array, folder, image_name):\n",
    "    \"\"\"\n",
    "    :brief saves an array of images to a certain location incrementing the postfix by a number\n",
    "    :param image_array:        array of images (np.ndarray)\n",
    "    :param folder:     prefix of image/ folder location\n",
    "    :param image_name: prefix for the image\n",
    "    \"\"\"\n",
    "    \n",
    "    Path(folder).mkdir(parents=True, exist_ok=True)\n",
    "    \n",
    "    prefix = folder + image_name\n",
    "    \n",
    "    #TODO create folders if there are none present\n",
    "    for idx, data in enumerate(image_array):\n",
    "        data = data*255\n",
    "        data = np.uint8(data)\n",
    "        im = Image.fromarray(data)\n",
    "        im.save(prefix + str(idx) + '.png')\n",
    "        \n",
    "def compare_for_h0(arr_1, arr_2, alpha):\n",
    "    t, p = stats.ttest_ind(arr_1, arr_2)\n",
    "    if p > alpha:\n",
    "        return True, t, p\n",
    "    else:\n",
    "        return False, t, p\n",
    "    \n",
    "def is_in(value, tup):\n",
    "    return tup[0] <= value <= tup[1]\n",
    "\n",
    "def get_0_offset(number):\n",
    "    i = 0\n",
    "    number = int(number)\n",
    "    while number != 0:\n",
    "        number = int(number / 10)\n",
    "        i = i + 1\n",
    "    return i"
   ]
  },
  {
   "cell_type": "markdown",
   "metadata": {},
   "source": [
    "<h2>2. Create Single Heatmaps</h2>"
   ]
  },
  {
   "cell_type": "markdown",
   "metadata": {},
   "source": [
    "create heatmaps"
   ]
  },
  {
   "cell_type": "code",
   "execution_count": 80,
   "metadata": {},
   "outputs": [
    {
     "ename": "KeyboardInterrupt",
     "evalue": "",
     "output_type": "error",
     "traceback": [
      "\u001b[1;31m---------------------------------------------------------------------------\u001b[0m",
      "\u001b[1;31mKeyboardInterrupt\u001b[0m                         Traceback (most recent call last)",
      "\u001b[1;32m<ipython-input-80-4daaf3185f95>\u001b[0m in \u001b[0;36m<module>\u001b[1;34m\u001b[0m\n\u001b[0;32m     15\u001b[0m             \u001b[0mtimes\u001b[0m \u001b[1;33m=\u001b[0m \u001b[0mtime_stamp_array\u001b[0m\u001b[1;33m[\u001b[0m\u001b[0mvisual_idx\u001b[0m\u001b[1;33m]\u001b[0m\u001b[1;33m\u001b[0m\u001b[1;33m\u001b[0m\u001b[0m\n\u001b[0;32m     16\u001b[0m \u001b[1;33m\u001b[0m\u001b[0m\n\u001b[1;32m---> 17\u001b[1;33m         \u001b[0mim\u001b[0m \u001b[1;33m=\u001b[0m \u001b[0mrEYEker\u001b[0m\u001b[1;33m.\u001b[0m\u001b[0mdraw_shape_heat_map\u001b[0m\u001b[1;33m(\u001b[0m\u001b[0mimage_array\u001b[0m\u001b[1;33m[\u001b[0m\u001b[0mdataset_idx\u001b[0m\u001b[1;33m]\u001b[0m\u001b[1;33m,\u001b[0m \u001b[0mstimulus_measurement\u001b[0m\u001b[1;33m,\u001b[0m\u001b[0mclick_setting\u001b[0m\u001b[1;33m,\u001b[0m \u001b[0mtime_stamps\u001b[0m\u001b[1;33m=\u001b[0m\u001b[0mtimes\u001b[0m\u001b[1;33m,\u001b[0m \u001b[0mshould_copy\u001b[0m\u001b[1;33m=\u001b[0m\u001b[1;32mTrue\u001b[0m\u001b[1;33m)\u001b[0m\u001b[1;33m\u001b[0m\u001b[1;33m\u001b[0m\u001b[0m\n\u001b[0m\u001b[0;32m     18\u001b[0m         \u001b[0mheatmap_array\u001b[0m\u001b[1;33m.\u001b[0m\u001b[0mappend\u001b[0m\u001b[1;33m(\u001b[0m\u001b[0mim\u001b[0m\u001b[1;33m)\u001b[0m\u001b[1;33m\u001b[0m\u001b[1;33m\u001b[0m\u001b[0m\n\u001b[0;32m     19\u001b[0m \u001b[1;33m\u001b[0m\u001b[0m\n",
      "\u001b[1;32m~\\OneDrive\\Dokumente\\GitHub\\REyeker\\REyeker-DataAnalyses-Python\\modules\\rEYEkerAnalysis.py\u001b[0m in \u001b[0;36mdraw_shape_heat_map\u001b[1;34m(image, coordinates, click_settings, min_idx, max_idx, time_stamps, should_copy)\u001b[0m\n\u001b[0;32m    297\u001b[0m     \u001b[0mmax_idx\u001b[0m \u001b[1;33m=\u001b[0m \u001b[0mutils\u001b[0m\u001b[1;33m.\u001b[0m\u001b[0mclamp\u001b[0m\u001b[1;33m(\u001b[0m\u001b[0mmax_idx\u001b[0m\u001b[1;33m,\u001b[0m \u001b[1;36m1\u001b[0m\u001b[1;33m,\u001b[0m \u001b[0mlen\u001b[0m\u001b[1;33m(\u001b[0m\u001b[0mcoordinates\u001b[0m\u001b[1;33m)\u001b[0m\u001b[1;33m)\u001b[0m\u001b[1;33m\u001b[0m\u001b[1;33m\u001b[0m\u001b[0m\n\u001b[0;32m    298\u001b[0m \u001b[1;33m\u001b[0m\u001b[0m\n\u001b[1;32m--> 299\u001b[1;33m     \u001b[0mhmh\u001b[0m\u001b[1;33m.\u001b[0m\u001b[0mdraw_shape_heat_map\u001b[0m\u001b[1;33m(\u001b[0m\u001b[0mim\u001b[0m\u001b[1;33m,\u001b[0m \u001b[0mmin_idx\u001b[0m\u001b[1;33m,\u001b[0m \u001b[0mmax_idx\u001b[0m\u001b[1;33m,\u001b[0m \u001b[0mcoordinates\u001b[0m\u001b[1;33m,\u001b[0m \u001b[0mclick_settings\u001b[0m\u001b[1;33m,\u001b[0m \u001b[0mtime_stamps\u001b[0m\u001b[1;33m)\u001b[0m\u001b[1;33m\u001b[0m\u001b[1;33m\u001b[0m\u001b[0m\n\u001b[0m\u001b[0;32m    300\u001b[0m \u001b[1;33m\u001b[0m\u001b[0m\n\u001b[0;32m    301\u001b[0m     \u001b[1;32mreturn\u001b[0m \u001b[0mim\u001b[0m\u001b[1;33m\u001b[0m\u001b[1;33m\u001b[0m\u001b[0m\n",
      "\u001b[1;32m~\\OneDrive\\Dokumente\\GitHub\\REyeker\\REyeker-DataAnalyses-Python\\modules\\HeatmapHelpers.py\u001b[0m in \u001b[0;36mdraw_shape_heat_map\u001b[1;34m(image, min_idx, max_idx, coordinates, click_settings, time_stamps)\u001b[0m\n\u001b[0;32m    419\u001b[0m         \u001b[1;32mfor\u001b[0m \u001b[0mi\u001b[0m \u001b[1;32min\u001b[0m \u001b[0mrange\u001b[0m\u001b[1;33m(\u001b[0m\u001b[0mmin_idx\u001b[0m\u001b[1;33m,\u001b[0m \u001b[0mmax_idx\u001b[0m\u001b[1;33m)\u001b[0m\u001b[1;33m:\u001b[0m\u001b[1;33m\u001b[0m\u001b[1;33m\u001b[0m\u001b[0m\n\u001b[0;32m    420\u001b[0m             \u001b[0mtime\u001b[0m \u001b[1;33m=\u001b[0m \u001b[0mget_time\u001b[0m\u001b[1;33m(\u001b[0m\u001b[0mi\u001b[0m\u001b[1;33m,\u001b[0m \u001b[0mtime_stamps\u001b[0m\u001b[1;33m)\u001b[0m\u001b[1;33m\u001b[0m\u001b[1;33m\u001b[0m\u001b[0m\n\u001b[1;32m--> 421\u001b[1;33m             fill_for_rectangle(heat_values, coordinates[i][0], coordinates[i][1], click_settings, max_width, max_height,\n\u001b[0m\u001b[0;32m    422\u001b[0m                                time)\n\u001b[0;32m    423\u001b[0m     \u001b[1;32melif\u001b[0m \u001b[0mclick_settings\u001b[0m\u001b[1;33m.\u001b[0m\u001b[0muse_circle\u001b[0m\u001b[1;33m:\u001b[0m\u001b[1;33m\u001b[0m\u001b[1;33m\u001b[0m\u001b[0m\n",
      "\u001b[1;32m~\\OneDrive\\Dokumente\\GitHub\\REyeker\\REyeker-DataAnalyses-Python\\modules\\HeatmapHelpers.py\u001b[0m in \u001b[0;36mfill_for_rectangle\u001b[1;34m(heat_values, x, y, click_settings, max_width, max_height, time)\u001b[0m\n\u001b[0;32m    152\u001b[0m     \u001b[0my_max\u001b[0m \u001b[1;33m=\u001b[0m \u001b[0mmin\u001b[0m\u001b[1;33m(\u001b[0m\u001b[0my\u001b[0m \u001b[1;33m+\u001b[0m \u001b[0mclick_settings\u001b[0m\u001b[1;33m.\u001b[0m\u001b[0mminimal_height\u001b[0m \u001b[1;33m+\u001b[0m \u001b[0mclick_settings\u001b[0m\u001b[1;33m.\u001b[0m\u001b[0mgrad_radius\u001b[0m\u001b[1;33m,\u001b[0m \u001b[0mmax_height\u001b[0m\u001b[1;33m)\u001b[0m\u001b[1;33m\u001b[0m\u001b[1;33m\u001b[0m\u001b[0m\n\u001b[0;32m    153\u001b[0m \u001b[1;33m\u001b[0m\u001b[0m\n\u001b[1;32m--> 154\u001b[1;33m     fill_rectangle_helper(x_min, x_max, y_min, y_max, minimal_x_rect, maximal_x_rect, minimal_y_rect, maximal_y_rect,\n\u001b[0m\u001b[0;32m    155\u001b[0m                           \u001b[0mclick_settings\u001b[0m\u001b[1;33m.\u001b[0m\u001b[0mminimal_width\u001b[0m\u001b[1;33m,\u001b[0m \u001b[0mclick_settings\u001b[0m\u001b[1;33m.\u001b[0m\u001b[0mminimal_height\u001b[0m\u001b[1;33m,\u001b[0m \u001b[0mclick_settings\u001b[0m\u001b[1;33m.\u001b[0m\u001b[0mgrad_radius\u001b[0m\u001b[1;33m,\u001b[0m\u001b[1;33m\u001b[0m\u001b[1;33m\u001b[0m\u001b[0m\n\u001b[0;32m    156\u001b[0m                           x, y, heat_values, time, max_width)\n",
      "\u001b[1;32m~\\OneDrive\\Dokumente\\GitHub\\REyeker\\REyeker-DataAnalyses-Python\\modules\\HeatmapHelpers.py\u001b[0m in \u001b[0;36mfill_rectangle_helper\u001b[1;34m(x_min, x_max, y_min, y_max, minimal_x_rect, maximal_x_rect, minimal_y_rect, maximal_y_rect, minimal_width, minimal_height, grad_radius, x, y, heat_values, time, max_width)\u001b[0m\n\u001b[0;32m    121\u001b[0m                 \u001b[0mx_distance_norm\u001b[0m \u001b[1;33m=\u001b[0m \u001b[0mmax\u001b[0m\u001b[1;33m(\u001b[0m\u001b[1;36m0.0\u001b[0m\u001b[1;33m,\u001b[0m \u001b[0mx_distance_norm\u001b[0m \u001b[1;33m/\u001b[0m \u001b[0mgrad_radius\u001b[0m\u001b[1;33m)\u001b[0m\u001b[1;33m\u001b[0m\u001b[1;33m\u001b[0m\u001b[0m\n\u001b[0;32m    122\u001b[0m \u001b[1;33m\u001b[0m\u001b[0m\n\u001b[1;32m--> 123\u001b[1;33m                 \u001b[0my_distance_norm\u001b[0m \u001b[1;33m=\u001b[0m \u001b[0mmax\u001b[0m\u001b[1;33m(\u001b[0m\u001b[1;36m0.0\u001b[0m\u001b[1;33m,\u001b[0m \u001b[0my_distance\u001b[0m \u001b[1;33m-\u001b[0m \u001b[0mminimal_height\u001b[0m\u001b[1;33m)\u001b[0m\u001b[1;33m\u001b[0m\u001b[1;33m\u001b[0m\u001b[0m\n\u001b[0m\u001b[0;32m    124\u001b[0m                 \u001b[0my_distance_norm\u001b[0m \u001b[1;33m=\u001b[0m \u001b[0mmax\u001b[0m\u001b[1;33m(\u001b[0m\u001b[1;36m0.0\u001b[0m\u001b[1;33m,\u001b[0m \u001b[0my_distance_norm\u001b[0m \u001b[1;33m/\u001b[0m \u001b[0mgrad_radius\u001b[0m\u001b[1;33m)\u001b[0m\u001b[1;33m\u001b[0m\u001b[1;33m\u001b[0m\u001b[0m\n\u001b[0;32m    125\u001b[0m \u001b[1;33m\u001b[0m\u001b[0m\n",
      "\u001b[1;31mKeyboardInterrupt\u001b[0m: "
     ]
    }
   ],
   "source": [
    "heatmaps_matrix = []\n",
    "\n",
    "# iterate over all the datasets\n",
    "for dataset_idx, stimulus_dataset in enumerate(visual_stimulus_data_matrix):\n",
    "    time_stamp_array = None\n",
    "    if len(timestamps_data_matrix) > dataset_idx:\n",
    "        time_stamp_array = timestamps_data_matrix[dataset_idx]\n",
    "    \n",
    "    heatmap_array = []\n",
    "\n",
    "    # iterate over all the measurements of the dataset\n",
    "    for visual_idx, stimulus_measurement in enumerate(stimulus_dataset):\n",
    "        times = None\n",
    "        if time_stamp_array is not None and len(time_stamp_array) > visual_idx:\n",
    "            times = time_stamp_array[visual_idx]\n",
    "        \n",
    "        im = rEYEker.draw_shape_heat_map(image_array[dataset_idx], stimulus_measurement,click_setting, time_stamps=times, should_copy=True)\n",
    "        heatmap_array.append(im)\n",
    "        \n",
    "    heatmaps_matrix.append(heatmap_array)"
   ]
  },
  {
   "cell_type": "markdown",
   "metadata": {},
   "source": [
    "save Heatmaps"
   ]
  },
  {
   "cell_type": "code",
   "execution_count": null,
   "metadata": {},
   "outputs": [],
   "source": [
    "for idx, heatmap_array in enumerate(heatmaps_matrix):\n",
    "    save_images(heatmap_array, \"./results/heatmaps/heatmaps/\" +  config_folder_prefix_array[idx], config_image_prefix_array[idx])"
   ]
  },
  {
   "cell_type": "markdown",
   "metadata": {},
   "source": [
    "<h2>3. Create Average Heatmaps</h2>"
   ]
  },
  {
   "cell_type": "markdown",
   "metadata": {},
   "source": [
    "create heatmaps"
   ]
  },
  {
   "cell_type": "code",
   "execution_count": 81,
   "metadata": {},
   "outputs": [],
   "source": [
    "average_heatmap_array = []\n",
    "avergae_heatmask_array = []\n",
    "\n",
    "# iterate over all the datasets\n",
    "for idx, stimulus_dataset in enumerate(visual_stimulus_data_matrix):\n",
    "    image = image_array[idx]\n",
    "    visual_measurements = visual_stimulus_data_matrix[idx]\n",
    "    time_measurements = None\n",
    "    if len(timestamps_data_matrix) > idx:\n",
    "        time_measurements = timestamps_data_matrix[idx]\n",
    "    im, mask = rEYEker.draw_average_shape_heat_map_rel(image, visual_measurements, click_setting, 1.0, .0, time_measurements, should_copy=True)\n",
    "    average_heatmap_array.append(im)\n",
    "    avergae_heatmask_array.append(mask)"
   ]
  },
  {
   "cell_type": "markdown",
   "metadata": {},
   "source": [
    "save heatmaps"
   ]
  },
  {
   "cell_type": "code",
   "execution_count": null,
   "metadata": {},
   "outputs": [],
   "source": [
    "for idx, heatmap in enumerate(average_heatmap_array):\n",
    "    save_images([heatmap], \"./results/heatmaps/average_heatmap/\", config_image_prefix_array[idx])"
   ]
  },
  {
   "cell_type": "markdown",
   "metadata": {},
   "source": [
    "<h2>4. Create Sequence diagramms</h2>"
   ]
  },
  {
   "cell_type": "markdown",
   "metadata": {},
   "source": [
    "create sequence diagrams"
   ]
  },
  {
   "cell_type": "code",
   "execution_count": null,
   "metadata": {},
   "outputs": [],
   "source": [
    "sequence_diagrams_matrix = []\n",
    "\n",
    "# iterate over all the datasets\n",
    "for dataset_idx, stimulus_dataset in enumerate(visual_stimulus_data_matrix):\n",
    "    #if time will be needed someday\n",
    "    #time_stamp_array = None\n",
    "    #if len(timestamps_data_matrix) > dataset_idx:\n",
    "    #    time_stamp_array = timestamps_data_matrix[dataset_idx]\n",
    "    \n",
    "    sequence_diagram_array = []\n",
    "\n",
    "    # iterate over all the measurements of the dataset\n",
    "    for visual_idx, stimulus_measurement in enumerate(stimulus_dataset):\n",
    "        #if time will be needed someday\n",
    "        #times = None\n",
    "        #if time_stamp_array is not None and len(time_stamp_array) > visual_idx:\n",
    "        #    times = time_stamp_array[visual_idx]\n",
    "        try:\n",
    "            im = rEYEker.draw_vertical_line_diagram(image_array[dataset_idx], stimulus_measurement, should_copy=True)\n",
    "            sequence_diagram_array.append(im)\n",
    "        except:\n",
    "            #TODO\n",
    "            print(\"W.I.P.:\", end='')\n",
    "            print(\"to many clicks for dataset \" + str(dataset_idx) + \" datset \" + str(visual_idx))\n",
    "    sequence_diagrams_matrix.append(sequence_diagram_array)"
   ]
  },
  {
   "cell_type": "markdown",
   "metadata": {},
   "source": [
    "save sequence diagrams"
   ]
  },
  {
   "cell_type": "code",
   "execution_count": null,
   "metadata": {},
   "outputs": [],
   "source": [
    "for idx, sequence_diagram_array in enumerate(sequence_diagrams_matrix):\n",
    "    save_images(sequence_diagram_array, \"./results/sequence_diagrams/\"  +  config_folder_prefix_array[idx], config_image_prefix_array[idx])"
   ]
  },
  {
   "cell_type": "markdown",
   "metadata": {},
   "source": [
    "<h2>5. Generate Code Flow diagramm</h2>\n",
    "\n",
    "<h4> User rEYEke_COdeFlow.ipynb to create the corresponding excel sheets </h4>"
   ]
  },
  {
   "cell_type": "markdown",
   "metadata": {},
   "source": [
    "<h2>7. Analyse average of Data</h2>"
   ]
  },
  {
   "cell_type": "markdown",
   "metadata": {},
   "source": [
    "<h3>7.1 Helper Functions</h3>"
   ]
  },
  {
   "cell_type": "code",
   "execution_count": null,
   "metadata": {},
   "outputs": [],
   "source": [
    "def save_displots(folder, indexing_array, df_array):\n",
    "    \"\"\"\n",
    "    folder:         prefix where to save\n",
    "    indexing_array: how to index into the dataframe\n",
    "    df_array:     array of dataframes to plot\n",
    "    \"\"\"\n",
    "    Path(folder).mkdir(parents=True, exist_ok=True)\n",
    "    \n",
    "    for idx, dataframe in enumerate(df_array):\n",
    "        values = dataframe[indexing_array[idx]].values.astype(float)\n",
    "        sns_plot = sns.displot(data=values, kde=True)\n",
    "        sns_plot.savefig(folder + config_image_prefix_array[idx] + \".png\")\n",
    "        plt.close()\n",
    "\n",
    "        \n",
    "def save_combined_displot(folder, x_axis, dataframe):\n",
    "    \"\"\"\n",
    "    folder:         prefix where to save\n",
    "    x_axis:         value to use for x_axis\n",
    "    dataframe:      dataframe with \"Algorithm\" field\n",
    "    \"\"\"\n",
    "    Path(folder).mkdir(parents=True, exist_ok=True)\n",
    "    \n",
    "    sns_plot = sns.displot(data=dataframe, x=x_axis, hue=\"Algorithm\", kind=\"kde\")\n",
    "    sns_plot.savefig(folder + \"Combined_Displot.png\")\n",
    "    plt.close()"
   ]
  },
  {
   "cell_type": "code",
   "execution_count": null,
   "metadata": {},
   "outputs": [],
   "source": [
    "def save_barplot(folder, y_axis, df_array):\n",
    "    \"\"\"\n",
    "    folder:         prefix where to save\n",
    "    y_axis:         value to use for y_axis\n",
    "    df_array:     array of dataframes to plot\n",
    "    \"\"\"\n",
    "    Path(folder).mkdir(parents=True, exist_ok=True)\n",
    "    \n",
    "    sns_plot = sns.barplot(y=y_axis, x='Algorithm', data=df_array, hue='Algorithm', estimator=np.median)\n",
    "    sns_plot.legend_.remove()\n",
    "    sns_plot.figure.savefig(folder + \"Combined_Barplot.png\")\n",
    "    plt.close()"
   ]
  },
  {
   "cell_type": "code",
   "execution_count": null,
   "metadata": {},
   "outputs": [],
   "source": [
    "def save_boxplot(folder, y_axis, df_array):\n",
    "    \"\"\"\n",
    "    folder:         prefix where to save\n",
    "    y_axis:         value to use for y_axis\n",
    "    df_array:     array of dataframes to plot\n",
    "    \"\"\"\n",
    "    Path(folder).mkdir(parents=True, exist_ok=True)\n",
    "    \n",
    "    sns_plot = sns.boxplot(y=y_axis, x='Algorithm', data=df_array, hue='Algorithm')\n",
    "    sns_plot.legend_.remove()\n",
    "    sns_plot.figure.savefig(folder + \"Combined_Boxplot.png\")\n",
    "    plt.close()"
   ]
  },
  {
   "cell_type": "code",
   "execution_count": null,
   "metadata": {},
   "outputs": [],
   "source": [
    "def save_violinplot(folder, y_axis, df_array):\n",
    "    \"\"\"\n",
    "    folder:         prefix where to save\n",
    "    y_axis:         value to use for y_axis\n",
    "    df_array:     array of dataframes to plot\n",
    "    \"\"\"\n",
    "    Path(folder).mkdir(parents=True, exist_ok=True)\n",
    "    \n",
    "    sns_plot = sns.violinplot(y=y_axis, x='Algorithm', data=df_array, hue='Algorithm')\n",
    "    sns_plot.legend_.remove()\n",
    "    sns_plot.figure.savefig(folder + \"Combined_Violinplot.png\")\n",
    "    plt.close()"
   ]
  },
  {
   "cell_type": "code",
   "execution_count": null,
   "metadata": {},
   "outputs": [],
   "source": [
    "def save_implots(folder, x_df, x_axis, y_df, y_axis):\n",
    "    Path(folder).mkdir(parents=True, exist_ok=True)\n",
    "    \n",
    "    tmp_list = []\n",
    "    for idx in range(len(x_df)):\n",
    "        x_val = x_df[x_axis][idx]\n",
    "        y_val = y_df[y_axis][idx]\n",
    "        algorithm = x_df['Algorithm'][idx]\n",
    "        tmp_list.append([x_val, y_val, algorithm])\n",
    "        \n",
    "    df_tmp = pd.DataFrame(tmp_list, columns=[x_axis, y_axis, 'Algorithm'])\n",
    "    for idx in range(len(config_algo_names)):\n",
    "        tmp_df = df_tmp[df_tmp[\"Algorithm\"] == config_algo_names[idx]]\n",
    "        sns_plot = sns.lmplot(data=tmp_df, x=x_axis, y=y_axis)\n",
    "        sns_plot.set(ylim=(0, None))\n",
    "        sns_plot.savefig(folder + config_algo_names[idx] + str(idx) + \".png\")\n",
    "        plt.close()\n",
    "\n",
    "def save_combined_implot(folder, x_df, x_axis, y_df, y_axis):\n",
    "    Path(folder).mkdir(parents=True, exist_ok=True)\n",
    "    \n",
    "    tmp_list = []\n",
    "    for idx in range(len(x_df)):\n",
    "        x_val = x_df[x_axis][idx]\n",
    "        y_val = y_df[y_axis][idx]\n",
    "        algorithm = x_df['Algorithm'][idx]\n",
    "        tmp_list.append([x_val, y_val, algorithm])\n",
    "        \n",
    "    df_tmp = pd.DataFrame(tmp_list, columns=[x_axis, y_axis, 'Algorithm'])\n",
    "    sns_plot = sns.lmplot(data=df_tmp, x=x_axis, y=y_axis, hue=\"Algorithm\")\n",
    "    sns_plot.set(ylim=(0, None))\n",
    "    sns_plot.savefig(folder + \"Combined_Implot.png\")\n",
    "    plt.close()"
   ]
  },
  {
   "cell_type": "markdown",
   "metadata": {},
   "source": [
    "<h3>7.2 Response Time</h3>"
   ]
  },
  {
   "cell_type": "markdown",
   "metadata": {},
   "source": [
    "Create new Dataframe which holds all the response time data"
   ]
  },
  {
   "cell_type": "code",
   "execution_count": null,
   "metadata": {},
   "outputs": [],
   "source": [
    "columns = ['Response Time', 'Algorithm']\n",
    "data = []\n",
    "for idx, dataframe in enumerate(df_array):\n",
    "    for _idx, row in dataframe.iterrows():\n",
    "        data.append([row[config_response_time_variable_array[idx]], config_algo_names[idx]])\n",
    "algo_df = pd.DataFrame(data, columns=columns)"
   ]
  },
  {
   "cell_type": "markdown",
   "metadata": {},
   "source": [
    "Create and Save Displots"
   ]
  },
  {
   "cell_type": "code",
   "execution_count": null,
   "metadata": {},
   "outputs": [],
   "source": [
    "save_displots(\"./results/responseTime/displots/\", config_response_time_variable_array, df_array)\n",
    "\n",
    "save_combined_displot(\"./results/responseTime/displots/\", \"Response Time\", algo_df)"
   ]
  },
  {
   "cell_type": "markdown",
   "metadata": {},
   "source": [
    "Create and save barplots"
   ]
  },
  {
   "cell_type": "code",
   "execution_count": null,
   "metadata": {},
   "outputs": [],
   "source": [
    "save_barplot(\"./results/responseTime/barplot/\", 'Response Time', algo_df)"
   ]
  },
  {
   "cell_type": "markdown",
   "metadata": {},
   "source": [
    "Create and save boxplot"
   ]
  },
  {
   "cell_type": "code",
   "execution_count": null,
   "metadata": {},
   "outputs": [],
   "source": [
    "save_boxplot(\"./results/responseTime/boxplot/\", 'Response Time', algo_df)"
   ]
  },
  {
   "cell_type": "markdown",
   "metadata": {},
   "source": [
    "Create and save violinplot"
   ]
  },
  {
   "cell_type": "code",
   "execution_count": null,
   "metadata": {},
   "outputs": [],
   "source": [
    "save_violinplot(\"./results/responseTime/violinplot/\", 'Response Time', algo_df)"
   ]
  },
  {
   "cell_type": "markdown",
   "metadata": {},
   "source": [
    "<h3>7.3. Code Flow vs Visual Stimulus</h3>"
   ]
  },
  {
   "cell_type": "markdown",
   "metadata": {},
   "source": [
    "Load daraframes"
   ]
  },
  {
   "cell_type": "code",
   "execution_count": null,
   "metadata": {},
   "outputs": [],
   "source": [
    "# read data\n",
    "config_array = []\n",
    "code_flow_array = []\n",
    "\n",
    "for value in config_code_flow_datasheet_array:\n",
    "    sheet_config = pd.read_excel('./data/code_flow/' + value, sheet_name=\"config\")\n",
    "    sheet_config = sheet_config.astype('int32')\n",
    "    \n",
    "    sheet_code_flow = pd.read_excel('./data/code_flow/' + value, sheet_name=\"values\")\n",
    "    sheet_code_flow = sheet_code_flow.astype('int32')\n",
    "    \n",
    "    config_array.append(sheet_config)\n",
    "    code_flow_array.append(sheet_code_flow)\n",
    "\n",
    "# transform stimulus data into code lines\n",
    "visual_stimulus_code_flow_matrix = []\n",
    "\n",
    "for idx1, visual_stimulus_dataset in enumerate(visual_stimulus_data_matrix):\n",
    "    converted_to_lines_array = []\n",
    "    \n",
    "    for dataset in visual_stimulus_dataset:\n",
    "        converted_to_lines = []\n",
    "        \n",
    "        for (x, y) in dataset:\n",
    "            num = -1\n",
    "            \n",
    "            for idx2, tup in config_array[idx1].iterrows():\n",
    "                if is_in(y, tup):\n",
    "                    num = idx2\n",
    "            \n",
    "            converted_to_lines.append(num)\n",
    "            \n",
    "        converted_to_lines_array.append(converted_to_lines)\n",
    "        \n",
    "    visual_stimulus_code_flow_matrix.append(converted_to_lines_array)"
   ]
  },
  {
   "cell_type": "code",
   "execution_count": null,
   "metadata": {},
   "outputs": [],
   "source": [
    "# gen sequence for visual stimulus flow\n",
    "        \n",
    "visual_stimulus_flow_matrix = []\n",
    "\n",
    "for idx, visual_stimulus_code_flow_datasets in enumerate(visual_stimulus_code_flow_matrix):\n",
    "    sequence_array = []\n",
    "    multiplier_offset = 10**get_0_offset(len(config_array[idx]))\n",
    "    \n",
    "    for visual_stimulus_code_flow_dataset in visual_stimulus_code_flow_datasets:\n",
    "        sequence = []\n",
    "        \n",
    "        for start in range(len(visual_stimulus_code_flow_dataset)-1):\n",
    "            pre = visual_stimulus_code_flow_dataset[start]\n",
    "            post = visual_stimulus_code_flow_dataset[start+1]\n",
    "            #potential skip if pre and post is equal, may be useful\n",
    "            num = pre * multiplier_offset + post\n",
    "            sequence.append(num)\n",
    "            \n",
    "        sequence_array.append(sequence)\n",
    "        \n",
    "    visual_stimulus_flow_matrix.append(sequence_array)"
   ]
  },
  {
   "cell_type": "code",
   "execution_count": null,
   "metadata": {},
   "outputs": [],
   "source": [
    "# gen sequence for code flow\n",
    "code_flow_sequence_array = []\n",
    "\n",
    "for code_flow_dataset in code_flow_array:\n",
    "    sequence = []\n",
    "    multiplier_offset = 10**get_0_offset(len(code_flow_dataset))\n",
    "    \n",
    "    for start in range(len(code_flow_dataset)-1):\n",
    "        pre = code_flow_dataset['code flow'][start]\n",
    "        post = code_flow_dataset['code flow'][start+1]\n",
    "        #potential skip if pre and post is equal, may be useful\n",
    "        num = pre * multiplier_offset + post\n",
    "        sequence.append(num)\n",
    "        \n",
    "    code_flow_sequence_array.append(sequence)"
   ]
  },
  {
   "cell_type": "code",
   "execution_count": null,
   "metadata": {},
   "outputs": [],
   "source": [
    "#create dataframes\n",
    "similarity_matrix = []\n",
    "\n",
    "for idx, code_flow_sequence in enumerate(code_flow_sequence_array):\n",
    "    sim_data = []\n",
    "    for visual_stimulus_sequence in visual_stimulus_flow_matrix[idx]:\n",
    "        sim_data.append(difflib.SequenceMatcher(None, code_flow_sequence, visual_stimulus_sequence).ratio())\n",
    "        \n",
    "    similarity_matrix.append(sim_data)\n",
    "    \n",
    "cols = ['Similarity', 'Algorithm']\n",
    "data = []\n",
    "for idx in range(len(similarity_matrix)):\n",
    "    for score in similarity_matrix[idx]:\n",
    "        data.append([score, config_algo_names[idx]])\n",
    "\n",
    "df_similarity = pd.DataFrame(data, columns=cols)\n",
    "df_similarity_array = []\n",
    "for idx in range(len(code_flow_array)):\n",
    "    df = pd.DataFrame(df_similarity.loc[df_similarity['Algorithm'] == config_algo_names[idx]] ,columns=cols)\n",
    "    df = df.drop('Algorithm', axis=1)\n",
    "    df_similarity_array.append(df)"
   ]
  },
  {
   "cell_type": "code",
   "execution_count": null,
   "metadata": {},
   "outputs": [],
   "source": [
    "save_displots(\"./results/codeFlowSimilarity/displots/\", [\"Similarity\"]*len(similarity_matrix), df_similarity_array)\n",
    "\n",
    "save_combined_displot(\"./results/codeFlowSimilarity/displots/\", \"Similarity\", df_similarity)"
   ]
  },
  {
   "cell_type": "code",
   "execution_count": null,
   "metadata": {},
   "outputs": [],
   "source": [
    "save_barplot(\"./results/codeFlowSimilarity/barplot/\", 'Similarity', df_similarity)"
   ]
  },
  {
   "cell_type": "code",
   "execution_count": null,
   "metadata": {},
   "outputs": [],
   "source": [
    "save_boxplot(\"./results/codeFlowSimilarity/boxplot/\", 'Similarity', df_similarity)"
   ]
  },
  {
   "cell_type": "code",
   "execution_count": null,
   "metadata": {},
   "outputs": [],
   "source": [
    "save_violinplot(\"./results/codeFlowSimilarity/violinplot/\", 'Similarity', df_similarity)"
   ]
  },
  {
   "cell_type": "markdown",
   "metadata": {},
   "source": [
    "<h3>7.4. Regression Code Flow and Response time</h3>"
   ]
  },
  {
   "cell_type": "code",
   "execution_count": null,
   "metadata": {},
   "outputs": [],
   "source": [
    "save_implots(\"./results/codeFlowSimilarity/implots/\", df_similarity, \"Similarity\", algo_df, \"Response Time\")\n",
    "save_combined_implot(\"./results/codeFlowSimilarity/implots/\", df_similarity, \"Similarity\", algo_df, \"Response Time\")"
   ]
  },
  {
   "cell_type": "markdown",
   "metadata": {},
   "source": [
    "<h3>7.5. Statistical Values</h3>"
   ]
  },
  {
   "cell_type": "markdown",
   "metadata": {},
   "source": [
    "Create Excel sheet with data containing speedup and significance corresponding to response time"
   ]
  },
  {
   "cell_type": "code",
   "execution_count": null,
   "metadata": {},
   "outputs": [],
   "source": [
    "def create_statical_data(df_array, indexing_array, folder, name):\n",
    "    def highlight_signficant(s):\n",
    "        if s.name != '#':\n",
    "            is_sig = df_significance[s.name]\n",
    "            return ['background-color: green' if v else '' for v in is_sig]\n",
    "        else:\n",
    "            return ['' for v in s] \n",
    "    \n",
    "    mean_array = []\n",
    "    is_significant = []\n",
    "    t_value_response_time = []\n",
    "    p_value_response_time = []\n",
    "    ratio = []\n",
    "\n",
    "    for idx1, df1 in enumerate(df_array):\n",
    "        different_tmp = [config_algo_names[idx1]]\n",
    "        t_tmp = [config_algo_names[idx1]]\n",
    "        p_tmp = [config_algo_names[idx1]]\n",
    "        ratio_tmp = [config_algo_names[idx1]]\n",
    "    \n",
    "        for idx2, df2 in enumerate(df_array):\n",
    "            (different, t, p) = compare_for_h0(df1[indexing_array[idx1]].values, df2[indexing_array[idx2]],  config_alpha)\n",
    "            different_tmp.append(not different)\n",
    "            t_tmp.append(t)\n",
    "            p_tmp.append(p)\n",
    "            ratio_tmp.append(df1[indexing_array[idx1]].mean() / df2[indexing_array[idx2]].mean())\n",
    "        \n",
    "        is_significant.append(different_tmp)\n",
    "        t_value_response_time.append(t_tmp)\n",
    "        p_value_response_time.append(p_tmp)\n",
    "        ratio.append(ratio_tmp)\n",
    "        mean_array.append(df1[indexing_array[idx1]].mean())\n",
    "    \n",
    "    df_significance = pd.DataFrame(is_significant, columns=['#'] + config_algo_names)\n",
    "\n",
    "    df_t = pd.DataFrame(t_value_response_time, columns=['#'] + config_algo_names)\n",
    "    df_p = pd.DataFrame(p_value_response_time, columns=['#'] + config_algo_names)\n",
    "    df_ratio = pd.DataFrame(ratio, columns=['#'] + config_algo_names)\n",
    "    df_ratio = df_ratio.style.apply(highlight_signficant)\n",
    "    df_mean = pd.DataFrame([mean_array], columns=config_algo_names)\n",
    "\n",
    "    Path(folder).mkdir(parents=True, exist_ok=True)\n",
    "\n",
    "    writer = pd.ExcelWriter(folder + name + '.xlsx', engine='xlsxwriter')\n",
    "\n",
    "    df_ratio.to_excel(writer, sheet_name='ratio col row', index=False)\n",
    "    df_mean.to_excel(writer, sheet_name='mean value', index=False)\n",
    "    df_significance.to_excel(writer, sheet_name='statistical difference', index=False)\n",
    "    df_p.to_excel(writer, sheet_name='p values', index=False)\n",
    "    df_t.to_excel(writer, sheet_name='t values', index=False)\n",
    "\n",
    "    writer.save()"
   ]
  },
  {
   "cell_type": "code",
   "execution_count": null,
   "metadata": {},
   "outputs": [],
   "source": [
    "len_of_visual = []\n",
    "for dataset_row in visual_stimulus_data_matrix:\n",
    "    tmp_len = []\n",
    "    for dataset in dataset_row:\n",
    "        tmp_len.append(len(dataset))\n",
    "    len_of_visual.append(tmp_len)\n",
    "    \n",
    "len_df_array = []\n",
    "for len_array in len_of_visual:\n",
    "    df = pd.DataFrame(len_array, columns=['len'])\n",
    "    len_df_array.append(df)"
   ]
  },
  {
   "cell_type": "markdown",
   "metadata": {},
   "source": [
    "Create Excel sheet with data containing speedup and significance corresponding to len of measured visual stimulus data"
   ]
  },
  {
   "cell_type": "code",
   "execution_count": null,
   "metadata": {},
   "outputs": [],
   "source": [
    "create_statical_data(df_array, config_response_time_variable_array, './results/excel/', 'TotalResponseTime')\n",
    "create_statical_data(len_df_array, ['len']*len(len_df_array), './results/excel/', 'NumberOfMeasurements')\n",
    "create_statical_data(df_similarity_array, ['Similarity']*len(df_similarity_array), './results/excel/', 'SimilarityToCodeFlow')"
   ]
  },
  {
   "cell_type": "markdown",
   "metadata": {},
   "source": [
    "<h2>8. Areas of Interest </h2>"
   ]
  },
  {
   "cell_type": "markdown",
   "metadata": {},
   "source": [
    "<h3>8.1. Helper</h3>"
   ]
  },
  {
   "cell_type": "code",
   "execution_count": 112,
   "metadata": {},
   "outputs": [],
   "source": [
    "from matplotlib.patches import Rectangle\n",
    "\n",
    "def save_aoi_sequences(folder, image, image_prefix, aoi_mask, aoi_names, visual_measurement_array):\n",
    "    \n",
    "    Path(folder).mkdir(parents=True, exist_ok=True)\n",
    "    \n",
    "    color = []\n",
    "    \n",
    "    for idx, visual_measurement in enumerate(visual_measurement_array):\n",
    "        im = image.copy()\n",
    "        \n",
    "        x = [x for (x,y) in visual_measurement]\n",
    "        y = [y for (x,y) in visual_measurement]\n",
    "        \n",
    "        cats = [int(aoi_mask[y,x]) for (x,y) in visual_measurement]\n",
    "        classes = [aoi_names[idx] for idx in cats]\n",
    "\n",
    "        val = [idx for idx in aoi_names]\n",
    "        for value in classes:\n",
    "            val.append(value)\n",
    "        \n",
    "        classes = val\n",
    "        \n",
    "        df_classes = pd.DataFrame(classes, columns=[\"aois\"])\n",
    "        incremental_step = float(df_classes['aois'].value_counts().max()-1)/float(max(len(cats) - 1,1))\n",
    "        \n",
    "        y_val = [1+i*incremental_step for i in range(len(cats))]\n",
    "        x_val = cats\n",
    "        \n",
    "        fig, ax1 = plt.subplots(figsize=(6,6))\n",
    "        \n",
    "        sns.countplot(x=\"aois\", data=df_classes, ax=ax1);\n",
    "        ax1.plot(x_val, y_val, '-o', linewidth=2, color='black');\n",
    "        ax1.set_xticklabels(ax1.get_xticklabels(),rotation=35, horizontalalignment='right')\n",
    "        \n",
    "        ax1.figure.savefig(folder + image_prefix + \"aoi_sequence_\" + str(idx) + \".png\")\n",
    "        ax_color = ax1\n",
    "        \n",
    "        bars = [r for r in ax_color.get_children() if type(r)==Rectangle]\n",
    "        colors = [c.get_facecolor() for c in bars[:-1]]\n",
    "        colors = [[r,g,b] for (r,g,b,a) in colors]\n",
    "        color= np.array(colors).astype(np.float32)\n",
    "        plt.close()\n",
    "    \n",
    "    return color\n",
    "\n",
    "def apply_aoi_mask(image, colors, aoi_mask):\n",
    "    im = image.copy()\n",
    "    for height in range(im.shape[0]):\n",
    "        for width in range(im.shape[1]):\n",
    "            im[height, width] = 0.4 * im[height, width] + 0.6 * colors[aoi_mask[height, width]]\n",
    "    return im"
   ]
  },
  {
   "cell_type": "markdown",
   "metadata": {},
   "source": [
    "<h3>8.1. Areas of Interest supervised </h3>"
   ]
  },
  {
   "cell_type": "code",
   "execution_count": 136,
   "metadata": {},
   "outputs": [],
   "source": [
    "import modules.HeatmapHelpers as heathelpers\n",
    "\n",
    "aoi_df_array = []\n",
    "columns = [\"startHeight\", \"stopHeight\", \"startWidth\", \"stopWidth\", \"Name\"]\n",
    "\n",
    "for aoi_sheet in config_aoi_datasheet_array:\n",
    "    raw = pd.read_excel(\"./data/aoi_categorized/\" + aoi_sheet)\n",
    "    df = pd.DataFrame(raw, columns=columns)\n",
    "    aoi_df_array.append(df)\n",
    "    \n",
    "aoi_mask_array = []\n",
    "aoi_region_name_matrix = []\n",
    "\n",
    "for idx in range(len(aoi_df_array)):\n",
    "    image_shape = image_array[idx].shape[0], image_array[idx].shape[1]\n",
    "    aoi_mask = np.zeros(image_shape)\n",
    "    aoi_names = []\n",
    "    for inner_idx, row in aoi_df_array[idx].iterrows():\n",
    "        start_height = row[\"startHeight\"]\n",
    "        stop_height = row[\"stopHeight\"]\n",
    "        start_width = row[\"startWidth\"]\n",
    "        stop_width = row[\"stopWidth\"]\n",
    "        name = row[\"Name\"]\n",
    "        aoi_names.append(name)\n",
    "        aoi_names = list(dict.fromkeys(aoi_names))\n",
    "        aoi_mask[start_height:stop_height, start_width:stop_width] = aoi_names.index(name)\n",
    "        \n",
    "        \n",
    "    aoi_mask_array.append(aoi_mask.astype(int))\n",
    "    aoi_region_name_matrix.append(aoi_names)\n",
    "\n",
    "visual_stimulus_data_matrix[idx]\n",
    "used_color_matrix = []\n",
    "for idx in range(len(aoi_df_array)):\n",
    "    colors = save_aoi_sequences(\"./results/aois/supervised/\" + config_folder_prefix_array[idx], image_array[idx], config_image_prefix_array[idx], aoi_mask_array[idx], aoi_region_name_matrix[idx], visual_stimulus_data_matrix[idx])\n",
    "    used_color_matrix.append(colors)"
   ]
  },
  {
   "cell_type": "code",
   "execution_count": null,
   "metadata": {},
   "outputs": [],
   "source": []
  },
  {
   "cell_type": "code",
   "execution_count": 140,
   "metadata": {},
   "outputs": [],
   "source": [
    "aoi_visual_stimulus_matrix = []\n",
    "\n",
    "for idx, visual_stimulus_array in enumerate(visual_stimulus_data_matrix):\n",
    "    aoi_visual_stimulus_array = []\n",
    "    \n",
    "    for idx1, visual_stimulus in enumerate(visual_stimulus_array):\n",
    "        \n",
    "        aoi_field_array = [aoi_mask_array[idx][y,x] for (x,y) in visual_stimulus]\n",
    "        aoi_visual_stimulus_array.append(aoi_field_array)\n",
    "    \n",
    "    aoi_visual_stimulus_matrix.append(aoi_visual_stimulus_array)\n",
    "\n",
    "aoi_transition_tensor = []\n",
    "\n",
    "for idx, aoi_visual_stimulus_array in enumerate(aoi_visual_stimulus_matrix):\n",
    "    aoi_transition_matrix = np.zeros((len(aoi_region_name_matrix[idx]), len(aoi_region_name_matrix[idx])))\n",
    "    \n",
    "    for aoi_visul_stimulus in aoi_visual_stimulus_array:\n",
    "        for idx1 in range(len(aoi_visul_stimulus) - 1):\n",
    "            aoi_transition_matrix[aoi_visul_stimulus[idx1], aoi_visul_stimulus[idx1+1]] += 1\n",
    "            \n",
    "    aoi_transition_tensor.append(aoi_transition_matrix)"
   ]
  },
  {
   "cell_type": "code",
   "execution_count": 141,
   "metadata": {},
   "outputs": [
    {
     "data": {
      "text/plain": [
       "['main',\n",
       " 'Iterative definition',\n",
       " 'Pre calculation',\n",
       " 'Iteration Condition',\n",
       " 'Iteration Step',\n",
       " 'Return Result']"
      ]
     },
     "execution_count": 141,
     "metadata": {},
     "output_type": "execute_result"
    }
   ],
   "source": [
    "from chord import Chord\n",
    "import imgkit\n",
    "\n",
    "aoi_region_name_matrix[1]"
   ]
  },
  {
   "cell_type": "code",
   "execution_count": 142,
   "metadata": {},
   "outputs": [
    {
     "data": {
      "text/plain": [
       "[[197, 29, 34, 4, 13, 3],\n",
       " [5, 14, 39, 4, 3, 0],\n",
       " [25, 19, 98, 46, 53, 0],\n",
       " [8, 1, 23, 30, 52, 3],\n",
       " [20, 2, 49, 33, 109, 34],\n",
       " [9, 0, 1, 1, 24, 1]]"
      ]
     },
     "execution_count": 142,
     "metadata": {},
     "output_type": "execute_result"
    }
   ],
   "source": [
    "aoi_transition_tensor[1].astype(int).tolist()"
   ]
  },
  {
   "cell_type": "code",
   "execution_count": 143,
   "metadata": {},
   "outputs": [
    {
     "ename": "KeyboardInterrupt",
     "evalue": "",
     "output_type": "error",
     "traceback": [
      "\u001b[1;31m---------------------------------------------------------------------------\u001b[0m",
      "\u001b[1;31mKeyboardInterrupt\u001b[0m                         Traceback (most recent call last)",
      "\u001b[1;32m<ipython-input-143-9b1f5581d508>\u001b[0m in \u001b[0;36m<module>\u001b[1;34m\u001b[0m\n\u001b[1;32m----> 1\u001b[1;33m \u001b[0mChord\u001b[0m\u001b[1;33m(\u001b[0m\u001b[0maoi_transition_tensor\u001b[0m\u001b[1;33m[\u001b[0m\u001b[1;36m2\u001b[0m\u001b[1;33m]\u001b[0m\u001b[1;33m.\u001b[0m\u001b[0mastype\u001b[0m\u001b[1;33m(\u001b[0m\u001b[0mint\u001b[0m\u001b[1;33m)\u001b[0m\u001b[1;33m.\u001b[0m\u001b[0mtolist\u001b[0m\u001b[1;33m(\u001b[0m\u001b[1;33m)\u001b[0m \u001b[1;33m,\u001b[0m\u001b[0maoi_region_name_matrix\u001b[0m\u001b[1;33m[\u001b[0m\u001b[1;36m2\u001b[0m\u001b[1;33m]\u001b[0m\u001b[1;33m)\u001b[0m\u001b[1;33m.\u001b[0m\u001b[0mto_html\u001b[0m\u001b[1;33m(\u001b[0m\u001b[1;33m)\u001b[0m\u001b[1;33m\u001b[0m\u001b[1;33m\u001b[0m\u001b[0m\n\u001b[0m",
      "\u001b[1;32m~\\anaconda3\\lib\\site-packages\\chord\\__init__.py\u001b[0m in \u001b[0;36mto_html\u001b[1;34m(self, filename)\u001b[0m\n\u001b[0;32m    232\u001b[0m     \u001b[1;32mdef\u001b[0m \u001b[0mto_html\u001b[0m\u001b[1;33m(\u001b[0m\u001b[0mself\u001b[0m\u001b[1;33m,\u001b[0m \u001b[0mfilename\u001b[0m\u001b[1;33m=\u001b[0m\u001b[1;34m\"out.html\"\u001b[0m\u001b[1;33m)\u001b[0m\u001b[1;33m:\u001b[0m\u001b[1;33m\u001b[0m\u001b[1;33m\u001b[0m\u001b[0m\n\u001b[0;32m    233\u001b[0m         \u001b[1;34m\"\"\"Outputs the generated HTML to a HTML file. \"\"\"\u001b[0m\u001b[1;33m\u001b[0m\u001b[1;33m\u001b[0m\u001b[0m\n\u001b[1;32m--> 234\u001b[1;33m         \u001b[0mself\u001b[0m\u001b[1;33m.\u001b[0m\u001b[0mrender_html\u001b[0m\u001b[1;33m(\u001b[0m\u001b[1;33m)\u001b[0m\u001b[1;33m\u001b[0m\u001b[1;33m\u001b[0m\u001b[0m\n\u001b[0m\u001b[0;32m    235\u001b[0m         \u001b[0mfile\u001b[0m \u001b[1;33m=\u001b[0m \u001b[0mopen\u001b[0m\u001b[1;33m(\u001b[0m\u001b[0mfilename\u001b[0m\u001b[1;33m,\u001b[0m \u001b[1;34m\"w\"\u001b[0m\u001b[1;33m)\u001b[0m\u001b[1;33m\u001b[0m\u001b[1;33m\u001b[0m\u001b[0m\n\u001b[0;32m    236\u001b[0m         \u001b[0mfile\u001b[0m\u001b[1;33m.\u001b[0m\u001b[0mwrite\u001b[0m\u001b[1;33m(\u001b[0m\u001b[0mself\u001b[0m\u001b[1;33m.\u001b[0m\u001b[0mhtml\u001b[0m\u001b[1;33m)\u001b[0m\u001b[1;33m\u001b[0m\u001b[1;33m\u001b[0m\u001b[0m\n",
      "\u001b[1;32m~\\anaconda3\\lib\\site-packages\\chord\\__init__.py\u001b[0m in \u001b[0;36mrender_html\u001b[1;34m(self)\u001b[0m\n\u001b[0;32m    176\u001b[0m         \u001b[0mpayload\u001b[0m \u001b[1;33m=\u001b[0m \u001b[0mself\u001b[0m\u001b[1;33m.\u001b[0m\u001b[0mget_payload\u001b[0m\u001b[1;33m(\u001b[0m\u001b[1;33m)\u001b[0m\u001b[1;33m\u001b[0m\u001b[1;33m\u001b[0m\u001b[0m\n\u001b[0;32m    177\u001b[0m \u001b[1;33m\u001b[0m\u001b[0m\n\u001b[1;32m--> 178\u001b[1;33m         \u001b[0mresult\u001b[0m \u001b[1;33m=\u001b[0m \u001b[0mrequests\u001b[0m\u001b[1;33m.\u001b[0m\u001b[0mpost\u001b[0m\u001b[1;33m(\u001b[0m\u001b[0murl\u001b[0m\u001b[1;33m,\u001b[0m \u001b[0mjson\u001b[0m\u001b[1;33m=\u001b[0m\u001b[0mpayload\u001b[0m\u001b[1;33m,\u001b[0m \u001b[0mauth\u001b[0m\u001b[1;33m=\u001b[0m\u001b[1;33m(\u001b[0m\u001b[0mChord\u001b[0m\u001b[1;33m.\u001b[0m\u001b[0muser\u001b[0m\u001b[1;33m,\u001b[0m \u001b[0mChord\u001b[0m\u001b[1;33m.\u001b[0m\u001b[0mkey\u001b[0m\u001b[1;33m)\u001b[0m\u001b[1;33m)\u001b[0m\u001b[1;33m\u001b[0m\u001b[1;33m\u001b[0m\u001b[0m\n\u001b[0m\u001b[0;32m    179\u001b[0m \u001b[1;33m\u001b[0m\u001b[0m\n\u001b[0;32m    180\u001b[0m         \u001b[1;32mif\u001b[0m \u001b[0mresult\u001b[0m\u001b[1;33m.\u001b[0m\u001b[0mstatus_code\u001b[0m \u001b[1;33m==\u001b[0m \u001b[1;36m200\u001b[0m\u001b[1;33m:\u001b[0m\u001b[1;33m\u001b[0m\u001b[1;33m\u001b[0m\u001b[0m\n",
      "\u001b[1;32m~\\anaconda3\\lib\\site-packages\\requests\\api.py\u001b[0m in \u001b[0;36mpost\u001b[1;34m(url, data, json, **kwargs)\u001b[0m\n\u001b[0;32m    117\u001b[0m     \"\"\"\n\u001b[0;32m    118\u001b[0m \u001b[1;33m\u001b[0m\u001b[0m\n\u001b[1;32m--> 119\u001b[1;33m     \u001b[1;32mreturn\u001b[0m \u001b[0mrequest\u001b[0m\u001b[1;33m(\u001b[0m\u001b[1;34m'post'\u001b[0m\u001b[1;33m,\u001b[0m \u001b[0murl\u001b[0m\u001b[1;33m,\u001b[0m \u001b[0mdata\u001b[0m\u001b[1;33m=\u001b[0m\u001b[0mdata\u001b[0m\u001b[1;33m,\u001b[0m \u001b[0mjson\u001b[0m\u001b[1;33m=\u001b[0m\u001b[0mjson\u001b[0m\u001b[1;33m,\u001b[0m \u001b[1;33m**\u001b[0m\u001b[0mkwargs\u001b[0m\u001b[1;33m)\u001b[0m\u001b[1;33m\u001b[0m\u001b[1;33m\u001b[0m\u001b[0m\n\u001b[0m\u001b[0;32m    120\u001b[0m \u001b[1;33m\u001b[0m\u001b[0m\n\u001b[0;32m    121\u001b[0m \u001b[1;33m\u001b[0m\u001b[0m\n",
      "\u001b[1;32m~\\anaconda3\\lib\\site-packages\\requests\\api.py\u001b[0m in \u001b[0;36mrequest\u001b[1;34m(method, url, **kwargs)\u001b[0m\n\u001b[0;32m     59\u001b[0m     \u001b[1;31m# cases, and look like a memory leak in others.\u001b[0m\u001b[1;33m\u001b[0m\u001b[1;33m\u001b[0m\u001b[1;33m\u001b[0m\u001b[0m\n\u001b[0;32m     60\u001b[0m     \u001b[1;32mwith\u001b[0m \u001b[0msessions\u001b[0m\u001b[1;33m.\u001b[0m\u001b[0mSession\u001b[0m\u001b[1;33m(\u001b[0m\u001b[1;33m)\u001b[0m \u001b[1;32mas\u001b[0m \u001b[0msession\u001b[0m\u001b[1;33m:\u001b[0m\u001b[1;33m\u001b[0m\u001b[1;33m\u001b[0m\u001b[0m\n\u001b[1;32m---> 61\u001b[1;33m         \u001b[1;32mreturn\u001b[0m \u001b[0msession\u001b[0m\u001b[1;33m.\u001b[0m\u001b[0mrequest\u001b[0m\u001b[1;33m(\u001b[0m\u001b[0mmethod\u001b[0m\u001b[1;33m=\u001b[0m\u001b[0mmethod\u001b[0m\u001b[1;33m,\u001b[0m \u001b[0murl\u001b[0m\u001b[1;33m=\u001b[0m\u001b[0murl\u001b[0m\u001b[1;33m,\u001b[0m \u001b[1;33m**\u001b[0m\u001b[0mkwargs\u001b[0m\u001b[1;33m)\u001b[0m\u001b[1;33m\u001b[0m\u001b[1;33m\u001b[0m\u001b[0m\n\u001b[0m\u001b[0;32m     62\u001b[0m \u001b[1;33m\u001b[0m\u001b[0m\n\u001b[0;32m     63\u001b[0m \u001b[1;33m\u001b[0m\u001b[0m\n",
      "\u001b[1;32m~\\anaconda3\\lib\\site-packages\\requests\\sessions.py\u001b[0m in \u001b[0;36mrequest\u001b[1;34m(self, method, url, params, data, headers, cookies, files, auth, timeout, allow_redirects, proxies, hooks, stream, verify, cert, json)\u001b[0m\n\u001b[0;32m    528\u001b[0m         }\n\u001b[0;32m    529\u001b[0m         \u001b[0msend_kwargs\u001b[0m\u001b[1;33m.\u001b[0m\u001b[0mupdate\u001b[0m\u001b[1;33m(\u001b[0m\u001b[0msettings\u001b[0m\u001b[1;33m)\u001b[0m\u001b[1;33m\u001b[0m\u001b[1;33m\u001b[0m\u001b[0m\n\u001b[1;32m--> 530\u001b[1;33m         \u001b[0mresp\u001b[0m \u001b[1;33m=\u001b[0m \u001b[0mself\u001b[0m\u001b[1;33m.\u001b[0m\u001b[0msend\u001b[0m\u001b[1;33m(\u001b[0m\u001b[0mprep\u001b[0m\u001b[1;33m,\u001b[0m \u001b[1;33m**\u001b[0m\u001b[0msend_kwargs\u001b[0m\u001b[1;33m)\u001b[0m\u001b[1;33m\u001b[0m\u001b[1;33m\u001b[0m\u001b[0m\n\u001b[0m\u001b[0;32m    531\u001b[0m \u001b[1;33m\u001b[0m\u001b[0m\n\u001b[0;32m    532\u001b[0m         \u001b[1;32mreturn\u001b[0m \u001b[0mresp\u001b[0m\u001b[1;33m\u001b[0m\u001b[1;33m\u001b[0m\u001b[0m\n",
      "\u001b[1;32m~\\anaconda3\\lib\\site-packages\\requests\\sessions.py\u001b[0m in \u001b[0;36msend\u001b[1;34m(self, request, **kwargs)\u001b[0m\n\u001b[0;32m    641\u001b[0m \u001b[1;33m\u001b[0m\u001b[0m\n\u001b[0;32m    642\u001b[0m         \u001b[1;31m# Send the request\u001b[0m\u001b[1;33m\u001b[0m\u001b[1;33m\u001b[0m\u001b[1;33m\u001b[0m\u001b[0m\n\u001b[1;32m--> 643\u001b[1;33m         \u001b[0mr\u001b[0m \u001b[1;33m=\u001b[0m \u001b[0madapter\u001b[0m\u001b[1;33m.\u001b[0m\u001b[0msend\u001b[0m\u001b[1;33m(\u001b[0m\u001b[0mrequest\u001b[0m\u001b[1;33m,\u001b[0m \u001b[1;33m**\u001b[0m\u001b[0mkwargs\u001b[0m\u001b[1;33m)\u001b[0m\u001b[1;33m\u001b[0m\u001b[1;33m\u001b[0m\u001b[0m\n\u001b[0m\u001b[0;32m    644\u001b[0m \u001b[1;33m\u001b[0m\u001b[0m\n\u001b[0;32m    645\u001b[0m         \u001b[1;31m# Total elapsed time of the request (approximately)\u001b[0m\u001b[1;33m\u001b[0m\u001b[1;33m\u001b[0m\u001b[1;33m\u001b[0m\u001b[0m\n",
      "\u001b[1;32m~\\anaconda3\\lib\\site-packages\\requests\\adapters.py\u001b[0m in \u001b[0;36msend\u001b[1;34m(self, request, stream, timeout, verify, cert, proxies)\u001b[0m\n\u001b[0;32m    437\u001b[0m         \u001b[1;32mtry\u001b[0m\u001b[1;33m:\u001b[0m\u001b[1;33m\u001b[0m\u001b[1;33m\u001b[0m\u001b[0m\n\u001b[0;32m    438\u001b[0m             \u001b[1;32mif\u001b[0m \u001b[1;32mnot\u001b[0m \u001b[0mchunked\u001b[0m\u001b[1;33m:\u001b[0m\u001b[1;33m\u001b[0m\u001b[1;33m\u001b[0m\u001b[0m\n\u001b[1;32m--> 439\u001b[1;33m                 resp = conn.urlopen(\n\u001b[0m\u001b[0;32m    440\u001b[0m                     \u001b[0mmethod\u001b[0m\u001b[1;33m=\u001b[0m\u001b[0mrequest\u001b[0m\u001b[1;33m.\u001b[0m\u001b[0mmethod\u001b[0m\u001b[1;33m,\u001b[0m\u001b[1;33m\u001b[0m\u001b[1;33m\u001b[0m\u001b[0m\n\u001b[0;32m    441\u001b[0m                     \u001b[0murl\u001b[0m\u001b[1;33m=\u001b[0m\u001b[0murl\u001b[0m\u001b[1;33m,\u001b[0m\u001b[1;33m\u001b[0m\u001b[1;33m\u001b[0m\u001b[0m\n",
      "\u001b[1;32m~\\anaconda3\\lib\\site-packages\\urllib3\\connectionpool.py\u001b[0m in \u001b[0;36murlopen\u001b[1;34m(self, method, url, body, headers, retries, redirect, assert_same_host, timeout, pool_timeout, release_conn, chunked, body_pos, **response_kw)\u001b[0m\n\u001b[0;32m    668\u001b[0m \u001b[1;33m\u001b[0m\u001b[0m\n\u001b[0;32m    669\u001b[0m             \u001b[1;31m# Make the request on the httplib connection object.\u001b[0m\u001b[1;33m\u001b[0m\u001b[1;33m\u001b[0m\u001b[1;33m\u001b[0m\u001b[0m\n\u001b[1;32m--> 670\u001b[1;33m             httplib_response = self._make_request(\n\u001b[0m\u001b[0;32m    671\u001b[0m                 \u001b[0mconn\u001b[0m\u001b[1;33m,\u001b[0m\u001b[1;33m\u001b[0m\u001b[1;33m\u001b[0m\u001b[0m\n\u001b[0;32m    672\u001b[0m                 \u001b[0mmethod\u001b[0m\u001b[1;33m,\u001b[0m\u001b[1;33m\u001b[0m\u001b[1;33m\u001b[0m\u001b[0m\n",
      "\u001b[1;32m~\\anaconda3\\lib\\site-packages\\urllib3\\connectionpool.py\u001b[0m in \u001b[0;36m_make_request\u001b[1;34m(self, conn, method, url, timeout, chunked, **httplib_request_kw)\u001b[0m\n\u001b[0;32m    424\u001b[0m                     \u001b[1;31m# Python 3 (including for exceptions like SystemExit).\u001b[0m\u001b[1;33m\u001b[0m\u001b[1;33m\u001b[0m\u001b[1;33m\u001b[0m\u001b[0m\n\u001b[0;32m    425\u001b[0m                     \u001b[1;31m# Otherwise it looks like a bug in the code.\u001b[0m\u001b[1;33m\u001b[0m\u001b[1;33m\u001b[0m\u001b[1;33m\u001b[0m\u001b[0m\n\u001b[1;32m--> 426\u001b[1;33m                     \u001b[0msix\u001b[0m\u001b[1;33m.\u001b[0m\u001b[0mraise_from\u001b[0m\u001b[1;33m(\u001b[0m\u001b[0me\u001b[0m\u001b[1;33m,\u001b[0m \u001b[1;32mNone\u001b[0m\u001b[1;33m)\u001b[0m\u001b[1;33m\u001b[0m\u001b[1;33m\u001b[0m\u001b[0m\n\u001b[0m\u001b[0;32m    427\u001b[0m         \u001b[1;32mexcept\u001b[0m \u001b[1;33m(\u001b[0m\u001b[0mSocketTimeout\u001b[0m\u001b[1;33m,\u001b[0m \u001b[0mBaseSSLError\u001b[0m\u001b[1;33m,\u001b[0m \u001b[0mSocketError\u001b[0m\u001b[1;33m)\u001b[0m \u001b[1;32mas\u001b[0m \u001b[0me\u001b[0m\u001b[1;33m:\u001b[0m\u001b[1;33m\u001b[0m\u001b[1;33m\u001b[0m\u001b[0m\n\u001b[0;32m    428\u001b[0m             \u001b[0mself\u001b[0m\u001b[1;33m.\u001b[0m\u001b[0m_raise_timeout\u001b[0m\u001b[1;33m(\u001b[0m\u001b[0merr\u001b[0m\u001b[1;33m=\u001b[0m\u001b[0me\u001b[0m\u001b[1;33m,\u001b[0m \u001b[0murl\u001b[0m\u001b[1;33m=\u001b[0m\u001b[0murl\u001b[0m\u001b[1;33m,\u001b[0m \u001b[0mtimeout_value\u001b[0m\u001b[1;33m=\u001b[0m\u001b[0mread_timeout\u001b[0m\u001b[1;33m)\u001b[0m\u001b[1;33m\u001b[0m\u001b[1;33m\u001b[0m\u001b[0m\n",
      "\u001b[1;32m~\\anaconda3\\lib\\site-packages\\urllib3\\packages\\six.py\u001b[0m in \u001b[0;36mraise_from\u001b[1;34m(value, from_value)\u001b[0m\n",
      "\u001b[1;32m~\\anaconda3\\lib\\site-packages\\urllib3\\connectionpool.py\u001b[0m in \u001b[0;36m_make_request\u001b[1;34m(self, conn, method, url, timeout, chunked, **httplib_request_kw)\u001b[0m\n\u001b[0;32m    419\u001b[0m                 \u001b[1;31m# Python 3\u001b[0m\u001b[1;33m\u001b[0m\u001b[1;33m\u001b[0m\u001b[1;33m\u001b[0m\u001b[0m\n\u001b[0;32m    420\u001b[0m                 \u001b[1;32mtry\u001b[0m\u001b[1;33m:\u001b[0m\u001b[1;33m\u001b[0m\u001b[1;33m\u001b[0m\u001b[0m\n\u001b[1;32m--> 421\u001b[1;33m                     \u001b[0mhttplib_response\u001b[0m \u001b[1;33m=\u001b[0m \u001b[0mconn\u001b[0m\u001b[1;33m.\u001b[0m\u001b[0mgetresponse\u001b[0m\u001b[1;33m(\u001b[0m\u001b[1;33m)\u001b[0m\u001b[1;33m\u001b[0m\u001b[1;33m\u001b[0m\u001b[0m\n\u001b[0m\u001b[0;32m    422\u001b[0m                 \u001b[1;32mexcept\u001b[0m \u001b[0mBaseException\u001b[0m \u001b[1;32mas\u001b[0m \u001b[0me\u001b[0m\u001b[1;33m:\u001b[0m\u001b[1;33m\u001b[0m\u001b[1;33m\u001b[0m\u001b[0m\n\u001b[0;32m    423\u001b[0m                     \u001b[1;31m# Remove the TypeError from the exception chain in\u001b[0m\u001b[1;33m\u001b[0m\u001b[1;33m\u001b[0m\u001b[1;33m\u001b[0m\u001b[0m\n",
      "\u001b[1;32m~\\anaconda3\\lib\\http\\client.py\u001b[0m in \u001b[0;36mgetresponse\u001b[1;34m(self)\u001b[0m\n\u001b[0;32m   1345\u001b[0m         \u001b[1;32mtry\u001b[0m\u001b[1;33m:\u001b[0m\u001b[1;33m\u001b[0m\u001b[1;33m\u001b[0m\u001b[0m\n\u001b[0;32m   1346\u001b[0m             \u001b[1;32mtry\u001b[0m\u001b[1;33m:\u001b[0m\u001b[1;33m\u001b[0m\u001b[1;33m\u001b[0m\u001b[0m\n\u001b[1;32m-> 1347\u001b[1;33m                 \u001b[0mresponse\u001b[0m\u001b[1;33m.\u001b[0m\u001b[0mbegin\u001b[0m\u001b[1;33m(\u001b[0m\u001b[1;33m)\u001b[0m\u001b[1;33m\u001b[0m\u001b[1;33m\u001b[0m\u001b[0m\n\u001b[0m\u001b[0;32m   1348\u001b[0m             \u001b[1;32mexcept\u001b[0m \u001b[0mConnectionError\u001b[0m\u001b[1;33m:\u001b[0m\u001b[1;33m\u001b[0m\u001b[1;33m\u001b[0m\u001b[0m\n\u001b[0;32m   1349\u001b[0m                 \u001b[0mself\u001b[0m\u001b[1;33m.\u001b[0m\u001b[0mclose\u001b[0m\u001b[1;33m(\u001b[0m\u001b[1;33m)\u001b[0m\u001b[1;33m\u001b[0m\u001b[1;33m\u001b[0m\u001b[0m\n",
      "\u001b[1;32m~\\anaconda3\\lib\\http\\client.py\u001b[0m in \u001b[0;36mbegin\u001b[1;34m(self)\u001b[0m\n\u001b[0;32m    305\u001b[0m         \u001b[1;31m# read until we get a non-100 response\u001b[0m\u001b[1;33m\u001b[0m\u001b[1;33m\u001b[0m\u001b[1;33m\u001b[0m\u001b[0m\n\u001b[0;32m    306\u001b[0m         \u001b[1;32mwhile\u001b[0m \u001b[1;32mTrue\u001b[0m\u001b[1;33m:\u001b[0m\u001b[1;33m\u001b[0m\u001b[1;33m\u001b[0m\u001b[0m\n\u001b[1;32m--> 307\u001b[1;33m             \u001b[0mversion\u001b[0m\u001b[1;33m,\u001b[0m \u001b[0mstatus\u001b[0m\u001b[1;33m,\u001b[0m \u001b[0mreason\u001b[0m \u001b[1;33m=\u001b[0m \u001b[0mself\u001b[0m\u001b[1;33m.\u001b[0m\u001b[0m_read_status\u001b[0m\u001b[1;33m(\u001b[0m\u001b[1;33m)\u001b[0m\u001b[1;33m\u001b[0m\u001b[1;33m\u001b[0m\u001b[0m\n\u001b[0m\u001b[0;32m    308\u001b[0m             \u001b[1;32mif\u001b[0m \u001b[0mstatus\u001b[0m \u001b[1;33m!=\u001b[0m \u001b[0mCONTINUE\u001b[0m\u001b[1;33m:\u001b[0m\u001b[1;33m\u001b[0m\u001b[1;33m\u001b[0m\u001b[0m\n\u001b[0;32m    309\u001b[0m                 \u001b[1;32mbreak\u001b[0m\u001b[1;33m\u001b[0m\u001b[1;33m\u001b[0m\u001b[0m\n",
      "\u001b[1;32m~\\anaconda3\\lib\\http\\client.py\u001b[0m in \u001b[0;36m_read_status\u001b[1;34m(self)\u001b[0m\n\u001b[0;32m    266\u001b[0m \u001b[1;33m\u001b[0m\u001b[0m\n\u001b[0;32m    267\u001b[0m     \u001b[1;32mdef\u001b[0m \u001b[0m_read_status\u001b[0m\u001b[1;33m(\u001b[0m\u001b[0mself\u001b[0m\u001b[1;33m)\u001b[0m\u001b[1;33m:\u001b[0m\u001b[1;33m\u001b[0m\u001b[1;33m\u001b[0m\u001b[0m\n\u001b[1;32m--> 268\u001b[1;33m         \u001b[0mline\u001b[0m \u001b[1;33m=\u001b[0m \u001b[0mstr\u001b[0m\u001b[1;33m(\u001b[0m\u001b[0mself\u001b[0m\u001b[1;33m.\u001b[0m\u001b[0mfp\u001b[0m\u001b[1;33m.\u001b[0m\u001b[0mreadline\u001b[0m\u001b[1;33m(\u001b[0m\u001b[0m_MAXLINE\u001b[0m \u001b[1;33m+\u001b[0m \u001b[1;36m1\u001b[0m\u001b[1;33m)\u001b[0m\u001b[1;33m,\u001b[0m \u001b[1;34m\"iso-8859-1\"\u001b[0m\u001b[1;33m)\u001b[0m\u001b[1;33m\u001b[0m\u001b[1;33m\u001b[0m\u001b[0m\n\u001b[0m\u001b[0;32m    269\u001b[0m         \u001b[1;32mif\u001b[0m \u001b[0mlen\u001b[0m\u001b[1;33m(\u001b[0m\u001b[0mline\u001b[0m\u001b[1;33m)\u001b[0m \u001b[1;33m>\u001b[0m \u001b[0m_MAXLINE\u001b[0m\u001b[1;33m:\u001b[0m\u001b[1;33m\u001b[0m\u001b[1;33m\u001b[0m\u001b[0m\n\u001b[0;32m    270\u001b[0m             \u001b[1;32mraise\u001b[0m \u001b[0mLineTooLong\u001b[0m\u001b[1;33m(\u001b[0m\u001b[1;34m\"status line\"\u001b[0m\u001b[1;33m)\u001b[0m\u001b[1;33m\u001b[0m\u001b[1;33m\u001b[0m\u001b[0m\n",
      "\u001b[1;32m~\\anaconda3\\lib\\socket.py\u001b[0m in \u001b[0;36mreadinto\u001b[1;34m(self, b)\u001b[0m\n\u001b[0;32m    667\u001b[0m         \u001b[1;32mwhile\u001b[0m \u001b[1;32mTrue\u001b[0m\u001b[1;33m:\u001b[0m\u001b[1;33m\u001b[0m\u001b[1;33m\u001b[0m\u001b[0m\n\u001b[0;32m    668\u001b[0m             \u001b[1;32mtry\u001b[0m\u001b[1;33m:\u001b[0m\u001b[1;33m\u001b[0m\u001b[1;33m\u001b[0m\u001b[0m\n\u001b[1;32m--> 669\u001b[1;33m                 \u001b[1;32mreturn\u001b[0m \u001b[0mself\u001b[0m\u001b[1;33m.\u001b[0m\u001b[0m_sock\u001b[0m\u001b[1;33m.\u001b[0m\u001b[0mrecv_into\u001b[0m\u001b[1;33m(\u001b[0m\u001b[0mb\u001b[0m\u001b[1;33m)\u001b[0m\u001b[1;33m\u001b[0m\u001b[1;33m\u001b[0m\u001b[0m\n\u001b[0m\u001b[0;32m    670\u001b[0m             \u001b[1;32mexcept\u001b[0m \u001b[0mtimeout\u001b[0m\u001b[1;33m:\u001b[0m\u001b[1;33m\u001b[0m\u001b[1;33m\u001b[0m\u001b[0m\n\u001b[0;32m    671\u001b[0m                 \u001b[0mself\u001b[0m\u001b[1;33m.\u001b[0m\u001b[0m_timeout_occurred\u001b[0m \u001b[1;33m=\u001b[0m \u001b[1;32mTrue\u001b[0m\u001b[1;33m\u001b[0m\u001b[1;33m\u001b[0m\u001b[0m\n",
      "\u001b[1;32m~\\anaconda3\\lib\\ssl.py\u001b[0m in \u001b[0;36mrecv_into\u001b[1;34m(self, buffer, nbytes, flags)\u001b[0m\n\u001b[0;32m   1239\u001b[0m                   \u001b[1;34m\"non-zero flags not allowed in calls to recv_into() on %s\"\u001b[0m \u001b[1;33m%\u001b[0m\u001b[1;33m\u001b[0m\u001b[1;33m\u001b[0m\u001b[0m\n\u001b[0;32m   1240\u001b[0m                   self.__class__)\n\u001b[1;32m-> 1241\u001b[1;33m             \u001b[1;32mreturn\u001b[0m \u001b[0mself\u001b[0m\u001b[1;33m.\u001b[0m\u001b[0mread\u001b[0m\u001b[1;33m(\u001b[0m\u001b[0mnbytes\u001b[0m\u001b[1;33m,\u001b[0m \u001b[0mbuffer\u001b[0m\u001b[1;33m)\u001b[0m\u001b[1;33m\u001b[0m\u001b[1;33m\u001b[0m\u001b[0m\n\u001b[0m\u001b[0;32m   1242\u001b[0m         \u001b[1;32melse\u001b[0m\u001b[1;33m:\u001b[0m\u001b[1;33m\u001b[0m\u001b[1;33m\u001b[0m\u001b[0m\n\u001b[0;32m   1243\u001b[0m             \u001b[1;32mreturn\u001b[0m \u001b[0msuper\u001b[0m\u001b[1;33m(\u001b[0m\u001b[1;33m)\u001b[0m\u001b[1;33m.\u001b[0m\u001b[0mrecv_into\u001b[0m\u001b[1;33m(\u001b[0m\u001b[0mbuffer\u001b[0m\u001b[1;33m,\u001b[0m \u001b[0mnbytes\u001b[0m\u001b[1;33m,\u001b[0m \u001b[0mflags\u001b[0m\u001b[1;33m)\u001b[0m\u001b[1;33m\u001b[0m\u001b[1;33m\u001b[0m\u001b[0m\n",
      "\u001b[1;32m~\\anaconda3\\lib\\ssl.py\u001b[0m in \u001b[0;36mread\u001b[1;34m(self, len, buffer)\u001b[0m\n\u001b[0;32m   1097\u001b[0m         \u001b[1;32mtry\u001b[0m\u001b[1;33m:\u001b[0m\u001b[1;33m\u001b[0m\u001b[1;33m\u001b[0m\u001b[0m\n\u001b[0;32m   1098\u001b[0m             \u001b[1;32mif\u001b[0m \u001b[0mbuffer\u001b[0m \u001b[1;32mis\u001b[0m \u001b[1;32mnot\u001b[0m \u001b[1;32mNone\u001b[0m\u001b[1;33m:\u001b[0m\u001b[1;33m\u001b[0m\u001b[1;33m\u001b[0m\u001b[0m\n\u001b[1;32m-> 1099\u001b[1;33m                 \u001b[1;32mreturn\u001b[0m \u001b[0mself\u001b[0m\u001b[1;33m.\u001b[0m\u001b[0m_sslobj\u001b[0m\u001b[1;33m.\u001b[0m\u001b[0mread\u001b[0m\u001b[1;33m(\u001b[0m\u001b[0mlen\u001b[0m\u001b[1;33m,\u001b[0m \u001b[0mbuffer\u001b[0m\u001b[1;33m)\u001b[0m\u001b[1;33m\u001b[0m\u001b[1;33m\u001b[0m\u001b[0m\n\u001b[0m\u001b[0;32m   1100\u001b[0m             \u001b[1;32melse\u001b[0m\u001b[1;33m:\u001b[0m\u001b[1;33m\u001b[0m\u001b[1;33m\u001b[0m\u001b[0m\n\u001b[0;32m   1101\u001b[0m                 \u001b[1;32mreturn\u001b[0m \u001b[0mself\u001b[0m\u001b[1;33m.\u001b[0m\u001b[0m_sslobj\u001b[0m\u001b[1;33m.\u001b[0m\u001b[0mread\u001b[0m\u001b[1;33m(\u001b[0m\u001b[0mlen\u001b[0m\u001b[1;33m)\u001b[0m\u001b[1;33m\u001b[0m\u001b[1;33m\u001b[0m\u001b[0m\n",
      "\u001b[1;31mKeyboardInterrupt\u001b[0m: "
     ]
    }
   ],
   "source": [
    "Chord(aoi_transition_tensor[1].astype(int).tolist() ,aoi_region_name_matrix[1]).to_html()"
   ]
  },
  {
   "cell_type": "markdown",
   "metadata": {},
   "source": [
    "<h3>8.2. Areas of Interest unsupervised</h3>"
   ]
  },
  {
   "cell_type": "markdown",
   "metadata": {},
   "source": [
    "How to analyze areas of interests?\n",
    "\n",
    "1. [x] find max heat values or values above a treshhold\n",
    "    1. [x] split to large areas by a certain treshhold\n",
    "    2. [x] maybe create a bounding box of them and analyze them by prio for better computation time\n",
    "        1. [x] fix aois to lines, mybe to columns if the works seems useful for an algorithm\n",
    "\n",
    "2. [x] analyse how to jump between different regions of interests\n",
    "    1. [x] categorize just hot areas as aois\n",
    "    2. [x] categorize everything as aois\n",
    "    %% 3. [ ] list how the code flow jumps between theese regions\n",
    "\n",
    "3. [ ] analyse all the data for a mean and statical signifance\n",
    "    1. [ ] maybe implement gernerialized string mean algorithm for medium jumps (NP complte)\n",
    "    2. [ ] maybe use the same as in the code flow [#todo also implement genrerilized string mean for code flow]"
   ]
  },
  {
   "cell_type": "code",
   "execution_count": 87,
   "metadata": {},
   "outputs": [
    {
     "data": {
      "image/png": "[encoded data removed]",
      "text/plain": [
       "<Figure size 432x288 with 1 Axes>"
      ]
     },
     "metadata": {},
     "output_type": "display_data"
    }
   ],
   "source": [
    "import modules.HeatmapHelpers as heathelpers\n",
    "\n",
    "treshhold = 0.25\n",
    "chunk_width = 12\n",
    "value = 1.0 / treshhold\n",
    "upper_limit = 0.2\n",
    "\n",
    "shape = average_heatmap_array[0].shape[0], average_heatmap_array[0].shape[1]\n",
    "\n",
    "data = np.array(avergae_heatmask_array[0])\n",
    "data = np.reshape(data, shape)\n",
    "data = np.rint(data * value) / value\n",
    "data[data < upper_limit] = 0.0\n",
    "\n",
    "tmp = data.flatten().tolist()\n",
    "im = image_array[0].copy()\n",
    "heathelpers.draw_heat(im, tmp)\n",
    "\n",
    "imgplot0 = plt.imshow(im)"
   ]
  },
  {
   "cell_type": "code",
   "execution_count": 88,
   "metadata": {},
   "outputs": [
    {
     "data": {
      "image/png": "[encoded data removed]",
      "text/plain": [
       "<Figure size 432x288 with 1 Axes>"
      ]
     },
     "metadata": {},
     "output_type": "display_data"
    }
   ],
   "source": [
    "shape = average_heatmap_array[0].shape[0], average_heatmap_array[0].shape[1]\n",
    "horizontal_data = np.zeros(shape)\n",
    "\n",
    "for height_idx in range(shape[0]):\n",
    "    for val in range(0, shape[1], chunk_width):\n",
    "        max_val = data[height_idx, val:(val+chunk_width)].max()\n",
    "        horizontal_data[height_idx, val:(val+chunk_width)] = max_val\n",
    "\n",
    "heat_mask = horizontal_data.flatten().tolist()\n",
    "img = image_array[0].copy()\n",
    "heathelpers.draw_heat(img, heat_mask)\n",
    "\n",
    "imgplot0 = plt.imshow(img)"
   ]
  },
  {
   "cell_type": "code",
   "execution_count": 89,
   "metadata": {},
   "outputs": [
    {
     "data": {
      "image/png": "[encoded data removed]",
      "text/plain": [
       "<Figure size 432x288 with 1 Axes>"
      ]
     },
     "metadata": {},
     "output_type": "display_data"
    }
   ],
   "source": [
    "shape = average_heatmap_array[0].shape[0], average_heatmap_array[0].shape[1]\n",
    "line_data = np.zeros(shape)\n",
    "\n",
    "for _idx, row in config_array[0].iterrows():\n",
    "    low = row[\"start\"]\n",
    "    high = row[\"stop\"] + 1\n",
    "    for val in range(0, shape[1], chunk_width):\n",
    "        max_val = data[low:high, val:(val+chunk_width)].max()\n",
    "        line_data[low:high, val:(val+chunk_width)] = max_val\n",
    "\n",
    "heat_mask = line_data.flatten().tolist()\n",
    "im = image_array[0].copy()\n",
    "heathelpers.draw_heat(im, heat_mask)\n",
    "\n",
    "imgplot0 = plt.imshow(im)"
   ]
  },
  {
   "cell_type": "code",
   "execution_count": 90,
   "metadata": {},
   "outputs": [
    {
     "data": {
      "image/png": "[encoded data removed]",
      "text/plain": [
       "<Figure size 432x432 with 1 Axes>"
      ]
     },
     "metadata": {},
     "output_type": "display_data"
    }
   ],
   "source": [
    "x = [x for (x,y) in visual_stimulus_data_matrix[0][0]]\n",
    "y = [y for (x,y) in visual_stimulus_data_matrix[0][0]]\n",
    "\n",
    "fig, ax = plt.subplots(figsize=(6,6))\n",
    "ax.imshow(im)\n",
    "ax.plot(x, y, ':o', linewidth=1, color='black');"
   ]
  },
  {
   "cell_type": "code",
   "execution_count": 95,
   "metadata": {},
   "outputs": [],
   "source": [
    "from matplotlib import animation\n",
    "from IPython.display import HTML\n",
    "\n",
    "fig, ax = plt.subplots(figsize=(8,8));\n",
    "ax.set_ylim((0, 416))\n",
    "ax.set_xlim((0, 870))\n",
    "ax.invert_yaxis()\n",
    "\n",
    "ax.imshow(image_array[0])\n",
    "line, = ax.plot([], [], \"k-x\", lw=2)\n",
    "\n",
    "def init():\n",
    "    line.set_data([], [])\n",
    "    return (line,)\n",
    "\n",
    "\n",
    "x_glob = np.array([x for (x,y) in visual_stimulus_data_matrix[0][0]])\n",
    "y_glob = np.array([y for (x,y) in visual_stimulus_data_matrix[0][0]])\n",
    "\n",
    "len_value = len(x_glob)\n",
    "\n",
    "def animate(i):\n",
    "    low = max(0, i-16)\n",
    "    x = x_glob[low:i]\n",
    "    y = y_glob[low:i]\n",
    "\n",
    "    image = rEYEker.draw_shape_heat_map(image_array[0], visual_stimulus_data_matrix[0][0], click_setting, min_idx=low, max_idx=i, should_copy=True)\n",
    "    ax.imshow(image)\n",
    "    \n",
    "    #line.set_data(x,y)\n",
    "    return (line,)\n",
    "\n",
    "anim = animation.FuncAnimation(fig, animate, init_func=init, frames=len_value, interval=100, blit=True)\n",
    "plt.close()"
   ]
  },
  {
   "cell_type": "code",
   "execution_count": 96,
   "metadata": {},
   "outputs": [
    {
     "data": {
      "text/html": [
       "<video width=\"576\" height=\"576\" controls autoplay loop>\n",
       "  <source type=\"video/mp4\" src=\"data:video/mp4;base64,AAAAIGZ0eXBNNFYgAAACAE00ViBpc29taXNvMmF2YzEAAAAIZnJlZQAAe6NtZGF0AAACrwYF//+r\n",
       "3EXpvebZSLeWLNgg2SPu73gyNjQgLSBjb3JlIDE2MSByMzA0OCBiODZhZTNjIC0gSC4yNjQvTVBF\n",
       "Ry00IEFWQyBjb2RlYyAtIENvcHlsZWZ0IDIwMDMtMjAyMSAtIGh0dHA6Ly93d3cudmlkZW9sYW4u\n",
       "b3JnL3gyNjQuaHRtbCAtIG9wdGlvbnM6IGNhYmFjPTEgcmVmPTMgZGVibG9jaz0xOjA6MCBhbmFs\n",
       "eXNlPTB4MzoweDExMyBtZT1oZXggc3VibWU9NyBwc3k9MSBwc3lfcmQ9MS4wMDowLjAwIG1peGVk\n",
       "X3JlZj0xIG1lX3JhbmdlPTE2IGNocm9tYV9tZT0xIHRyZWxsaXM9MSA4eDhkY3Q9MSBjcW09MCBk\n",
       "ZWFkem9uZT0yMSwxMSBmYXN0X3Bza2lwPTEgY2hyb21hX3FwX29mZnNldD0tMiB0aHJlYWRzPTE4\n",
       "IGxvb2thaGVhZF90aHJlYWRzPTMgc2xpY2VkX3RocmVhZHM9MCBucj0wIGRlY2ltYXRlPTEgaW50\n",
       "ZXJsYWNlZD0wIGJsdXJheV9jb21wYXQ9MCBjb25zdHJhaW5lZF9pbnRyYT0wIGJmcmFtZXM9MyBi\n",
       "X3B5cmFtaWQ9MiBiX2FkYXB0PTEgYl9iaWFzPTAgZGlyZWN0PTEgd2VpZ2h0Yj0xIG9wZW5fZ29w\n",
       "PTAgd2VpZ2h0cD0yIGtleWludD0yNTAga2V5aW50X21pbj0xMCBzY2VuZWN1dD00MCBpbnRyYV9y\n",
       "ZWZyZXNoPTAgcmNfbG9va2FoZWFkPTQwIHJjPWNyZiBtYnRyZWU9MSBjcmY9MjMuMCBxY29tcD0w\n",
       "LjYwIHFwbWluPTAgcXBtYXg9NjkgcXBzdGVwPTQgaXBfcmF0aW89MS40MCBhcT0xOjEuMDAAgAAA\n",
       "NIBliIQAEf/+94gfMstp+TrXchHnrS6tH1DuRnFepL3+IAAAAwAAAwAOEgizM27tsBELgAACAgA0\n",
       "IlQn45RfitmOPVFo/RIpUv8wCIrfC+PeUk6jAMk3DpNVrjBMT7EQxTObeSzEPAjaIB5jNRtGVWAS\n",
       "fKAyqytUsfyYINitk4zADsi3D9x9xKTqmdsTB6qkE+u9qASJsE7ef+PmYNXTYq05iEut8W8Yq3ic\n",
       "SL4mbZMwDvij/mH2jELzTUPICN9KXpaX/FoOXg5H3sDm6/9vEfSs2DfqV3cELXj4OMhLxMHpi4qi\n",
       "BQH/16mgj7SQ+xZIcu9FjfAePs/zV8UZ/qMFshliv0nVsB0hQx/Y4rIOaceSu75B7n0CKG/UpNKR\n",
       "sstMMxbTzQ6CuAkSRsmuiNfg/br2QBpp4lW0fwMjPomsn+flX7utoS3nOhVLgnm7djdILGg+o1oM\n",
       "dtb+lkIJC8oaEcO2ycYo/zOOuetL448lq8xf5uY/SsQIUxtg8g5w7n/mZy7X4ja7cBp8Br4iSQ92\n",
       "9L5I91Vw3U/+Igm+flQgK2YqUbkfbuQeBiftiwHoIXP9zoErY1rZZSThgLcia5uo7Zhsq8YJKGKk\n",
       "ZLCUWNlPZ56E7AAR8kdq0D/f/vAmftY1ycXOciB94ENzsUJ70CkBTW0tGWUP4A+PvD+Ua4H23F/t\n",
       "r9jay+w2dqXMmWhcdBkPVDHP1mGi7Ce7otKtFbNZ9mBvY7iQgjfUuJTYc7Hl9UImS9LxhoY28CEJ\n",
       "4pa/XkfI5D9E9/LP2QaoX/Y/aL+ozNTe3fgSyD5q9cQ9RglT9CGGVhjGMubCZCV3yQzA59qhmtQO\n",
       "zPGO1R94fLCdolPM0zIMzx1pJ3kh/ATiD8/F9JNjtsF5S79yTn++h15/ZF7nroZOmLqQ2FyC9qpi\n",
       "pZOedjZCgnj1TAAgis/nSLKJ9PKlcKSVTlakHoHbjgw2eTxlmQVOawDvqElWS5PJnj3cUx31IpCm\n",
       "rV0mdykVjP8UuRx4yyp16fnIrpLf2JMM6YPRJuUnyON1S7gCfcbnNQ7H0hDXogFmSLYnm/GQapov\n",
       "8wj723bWGVHB+jwpBbsnEt5zr7kYjsmmcNkQ4IYnzwtX4VsSJtoT4j1gtRm6tGDCCzRpSAQMjfMK\n",
       "KXf0n+lfIqc9dVuOW9kbenbcgG2fRZvOvPooBjio+XoRsnH+wNWzvFGGDacG30g9dimH6547YqVO\n",
       "2AVapSj/yCoDFGDltikosM9yq9sm4tLyixiAZMT5QdU7VTl2qreN2pBx5rlghtguTpppNL2ZCPsG\n",
       "6NgFgMUlr1xk0yzLGwdDfILQAzlMos7V1rPaCREMrkmcEBoRYOXFxm5Xf3KYDG9Av6eBjnRrdjNw\n",
       "qkPJXivfrKRJatgCLccz14GccX4PaOCq+hWjQ/0bK5dRyKsZjDEQFTPzhfsyI8xPXqSlxsQuSKDx\n",
       "rq1k0LiI3R//pf8IoTld1Kc3OdofE8h2kB7siW5tZ9Qk7DHmGvRJ5PpmskoMbcCwpFnEqsw6VTuY\n",
       "YBMpkzEHdKJWP3A7oiqiPw+4UsRs1D+wnqJI6H/Q22dpgU9uqXOsz8diGL0R1cCSAzlItN6Gyerj\n",
       "6Xx3ao9/vh+GGbhDDaDIWgRIKrv0U1FZg+gfyI7uWUcb7wlW9JvjPV7tdAYW0ns+AynTzeRoKRb8\n",
       "K8OONLCXrx99Eyl6Qn3FjsTRLiVEbxw4GNhhC6xAMKEOywit3cFpMslR8q0FmEw8VznltnthCpZN\n",
       "GeFBU5XXbnzDPYCUYaenXz/LEXGDe8xlpDy7pq9uyEITsA715mjdyqneIbMD8XLNeCuAf6s/SGwE\n",
       "7sYDAMhJTmWQhwaxSe57/B+wX014U2F2Ss2J/51Jfao9JGW/eIpLzEKXODftLk0mhtz1hE9dksjp\n",
       "9j7PGWX31tkFffxXD34IAoCw7e5QYiC7H0HHeTlfAHMOpGhup1izqZ22qAOQYyVvP5Nkdt0gfdVc\n",
       "E/YIuaHzCda8O0d7nSfqte0BTcosBzL7aml5T+hiTj72clx6pCuHD5yhcoF/FERiACk8TPN46ffd\n",
       "f7LEQQEl8ifLZPmj9eGanYqR4aC/XCbmYuRy2pYVMhdL1eo8N7+EBPcVQY/V5smZ3bGlTEcFtlQs\n",
       "I/o5BABsyUGOSZi78oFBKPHwoUOyjKAt+HH76h/Ui2rTQUloandFRoHc4Gg78aFDPwQME7d1jZau\n",
       "uB3V9whwunpWs0YzuDnzqThifPKTVj8GJN75yo+Jaw/Cb3zQz5dx2hqcipeKxOG9ZdsNiOLLJgSe\n",
       "7/mD2RqiQhtbutI1BunSUC1MYdyYQsToHXV2Dnl4BEbscJaN1WDGT0ai4Nc+q6USRocrn1afkSAV\n",
       "6nch/C4J17x1jSbfDZ8mVb/g40DrEntETx2KO4cAS6GT5K6kmu6xEBOOX7Dw6KLaW/TjOcs+9H8e\n",
       "YrKjX42d3dfMaNdUr9WbRmL+/xmWGHy3K8LqS6xpTdH6XxQMozX5MYG4HNKcweeQzHoJtks0f7Tk\n",
       "qtS/Qsogm4BXeUStzsRPwZmfHbvkkVUx2/o1fy4q3HW5ZjGAfzwJQD9qrtxCECn9kWt1HAuh4vGq\n",
       "Pq/jD6lFOkJmEPE+K2i49BoY/OUl7i4BGOfAAYHxSw3sJM8dT/m81bmkdpPQsc3a5OCqwAk5yH8K\n",
       "vHk2J95en38imgTMYqxKZLkjuSEKzDgljnG1K96vprMYSv82FC3liPNk6teIxE59P8LyCBB3LMp6\n",
       "M4uz4mxys5o+83KBTsdY93BC4IfzgtKWpuVYb15CavR58hN53V4+OV5fGl5+YCHLdppj4W1ATgCI\n",
       "c1V6B4N5XlLi1TMKe8/3C7Wenn9apDokVQFwd/BnsHm2HSYkZF2u1ED++iHxqC0xl2k7l+3Y/59t\n",
       "er8E1oA6Gegg5Vf9OgwUFoUORXWAv5Zfpedn0ha7NNtWoou2/4Gzf9KY+hK+cbqhI5MuElSBW2la\n",
       "bOpUbgK585TG6E7DAMy7IqeyJ4gKZ82ZH466oM5vi+kkLf8XnbF7B8wxIjqims7S75lj9fl0p5fR\n",
       "iylfOLvzkX7QFBBKqp/RSfw/ZeBzB3MsWMSMOtNvSwlzEaYIj23eeMItrG0MRDTbpqhkn3CdSrtB\n",
       "jXGIPsq46m0mp7+hbbq/on6km/j/YJw0MqZ07dZQIsg4nwZs1FlcRuHozY7i3vgFIuFoiy0Wkkzx\n",
       "Z0O1B5tKEyL/2JH5+pEXjVpyX+aWma/H5JWeKHsifU6V1TrT/k2xvLZd2UD1p7rMepbF1DJDTBpJ\n",
       "4N5aBmNF0dVXwcCPDR+LrW1a3VXMlXFOTMjQr++h+rBlm4UcK6FfBy4LmCfheBafllCntUMY/dni\n",
       "LAAOL/hvYBspQHG7jBMGiVYzTakOLBd6C+7CQX2kihZa5e34OFhy9YlMEeZC3EqNAVD8Yd1eJ7kZ\n",
       "ly7ip2c5oGzkGuMZnW6mc3DVAXtvfbuE3OLfNfH0SSZ4fNFysBELXiZ7ZtAj2wBkkjDD5XaF2n6Q\n",
       "GAEZcx+nq5oR1yAXCvDng/EPLjcbl1HBcDalM+/cdQU1bxmPo4/NIVixMfE82AgDK7A1qy7QE6b7\n",
       "XRLaK7N8faCemfFWT3hNePbjI1vw+G79q4KfSePL1JeYJociTWhaoBIGppVxxPfhI4K6LlIgc/9+\n",
       "j3Cf6xW3rYQNI3ECf8CzpaXkWHh+0+oLeNO/QV672c8GhM/QVqOCZTsWw+1E8/IFuNrKw6YUFsSv\n",
       "W4ioSMoX9nk2zvzbBo+yQg8Sh0vMyE3lEZQN3U6kSyVIIPwsSqPovXxJCL/Rl1GMu/RmF8WMeJGg\n",
       "G49juuNTq3Ih7GaiFKshAlePviqzuuhXSdmyLokAFPw2qIcYUU8o9iVTnBogxaxbk9R7qcUNoEfV\n",
       "pLc1OKvJEN1lIb9WlFAHXd+om+nwaVTVAdTCz87isX5MX+R+JjU21RK5VGQL0HOrMZw5ThwdF6nA\n",
       "r2aFD105vvZyJ3IRib1+4U16RrS6DHmuQA+lz1k5gOA0coOlqxen7mH4urV4wZgHmrL+bz6KiAf0\n",
       "/DdC6+nC8chVQ+0hpMuDsdcYSvX4LMQjQcaaZhbL1Y+nOXtEp9yvPiPTBWXid2kgWtAU7+HT6pSO\n",
       "sFWkAKii8EWxolESWfpLQLaI8FpcYXQUO5b7WkcuIzVqOsriEqkleyhxMAhMn1/UrcRZKGlcnKI2\n",
       "vwxnPItKlVloQ6bvTSdchZbgYA7LhFoQiRxkB4mEVofctkXJC5jzdShJDqoIvUBEFIF9PtAoYhlg\n",
       "sT2vMixrxro/7StBGMGBFS8QY/PeOA6c31Af4VBPmeVqqyk5FqAOixixT56u+yA8DI9lGCi5sV0a\n",
       "T8svdoBILWdrKHArtfXzmfaUP1P992PuuNr+OTZuY18kw7ZnXupuzui/YlRvTjrVd34Zil9kUFpY\n",
       "8A4Yn69+VysCoQK5JF0V8xxhdKt5LjMRgbygCzMJaHYosT4BKpSb4FbWRSoUMmWMtpCUCCD2xUSl\n",
       "HISmLJZb2Dlgesix1J0cZKvIQzw3EtQAd9GT6tygNuBqX0pDbXYrrGnPyyTY5eHZvu95ut0ksJiW\n",
       "XtC1yKGGnmYOT1n5WzZREGd4ByiGuG9fhZvrqjUR7WPDxjPXMokXbbuhY5sWNT6IyScmW278DRFx\n",
       "rFdbvFfpsnoZXvHzd/5opybWdTpkQLu1Xq9l/QJJbPxnL8iVIpr+whOPq60OO8LWQyDdE9GSm7Z0\n",
       "Aw1pYn/6wiffx63oVBiTVrxeNA+9uX0q4LpfbdHh2vuMJTcLL/bOm9r43vi+ZYK1FsdpLfiw2qGW\n",
       "egMoY/IKzl8sbp1nm1dtnAwFzwyM7MsKBfOMSf6a2Xa6fAgfA/bR2n5+JOyI0E5LfdMx8Pzk9QTL\n",
       "OlihkTwHYOXe7wXDROOFkw/jS0UxMZv48KrDOspKnnBn33GxigiS4f/9VzslzcIZ8Ew8J+mQsPlz\n",
       "4fnx+j7FE6qi/s5GkCiebKAxqkGAh+a2jv+88QBgZC6n3LQKFd+y29cguyiuAXZzlUCD5P+uOVQ6\n",
       "YgviL7PAue4Q4xdc1a5zXvBKuZxkZg00u1hNYu5zVhgKaxDFGQpF33D+7BNIErjf7sYcsCM6dYIl\n",
       "Wov1TD4rODMw5HIbBAYubSV8KuPFAu1PVPD9n6N1UeKhD12B6DB6lrU1kcdBfaAuKDCZr8mFKHrf\n",
       "8ijM2cKby5LgVGnrtWaFPuOjlgCKK2/ph0QurPEy3CTNSxcaM6GfzwFsPrkNbiC6L4bIPO3McNeY\n",
       "TVFMapRjRzh0ssSRnuSSggS8tLkM8fdkc9IW3g85vre4YRk/g8w6dCmNw1Xhy/ZbJdBn08iRHhkz\n",
       "BCA9fmYjYFeB22g3A5xMcIkQJG5aFZ5TWF+I8q87wUCcxuV/1NRKV+WFmEeRRp0LWPhyFv0OE8VJ\n",
       "+cHF2SOhFKB1pTBmLjSLf3e9PrW0BSiP1Dv4sJglMna+y7+5e2wz7wIou9Kn9dInxBnONhhHCcy4\n",
       "rDJoZriuwL5UnUKqUJGN6AH3K9rcg1FUWMXjKm6N2ApfSp8RgPif+h1paHd5eJv6PZ0fuZEkc8+J\n",
       "CH/hPB9HEponmMQ+sESz1jYj/BsDk7lclgC9vjePG55+5MfBwQEoBcyL7385fOzFyl1iaPa2wek7\n",
       "bjIPbKe+VHlkK5cgTtxCCfA4S25zubafkiPA9nxRKMRQkgcIIdRWkVnQFOQwnYKW2wePKcw6StUC\n",
       "O3RRwGoKnTJ25A3VcxIV4hYhUM3gFklB+U79nPh18fu4W//zy7vrbuRxcf++vzyBG8/Fh4asZZMR\n",
       "dJWIDkw211XWJGHErj147QY+9IjJOG3F98jcKJ5gkeJDJRQuFIfUHwdR+fiaTHOgQuuDpdFkwHR+\n",
       "2ly/8d3eGRuLOUtwss5Ow0HdV5Z/2vEZ7EGs/e2Ql1VArmeepLSR6PTu81WkThgcyDlLWRiw7ILn\n",
       "GvbYX9Xl4x/UZ6lPlKAXQmulqh8VjWR2XtT2IwemtkbJx5UK/2Ixh/vRLjTxwQhvkNkDmyxP3ffp\n",
       "3g3/Jwq/Rcgj4E1FTRHUYYuKAjGcdCnH1Z8ZaolppyYSXWurWjdWRo6dWl4k/8bjXrepJls5Q5da\n",
       "uR8dsc+GA2EHh6pPMMIGGqmVlY9/rogiDGGWEZEqhQjRTIYUkdcwaXoequRPF/Zl/hLzGZKqnEvQ\n",
       "yYCmUOjaac89INjYd5ojS/tPXfqD33tawcBqdH8oDaZXbm/AMYflkP5p/3nlytmtc0yXWGJ/DtT6\n",
       "75KW0L/g6+R/Z+OZHPcnizJ3ujvHgIzLY+LR//FPjVwL7xBj68ONltlh716vKME9x7EvFpoBA3yS\n",
       "PIFzxICRSdnW8bV3VRsjH4T3MSagiy2dyEdqzfNw2mxXoGH6YuTKxXkkWyt2FD+x4XUDfYHAJDXH\n",
       "y4QoXvuM7TZeeLkVRMocrdwYcBk36kwDXhyUsBxMuj+ST2WXtXZA+KvUWrT8XTj0DrUqbYpSpunB\n",
       "2IFHMoJKpDfE4zfmZqpb1K2vTNe1REbmJYEDa/C+1gSS8ZnltBxkVg9vL0xeIMMhoUmeHB5jaVU+\n",
       "4qCJCOJsUGf08zI/Q6LidEqoSEdOvmOr4JBxpROKDP96/xoUlW7Qfmx6vvCJwcYEM0Gzb2edlz4m\n",
       "/poKcXO6X+DFWSJYDKoppCLWgKgHGiU9KzKeox5WrKtLeHBER6JEKBeB+DXhDvFxserLQIgW4VYu\n",
       "TLmCdPcxUFGRIIyV+DbyJ43akGSNrSzXXlacM9OO3zgmPmIL4UjrMv+FI6U+gOd8GMFGd7Scl35k\n",
       "Cu00UAvb25/tmi2H2xoyFRDNklwhJec1p/yTjub9Auca/P49Y5XPm2Q24eZUlXdJ9FrDtFT2iveA\n",
       "bc6GYjkAn68oIOx8waXqNNMRehNRZjkx823A5U0wGC/45ImefjD4n0Mhjw4CamnAT+1EjO5HwY+3\n",
       "/kiQ3WCgYuOSV4+tGaoXjJ5IEgT83CzB4krUewiZbiV5mNLTUmqnGhfosg8Pwi7vgHJ2gNrPqWQk\n",
       "HTRr9NDH3or3gDHnm6EAC/0irRk0zo2s8zYKxLTAVuSxZ77lyhwJszNAoYZFoJDFN9XzFYThYj4F\n",
       "Vj/nOu1DpDOWqrdeXEHiL2NK9rCmJMh7sXLe69tEgmg/1xi+mn0Iay+03QS4dNHYcfGI7cfiWLh5\n",
       "xYj0EwA8zKnOL8ZbP25fQDdWn38ClX5MKOUfC1r2sX0DnGM2v8tczEDcCof2/u/Kqj2bLqMINTcg\n",
       "Dmwxl9ZxAXa4rEdIZvkQx/dvTltXmLL8iq5oTIQdUL0weAdPvIZhcTBKyQAX4Li8DqwxLE0+GgpC\n",
       "dIL5DaFhWePGZvuszLdch1SW2QnlVMraFPxBk2LBplqydpl62YM9mhB3VhzudVHBVbRFups04nwR\n",
       "gBaL9Vf7RbuEBJ3gk/aA3TzIYjXhU4eJlwmC6EOc1GsA6Ot3BZzeqt7ctybYOgYLDC2aSCEZNSxO\n",
       "VaZE6N8q3J7fvUzI86MEAPJHYdWRR0TSH4nP9hJIekfPYGfUmJDY10DF+6Kx+Vyw/+Na0eWh65wL\n",
       "t3+075A7eObosnEUL4mDdu/32ebzwNxb1w4++6BgoArc5bbPi/B8AfCOrtbdqJmsUOnRmDZfpj0+\n",
       "6r9jFq06f8xs/dioBqSQS95lqeDM2aAGJO0eGxsegj0+LdQrrlf/Xq8Viwm+JD4Xe8c1q7WngrrG\n",
       "1euJDD6RbC1bzN32Ib9yjOiqLqvjTF/8ZYxczL6tmMlw3X3hTO2h1fPPUoaclr+fJmmi2vrcHnXD\n",
       "f/lpMdjwxr/RcKRDUdduDrdkPE8Yo3CdloR++SlY3up6LVH7j3xGxRamicqUQ0gIsUzc0Yo8cvp/\n",
       "Uaa1lj+m9l4sxslQocak0xyYkSYfiAiDdMcIl70+Dh2hlOJxpc1NHsz3S2n+KUpMEzIVcUHvOo6Z\n",
       "G/+wleLcIeh6Ddx7BSa/JP/8dLjo0B8z7vs4d/5QajIxQegf5PT3p0jGhaozSb1AUlWkC4yov4Yz\n",
       "p9ufJrxcnE0EC2U+aTjIMjMBWuZTb/PzPEYNOI2O9ft8zx+olSYSzKJ/jhZgeOW3c7vIpyaby9Aa\n",
       "dvgrR7yUYMHttHrGZ+cO2bNMg9IxKjKXQ0U4Ff2u0RfIqFTQEm5P7gqKGbDbz40nE8hblB1Aprfm\n",
       "m9mFnTTrBSa5Prk5tRjIPUjzrY14YMtRuEFe8imN6gJUM6Zbk59n7H+8xJUKUM3vZDWle2pI8Qd3\n",
       "2itWP7iz+vRBw1iwpw3ASiiUvIB84BZagPigUVS69qAXcy5rLEr32Oiccm+Y2n3DXJjciudAqtaA\n",
       "ASdBOQrO/HLXwgRUsPeSxZZ1nN29M4ktCwqwA12TDwW9wDXQ/anW01hkOjH+ACmGfIZRG0UYQGfw\n",
       "iEHVh+qcEjusujvt7QJU2yIn1kt7qLGfOCdiJ6T6g/805VAeyVKzOrD795fXIC4rdiJm6T3OX7LL\n",
       "o3jMm+g15qB0r4JDwpkbl4LOtC1EfpUzU+QPvGpG2qXa4E6L/jWQ/Yd7Bb+aQiZJ/+Xo0mIMd7fM\n",
       "CX2YvmrAapd8ST4j+cMM4YSGiqi+WQWkKOlnBT1LiPm2gye+kFgo8rLpUVeoAEM2sN1V62pTjqmZ\n",
       "0y1pHIof34AdcWkYWmpQl9z0tqWz5Y46KP0r55yca1iuoClauNAb3aoPiVYcc+sJ/tKU5WEjGx69\n",
       "RNU/tROelIOBGDiXfipuoER2Io0CNpul+LiQv4UG2h7oeQ6YvpGmRqQkT+Zlzc/jppdd7+48ioAA\n",
       "hiplBYIVyKQf/kX1cd+AAmo+7kpblKye2Le6e5A5W0JMzDyjgToGACu91hFThnE6NI5v/rgZ0xjB\n",
       "wkk4C9rpeAGpEv/LZEqiVgaOB0dbnAAt+LGpslZj75lAsbDYCu9MNIDqX3jY+FwChYHeZx9RWB6e\n",
       "lc9a0XCKkZITPSRK8YuuFc8AC7QeOVT4Gv4MsPiLgqH+q7lAhVj/GoOcpAv6BaysoUTYi6mJfutH\n",
       "SibaZptLXff3/057FI/ZLRIlqhSSQvV/Pi7B/hgJ8lwMh6fxXPMDdEpH7G7J59ko9xN1AHpDkRyh\n",
       "omrZQNxV7mBWjxmx3Hzgn+Foo5lRDX4ND91NgzYfEUINWo4aHv/iswJEbhztSoNnXCLcxOCZMQmQ\n",
       "IS9YsXdIEAjMi6XrCHS9xfeNxVwm4hGVTn1E0PfOtVGEhq34FWNfLfGpIx7/+p+BOKzGyFWlAMOr\n",
       "3tAGQrjaUL9fdBIooT+YlMPemZKoZVKq8hdUMgD+at97+53qVbTy/MBwkcnR1HUblu//fgin8RAg\n",
       "lPcmnKstej5iD9z2fXArfVN8Sq3LPb4IaIXLq63gCaTptS7s/yKMRzEcfAZjbInaVA8nhQ9hfw+S\n",
       "7Y3nzg3loh2Qa/Y21FUZu9/N0JvncSj2KseTYwBw8qQ9TGZBFfoSHIkqkW1xMvMi1vPy73Yy1802\n",
       "uHngPLrWsBeZjRyshE5F5a8Cl4ZfzuHyP70lDHmPQRloVop6iJ0K087MKPdnkwbJu8+LhhvMFgTL\n",
       "1r8hW58yBtcnnUXvX/Lb1mXfOg5kMMWXqZQljg35o7rMo/nx4tN7SF7IwzvONzrxj10tMtE/KpHh\n",
       "YNQ31KttcqNMl2HJEhmXDkihKzAyvCw/zGSVk7+yq/udht2osqjOqDyx7Z7bKHITE2aK1okQ4PIA\n",
       "gFherT++vM8xvR7bVy3cD72xQSCRSPV6cRWa0rc+9DpFvRrda8uljWp4IBQvGxY1cJ5gIgHXMRjO\n",
       "js3++KHz5LK8BHJfARZFVsUK6q2MV1m1TVCS2pyJHV7qfhMIY8DbRTLIL9T9Qh2H6sOKKKQwXPgm\n",
       "L266mJa75sOsLG5pj+soywgV68ZLdcAIL2mV80dFOe+cUIVYBz6yQNk20OP4o9NK6+dSLYpzZAq3\n",
       "ucooHcPJ5mxIMEt2TX+qVN5zTPhdnNdUXTDjBupHMVFga6BC1PaTqoGf8Y2OYtt5o7tHu8RO51pM\n",
       "rwio+QnbJV/Ylf4s0yRwdJWU+YRBDaGxcWEfRjPuQN1qQpJS/kQzFLV+8Jvy8/gp4Mo0oyisV++N\n",
       "v74vryYkJJ+TXTF7XzKb6G6T9sDiJSQLvR1L5UjrrAxyquJvOBwzOQc0pE/LW2V+a8FxKLFTWvrm\n",
       "m/wMvfGjoCND2Az2O1Rbk/uCc1Rhgpnv7NBJYhS6xnyoOyNUg48ak+iAnlwjt1Mt8mVP25Li24ut\n",
       "tLi0TSXP/KUly0ZbPdB4XA4oQ2VYpYm3MtrujsRB9nx+/s4Z4YmCzHT8udS967dUcgBM6PUQxfd6\n",
       "ZJIYxsK5gdQEFu/y+BUhl3dp+lzltsFGd1057MElTIAPpiAiwPFMUh7RDs7JfZpdepMpY6CjfebI\n",
       "EfLFwcKmL+ZU9CnQ14xh+5rq/19B7b3XS9BLjin0yUbggixf1bNkS7bha8xwbLGH62FSwKLkkOu4\n",
       "Gw3KFJITtw/lAjSkPZXJCv6kmpZdceexsU67jchhCYzpQfMQKOXW2x0QQ2Wt5h2+namF472vEI/5\n",
       "wtZbZ2Qqc2IlAQMflXQDtschu8lZ5in635JnS1jYGOAtvlrf8q8hvKQCF8/gPXN8v0KtyruQ6A20\n",
       "NsD+84ZsFfdKwMO2SNxpSDz4HgoDLLIWWD6SgQ1nCcFuy4X0cZMumbUlqugMZdGQav+3h0FA3ICo\n",
       "m8mLbjJS94lyRg+2iejLAFXlMWeUeh8us+n9MKDnnCp1LyBBojQlAl7pvvNetFO0DorBaZ5BICkY\n",
       "ewNDUqdtOYnJh4MQ/GUckPrqSQJdGyT74tRjOqDJVD/dL9QtPPUYbPlrXytz9/8T3LXHam1//FZC\n",
       "hx1IaYvhZ4UeImY0JAZAcw/BJ6n3NSETyX/ysVE71+gZ5SJF8/2Zi2vqDW+phbfESoiXRZcvg/D2\n",
       "BTb8jb4eE6L+jg7AEw/fLViBvzfM8HHGrfyK4bHSmjxekZoQTNGskoAgIM4zXO+2n+pVfNpr6m77\n",
       "Oe4SH3F/+/50NsNp4hQxILm3Orb2YiMzhvuNEMVWW7tko31w6fv5e9SbzEUCgt3eSudNFF97SY/M\n",
       "Px+9I4A/K+5QAVlSWM42Ilplsgoi76l+hwsvMM1zLcqqbZN/GsqGy99RkcNd/zmLidTFKNOAro2s\n",
       "8SWX6izcVHF+tkDZhP2AXedM+K7LSP1IBQUVaB5eMvBHU5zUUl4XJc5QJOgU0837drBkVEEekwUy\n",
       "RDB5A/oIxcIkXI2mld+UfCb6Vct6UTwNNDyiJuUNR2UpwCkyOEh134e9j5u8EnQDhxG3/gY0EjYl\n",
       "+I8I3YEupXw4eKDJvepCE3ChmDP/2QM1CuamfR/C++Mcp0OcUlJdV2M8z+jmvGZesNyB+8kirVmf\n",
       "Yg9ZKcXO/wsWrgjofKqgPzhRkmiUsiwT9EXM10W+jX1tSu5MkuOVqlPt1NcXMMkyAr4n0XBKXTkU\n",
       "zduhuQVt0igBDtLQn/gzOYes/aPHxZTsnTXD37XDDdX+ueeCUqEJiKen/1lRrSThOb86ZRW/ks4+\n",
       "4YjB1mcn+Tk1uFDA3JKrVMBzKiowbfUL7RGy9ZWDyTUgpSv2rRNueVkpYRjABTKtqKnPTOernmfw\n",
       "ueSn7Rz5XISJTgmI/XyMCYAQCeoHszz7hmcjMdKpr7HAp49vW+TRM17Fe3zbRA4HT2dKUUeAI1oA\n",
       "9/jcFWu5V4cljoV5IhOUIDn9IMg7v8lmWvG2uMsvWoBD9B8RHpmImbFhHYMiO6GG6e+D7jKDjH+F\n",
       "H/zYAN/Mqa6vqPTEqyXdtjqust2r+shdD4Kbu0iHicyuuKovujwcHvWyU4ek8rVC7Mr2uRDhEBqp\n",
       "2swHlS2PCmb5tMJTcqAQJ0anYS2HTd7fOlRJY5SDcAg+D3VaGXN2aLF+i4cTxoyYFoD1PH0uYeLe\n",
       "YrL15wZRUcnUicj2ZpANl6QydoWUjuVJR8+JFY924tJCHVJ/p+A9YDBMuPKAC9GfXg428eXPwSwy\n",
       "X2TTgCfR38m1lohPwhi8bHznS7M5rJ3+GnFSY+2pMZO9vsIrXWJqrGunz1/aOvAGIivEgiTxCRh8\n",
       "mhGr8gWVJKum2eW19cPbry3OrB7K7aFLLA2GtpFD2qMS/b+zNZG0nsPs58X1tBc71swqyB3ngvNy\n",
       "BNW6XE3Wygl91JL2UMJKAcQBgt5z2URbFDLtC3MwCBs39pLxTQS54/6Jm67JMETzx9HU2qMpNuLw\n",
       "KMsDIT1rzSUkppX/7ZShFmyhibTXcrV6+ibrs2c//UJQUjpVNwOlNloh7kVnXdJMEm/iLBrnoYoB\n",
       "CN/Sg+TMA14Dj6aUOc4pGSf6pfuue0APJRBDKRWWbWSgEPPr+2v9tIp5Vl5OOVyzCK2F3rvVkkM8\n",
       "er8y7G2Migx6idU/cBKKNZ29x4ClXeyM0xV6uSlT3kFGbDktaBwbvZB6WiZvVP//jGSXLy/wrQqT\n",
       "uimsykBfJnWg8ZsrndoTXfYEyCbTlKZXyEwNEDOlbtJKi7LA7YieV/PbRqsm0BWBdYDkzs7vlrCt\n",
       "vSc2GRO7MyRI4AenIIDAx3VTPrIkPdVNo3e/0jnbo9cUcOYxY+H9b+7ui0j3AiI+aVHWJ8ERz5q7\n",
       "sfuGhjx3To1z/gcU0hYZbeXIamkjew8s6ymYQZEbcNr9kErRCXRkrrS8vXpi9lW3wV1kkyu3J8/s\n",
       "1scvmCth+KpbSFEBEogabK2NLvKi2EJ6YmixRxD5D0iUJOtA2xW3IRHpmovLEaNt3H7u7J7navMo\n",
       "8ewUjfH4RIbEbEO86zfPr8HTKgafkXH07VTZuVFDhuy2UrBcuMA+A39LpwMP6XR1AN5oh1qUKdIE\n",
       "3Xj0DgFalEnKrj5Dq2xIgfOv+a3Fym5S7MO3P8L7eaqGbi84XMKAw6FT/+lz8/Kw6cnCz0so0/fy\n",
       "AB0AuTZ1EV7ZvHDFcEl5LwqM5KXjjMbb9D1OFzqYRll3WNOGjXSmIc/I/+9wPshhffrgy7ZQk72/\n",
       "shc6IYok6gY/5FLB50UtFMWJ6PNLPCwYS3nZVcgcuv+ch7sW6ltgPnaDILJRWG7vl8cKPtK27kFI\n",
       "/0dizO6uaBpsItwp+PvaL10ln5dODrK1iIY2ujq7jSK7NdNHayao9hGrQVdAHKMZZI/qpblULvKY\n",
       "NuoAbBw4KdFqIlmyhcHJov4GgCPSiODEEEoi/bh1gYUbk8yRJYTRADWNxbyBhcV4YT90psx1G1Id\n",
       "plbIinGXvNDoNw7O2UYJtjEDyT0NkwNBhg6RT7xnOz00TVqPwkNIxMLHB3061FvhY9+Ykk/29fzr\n",
       "9kSV1g0z3Q6hOIPR6s5BmLVH/qCliLu1TGVwmwbV2ftD04gFyPMpdALkqu6oVpt3yem9pBVEZM0h\n",
       "7q5vVEaboVZ5T3HziaaZvDsvLv1llb3czpNwFjwMvI4UoPsUejqJvCsrcAzLnKDUzsmI86h3J7wd\n",
       "bXwQn+sJhlXRJoQK60ybCTFog3Au0G00XLWdLINtw72b5ELG0QnWHls8qEyPqdOOJj7Yy8KNgEuo\n",
       "u0KNCyzAiG0wekXeQcCNKo8ma0f/Vc0hUe1yvfZfuJty3DURIKBGcF+4+k4OjrlnE6bYR54u1gfS\n",
       "jH9NYNqWiFMVpvs/VBXGeAGzNms+6eNkwcKsPBNTpf98Ocnqihm6ex8Yf/tAOVsJLHutOrEOs27P\n",
       "ozLmH6QCYxXmNSBMc/Bhp1ays8+NP4i3koXWRO44lGC7rGV7TmP6u4PyWocPz7VyMa+dDBe8LC7y\n",
       "xpB/7HpFrNP+UYjVShg2s9W7ohbDbzJZkRslJApVcLAr/smwcxbp/a0d7GjWc9ksiqX/MnNMJYLK\n",
       "11TztRjTZRKSyp4dH47IHL2r/PHER+nYJlZmS4tfMRBEBVwH93M5VBbNlhZfnLuU86vN/22XeOfw\n",
       "PETacyvWNQkI4hQSZw7XY1BVJ3Tw5qO1YyE9Tcx6UD45o73B0/d+FZeBpJDfhzaneAL0q9XhkKVT\n",
       "jNuiR3JlIuyGhWVtKWaZQrczk8tR1bu/fLPZ7513XB2O8dJ8lNnpKmKvM7bBYawOvBsIy/onu7A4\n",
       "wyj0L0tJ15X1BEuewIJogsOI4BAK9KIf0VhMfuBn16s+A5xZf/lPWoSMhsvhHemNEPQJ4AUyvtZk\n",
       "wwtEHfOVKPdMHMp8Puy7iwm7XRD/IcL+TbJ9hV3+n4voUOfOJ60yS7sac3zdHxHm0vMBQhy4vzH1\n",
       "/0eHOd7BtnHs/fk5Taa9PkGtfjYlu985pPRpBYmMGOXK0IWR4xtCfwb8s6WnJgRAggtvprTZ1KSp\n",
       "o89WdqdJk5AkcOG14/3Kzk6Hw2SGbv/B/XJkc/RH+nT/7Hj8DvldCyqSuqrpl+9tCsY4veeAWhr5\n",
       "+bM4z+oiYFYNWAyktStlcLkmHZw5y+/fzS4Abse/1ioA+J/5DVZN4DWAiTOOBpGPQGKcADNkR4de\n",
       "qU5l2rCsjfium3SIHxOhSATHwP3Tfb9jtWNkx3ya71QwjZC4dbKbV5Ikgmb4FLH+So3UTOh1Alyh\n",
       "WEpS2uy6PHqMUYEs+ecISljFWHWEXklQaHb6I0WOEkpX2oKOYiQVb+UTLOMkPAT8dFf3qV8K3Ba6\n",
       "Uc+AhCVxQv1dUd3/VxXC0jdBLoJlNAfY6lgDH5G14WgWehVQubH4W9m63kIAdZIqGeKjnkgRDdAf\n",
       "TAfz2qU0xGkoSYM1bmrvxGSZJfkobD9Q4p/4DC6WT76JxGif9V5DsGIYP1j85UTLUmCfodbTgz3F\n",
       "DAglngjvffBBi6NbWgCwf9JKZE9G3hzkKk11QOlvWdqkq/r0Cfpue8Jg8GNXdPPD3nA21Y6gnni/\n",
       "bVotIrqe+I4gSYorxbgYk3gZdHNbef5Qea9sxItvWodof6bJ3BI7jZAYeZTvTLyCPnZ/9/ssk1F4\n",
       "HQWvlUaAtNwah9jJVc8r9+/3d9UjcY5rULyleBmmBJHdpw/8P08rAdAkIeTiwovzGmna2Y3isQxt\n",
       "BnsyX0L40nCGvnbzV9LHt5uhfopyU1e8TUodMBv3peremKLXHAw4TF72t7xFYd3iqOC0Uav6vI7g\n",
       "fcqNFveHigJesKr6NYmHmbkYRjRU3Oz7jFCBCTBIdMvNZcwrlu97g1ZOc3Pp47pLR1u3K8W/6svS\n",
       "gBjho+Tp/G+n+tPAbhRc4+h77IxDzuNee0jHa0hgTu8zU7rjjhQbqiKAFGkktObfxwwTDHoOMCtI\n",
       "WUA4ia3x87fgjRuA42cIz496/79lmuPyfn6NO0FR9BGpWKBGtRg3vjHgogfq3Bga0R86mmVFph2n\n",
       "4l3g+PWfxLoqqSxE5ZH2UynS2eufHwGNaQnElzyz6vObvuS2lQy/8zM0BZr+lcKpCreAFG6bn5ww\n",
       "UpFtwfOUP5cHsACs7OitHR9MzkqRtSwJ9vxgNke44W7VBv1WZAx/ns5uMVQSHFnMO3Z/WY8937qr\n",
       "rWeHa1xIAHnMDngBbDDEBX5Fgr1x0Fyi3ZUnzBOwveYcvx4M7wVIIgljXOjBqaJ7Uhl3jwD6UqcT\n",
       "gz/dKWwHiDOKQnhVOHpZ0xD4olk96rXR9K+wk1Bsc3Eofu0RWZAJyX6cUdoKDMJLLbdXcvt4pyD5\n",
       "2/qbiUZTLs54cCFc76HDfGdtDKKPhBxM0Ki8BQcLaw/wc4bc0aL600GK0co2NbXgWQZrLpFZfwYf\n",
       "QKjHzBYg8KPRRbVX86lrNU7qUMNc2JxG5vvVQYKNrmDhahYL4LIk/1ya2FDVCj+mIElN15nqHDCO\n",
       "rcQ5/9wANJp2LdxgVb7FtDg+/oAds56qsJmpH9reArPbENuOFrT6HSViHTMmJqD0t1+0vp9isLMS\n",
       "9eDGtCs+mpuAOPlJPz+gVCksgEL3KTe5il+2AAjTBSnZzUuRJc3XHjGPxN6aSvsbgrx3LUGKN2YF\n",
       "o0RsQYOS+ew0q0l8ozk7QOXzqlNIpyn44vvOM092kB5IbLjk707SODzfbmPXZO3UpNnXlHZRa1us\n",
       "Eb9fQQbYanlsApewfyuEbUKpQ79Qk5EAtrZMCx+YgWO7jyYBbSGvaw5NHp+HblFDCiQ6GYy6wlwD\n",
       "viQh5b7wqCUIysh2pkZjputAx80uTctkmjcqXrOTiMYa+jbbRgQZligGnfYtaAMqhNe5DDkr0Mmi\n",
       "9IuwQyPrr4pMl5FYsAh9VPprHdJu5KKjomW2fd9hutUGsUstZ6uJiJEFBNBs+SJJ9U+hGc/yIPHi\n",
       "YWAjsd67dzdsHOrnoeX+sEtgB4qWWJJnYA74RR3tpaNzwP/hwKUChu2+/e33pv44JGgpWVoivQl9\n",
       "t3ahFo6fnGwQdhBoYwyJ59oF8QxtMo3/vGzoaq7sZ1GOynZ/BvGUoz5OVf1+WiSkJ76FRM02cU/S\n",
       "OR8lYe6okKN/HFQ6+MpRnymqbcnEt51292OmzoaVAO9Kog801H1QLp96JFjHBdx9KEPgH6LzfurA\n",
       "fEgBPSwyk7BZG2dYVErFdrdVquQXABquqfY48+AptJe2UmAAWFaj/3AwB2EMkC/ULFMhUBQZbBn1\n",
       "SxN1O4cYma84cJf5OoOY5a4Y00O4BrOs3sJSRt+F6rFQRTUiEYBXQuuUGjiJkhElFlW3f7O94N0M\n",
       "oWmB7wpOnuJFr1IJHNo/FhDiRHJYaf23B3UkiJ3e3RkeDSpJvR9PxFtMIH4CLMd88B/lh9LoGW2V\n",
       "E9BPV/gS11VD4XgWXBG7Gsh44JQRdZgQd57HFmMSQam1ET1ZX7eNnNJqdQdWgSMsZQ3H3Ly0g97m\n",
       "NmtR6kqoXwECNN30doN7alw9PwbhdJ2XxYizNJZ5jF7h+ZCa/JPtblXfGsxrLmjFj1X7eSz2qDNa\n",
       "cQZLPQcsbCaD7CXot5i1qlv+SFrHoF0ZDfWxVNYT806l9HmqI/mNMXRm4ZP5CFnl6C1fI2QQZqbW\n",
       "+GsOsHzVyuIYxXTY3XUEnVUsiNY4MQN7pZxP5ZF01J/sE1YSkA3Vbh4skccBivqvCkXUq1F2RsQX\n",
       "otIm/+DTLioXfblpcHryNOWMy6we0hJnwLIdRGVNISYvf4iMfUbSSlFvft8Il5TkQKDWyAAwfqkm\n",
       "IOnB7Fboic1p8RE5ekLCiz1hpqtGOMmjHrjtab9jRbhMHwoDg03oKK0VYQxTxdf1+wbNyV8IlCD6\n",
       "XWXza4y9P2MxR1kyoGBOBxXoeotj+1lonfSDhIVuTuNblsa0p0KzyTWv82/QCUMLE13k0Jf0AUNP\n",
       "bFymHLgIfnWi7wKvPgA2W1Cjt1Tyx541hZQ6Oo7rnpmyaw+2fdfVMCi6TJJ96hAF+VN6snvPT33Q\n",
       "PyeADwop+waA5duu41ajzqlUZHHxDJ8cqlLOE7ILtGas7vmyQe2uGCKfbLuXdORUDpqF5vEdd01f\n",
       "efwkO9qknRvqCnpmhJbVca89Z70GtZt9P4TcnFT4SYlNWSBOxySN+wtEJvg1MdXaoE5l7yaSumvk\n",
       "khtmWKx4QImyacGKUMXKdah9ojmqKqohT/+WdZrzKyzmRajScEOuXyUGNVax21t7FK85qL8Iee4x\n",
       "XUnRmcz71tIULKBtas8yrV9pUUK3/CJ1bx0AnbkLcoq32lnGxpd+zP3zkBJE9kFoKm1QPexY0BTj\n",
       "gL+5vRWuGfUCBUqmMHUIyYSKral2rvz3Rhp3SHaWnsFSRGcNGLiQtMnyG5zgduXWBKG9UfEWrE0L\n",
       "+So9jq3t2Cgdo0l/LkreHBzwYaxaO2k210BGFeNxQRFlT4huOVLxnOiKqUSVC86q481ITaLR7dnS\n",
       "MygnV2Pos8RT4KVRRtyAxDVaQnSEDRQcmndeZ9LDLhOaNjH3OYl42qSHWHlzK23W/YEPvnmwsUdM\n",
       "2sHnqvcNST/8qTyJSNkuWhN9iiivNp4sRaw/Kgs5FMWXXyuyPsGWCYax0EBYuolsGX/3O7+BO1nc\n",
       "J8ZnSgp/5s/MJ25V4NV3ixFv0yZv8JO91flkdpPcq5tnl5xSptJwnjn1zanOeoQLOs+FMPVDFGJS\n",
       "W7BWF3ZFCSq8mLnpEAVtd4GoNb7SfoQAAAMAA+/AAAADAAADAAADAAADAAADAQ8AAAqLQZokbEEP\n",
       "/qpVAAADAjDDlADlPs+rXy1kyCQz8XX+h+gn8N8Ptvh3dIe9vVYHiiShlHTUC7qbdBxc5579Yhqp\n",
       "BQpHhqW6I40jvWeTDKg5orspcKy8uJPrFtX+4TCBpJ7kyrmXGbp9osQPDsmiwlIjLjY3/116QAKr\n",
       "XwIG1U2lSK+6iEDya0VMMpEiMluQYpIqclFYHcw+HlNXcMQKo9NiHsGLkd5FDkNoY4S9+1FMKgi6\n",
       "OTz0vQC5U3iTRbGmYCfP5Q06l7WbdoYuP9EwOGVu2N3JS94dX+fl61pghTcbQT49+fisaytpPuVg\n",
       "3M71i5J+1fbeo9U1VRDMXVZrruDtASnR9kV5UPLzeFKR8FLxZRDBT6LEiC5DeoNNpWQNPnRaMfBd\n",
       "cIbAj+eBGyGRckhSPOOc6T7lritr7THw7iAHhbZSDlCHSe5xExAbT32Tn2+URZoTaa6jQr7/SHPZ\n",
       "WWyJYcxZZU8Xag2O0/FS5gAZpBMvttKdavF49Ic9CUCg4VfSWzXGreeOTtQa6NQp/mwpcuxFqsRH\n",
       "PeV+ECylMQzD1qX48HooCV0nCOsMc76SaREkUrj4IbU0T0FcWcpgvY7zE13WW24RViDdcE7X0fwh\n",
       "626QSGJPR5cOI9gEE376Z1ne68Y7ipG8Ihu/RzeXQG1i585ApVvOBuNZCRyxBPxKJ/CwoO3kSf3D\n",
       "gAGoBl6rZuvcNIwrGpjKtvKAhnJwi7VY1XVnPDqIQnC8bC05lpJD0Ah+kNJ5Pbtie4xeg2lAxf8e\n",
       "mWCUo/7RmIAUNxwW5ebW1U4ntpFJdJHnKau0asm6hMzs8AIb65hiNHkS+o4tYIg2DTRPBHCBnzJY\n",
       "PT/mE3Br6mB9KlFwsM11oUZU3QaWPJnYqmTaFmt+i/bOawEQ64f2F+bgBfkgo8iBXKBGTRFmnxPW\n",
       "SJqgAwweTQKiN/0l9hC8WEO1fP09Qo/ztHou18fc95XkYpcG5y1i7/mo6XG8T5/8/fYkDXoZxJqN\n",
       "9BU0ReDBnopu89KFGkaKWMGvKdHkyOw7Ypub49R8fYxTBGSMGtuFiCck0nlKX5p4OG2zY7cs/5C7\n",
       "OQ6wwbs5F0ot5TicMyzJj4pIJvvvYhDmXrfNJQn4RFKttHLoHFuYBs3r4s/prFYsx8ql3Ze+xpn3\n",
       "UrZLQqIyM5zlKwnMoUmW4uff9HufCV0Gpf/RP2Hpmeq9A3endUIW9WQCGLtYHwsa6ccuElKDHY5J\n",
       "+MwI7ISb3L1o7o8zmwa/KqX+1nxxC+DVRULOL+9iWn6pXU8ZHq3yy6nNMyqhzaudfP6TsOQlnl7A\n",
       "zFVDo9Ckrkyznn9I7/pm7RdCrvt3HoGtZ1l6SzD7r17vS4TmFb7QTB3eXiLrivIRDtAIZKpp1o/X\n",
       "U9peIKQZxFcYWq0xVmKOT8RJuafVtbKWwhOeDSEi1eNO+rgNdY5lJM5TZICRGNKdM6u7ny9sFEqc\n",
       "5JebP0jUR1ZTvM+k4Q6kLnk8Ib+XLAQ/UrhXXV98GJMSGFntJic6TfO/dXPqFSpVhNErVD/xBPBU\n",
       "W2jgjjTf3GhJaYZtWPrfOFkfTXN89252IAO+HEVxASW80ETjaxCSckwHPFLKTCYUS5clym9duwBv\n",
       "vK5w7vCiOh446rHbnWkOybEH2kx8a0KDoMoR9+nQqTz5SS4bqD4fZIFS8X1cU2h1PLnvW05aFdHt\n",
       "2pN5QR9pA21C+kUuMwC/+2isVRZdrwm7F7m9rhGit8Bn6eI4I+wqizD77ie3w+RCdpJpnvA0YgvO\n",
       "5LuE9+Jkc6Q+OUHYije1eqKxsyWHGO1Agkpq6KLhkDZuK9Zuh9yve9Ds4Jq/83fZUO2HSWCX5/9E\n",
       "S3Kt5E/oI9QQ/j8kgJqV/VevqAejHHzHTJ0E/H3gFHZonVyjZ6BQ1QiQOivZjGfn+A3G+2MilRvX\n",
       "pbsLlOqZSYbxw3QJLD89sDDMDcaUzkTZ1sk8Urv1+WKncxZDUSOO8aNNj9npDgZ1n12K2XiuECu6\n",
       "B39sYVtGXcvCMdmSf1c4RM0/C/aE3bUiqdjC7/+KILCTeyOX/EA7w5WQaD0c4GxD+j702W6/84if\n",
       "AQcId+CioveBcPThtiL0pJYxttXiivfWMtD8mo3ipx/GxscZJ58WsIa1cfhC0APIFY8Jxxx8Tfon\n",
       "wznyC26VctV3NyBM156YTR7x3EEGS+xizR+WEuH72M31jfx7ZsBfGgDGINAJh86Yx0MwQCOyYT0Q\n",
       "Jxnb6cLQmAQYDzBjoBz10jzH3+n1qac2md0eOzfOsF+uGgN83BRY84YFSeXiobEnHdB+78Z811pm\n",
       "oJq2kFsRbiE1Q6ePDDYEK/h1OuJeuP/pn+E1p4fJcBg0L9jSOouFY8lqw9LERJBuwMVLWDLBKaYC\n",
       "pNFTAumpjRX7xWtoXMNHWRqILdcdUqBWhawcz1EAgDtiiVGa1o+qhVQFzZM5KtRG6aCeISsWlBzQ\n",
       "jKgfJcdZ9PgIHxrbD9264216A/I5MXmJZS2zU9FRDCx3TeVmdPBK+vEvLylFttuv/4OSVjf9Gagw\n",
       "I4FW1yd7dkZZb+BIDhii257LISxUsCufnVfDetV3ql4bAMraQWbe8TAC0eEzd5GKdXm8MPpY34b9\n",
       "PIcVm3skS2dThAnFmDOpJGxT66E2+KibvojLb7pKIj2PQ3Simsl5T3lC9HfdWdFgqqsAd6oR6hXg\n",
       "dkXcxw3kGeUWUZSkx2TJST6SxOvrjXeXdF+/dwUcE+w4VOMwb57I7j6dKk3jmFQTv+UTG1HCm6Qo\n",
       "r1G2iHfJjJixlA/gC4Ex3JmeVhL+UyxWdthSL8NZcAnRZEILgVThZMm3mZML5WpBtaeP0Kfzfczd\n",
       "VYoUR8T9HsRPGfkfwZLCNOMe7baSQ1RrSqY3qbVeUfz4qrtHphffpxzjTxAKuxzkLN0FH1KYz/Xz\n",
       "Pe+P8iLiRbgXkTSmDDG+dLa+AjqwBu91GMsS+Fve9VPDa2So7UsLMoNGF8XyLhJAXsoeXoi4zHRB\n",
       "pmwy8gbsafgF6VOt3I65VhFM0IQl7cTevHFsB8ZXYOgfZdNdYcrpBjznQMc5eD7xpBr17G19MONA\n",
       "7z6gjVDwbFwVA59Wsrb5mxJi8vCNoynmbZLJdOlxZzcYmAmlduNf2IqCgQMHK9QCmt2JeybR1J2w\n",
       "jj2K744d9yVaOWglGL8KtaILoBMHo6gIVnJE3fYkgyUtJQpi4XK4ujdO6K5pqRYuk6TifldZbh3E\n",
       "552KjnCNp6I4yY2VVVL+e+fCsuKMQInesXPYoFEnY2dtHJiJF0lsLVxMccXcGwKD/3xNv8YPh4oY\n",
       "i8p+Cayav4JVTkFbDKd3m7gcNpS5Hx5h7BZq1rkpBgGnHOMH3FkX6d3kIY0q03gwAzHMGmITy08h\n",
       "0PhcSZ/KHS8U1voknUaZXtb6ysWPh/LKbW7umwzlmy5DXPr5pIcOcNzQPdsWUWOhs9Blz4aFjtKp\n",
       "kUHtNvqZRd1TVmwB27g++l4o1kmFKRUhP0tXJ/DCdX3OGXkRd+S8vpVp2chYCluqhqboIyxaIinp\n",
       "NsPYooNFwBfZrZ6ojRQ8MKZWpNyxSx/KMKjKgid0sUmFoW0unTT0zn4YX3kPLH7GGCLeQ4IodKIa\n",
       "TYj/kV+8Y65+CvIAFlAAAALOQZ5CeId/AAAEQmtvN+KSAnwpvEs4b7OnYZfHlNAAIBuw3ZNfMamd\n",
       "jSZXSMsa+liTxMmqzHlMre11Nnaa0idPzvrQZ0H2qUcy5AkNGuv3Mj2exaGHulgBGB0FrxedheNr\n",
       "kk5GK9RBjJEO78CZUt80CvvCaR3psF7gyh/8/vSmQXNw8ESo4I55e9Z6v+aNxV2aAR/2oXACCrRM\n",
       "Ok559Y1a5H3bdzbeg+CWOm5z1kiSNSxrGimT9AsOldDaUkoxfSqTFuYbo3Eu5AGqdVB+7De90LcF\n",
       "rTtbkPYP7UWSwfvb7UEdV2oaJMi+uCo1t2iUCkpK9ApAyvTSC0A1iYA/THm8oCC0FdU3oJ4BJHGN\n",
       "Ihn7zQqqzGQZFFT575GLUQoaw57SNct6eoL/8q4bL2UJRcRAJmVSIbHAVvx8H0oQ7OUuxvfrY2ND\n",
       "qGMLxE7L58bM8Q4uNAtfc2X+pxGgtlRr03+P9f+QH3OUq13iPaP+hqoOI5Hm0QpYs24vY4fh0FQy\n",
       "5FB1JSpEElcxtxIZAgyINZHvl9/AB5ZhSuFgyk7K9NnhiRdmkkkY+xbVZTphNRVZQpyN2ftNzm6M\n",
       "1KXGLRP02uWt+Lg2p7UKliKnuVExdGAzyaRQTguUC2UDivSlryugazLgZezDuAg/SwdQ+62dD4KU\n",
       "SkBBJz05J9RwuYlVveEjVAhWVKumAsAAxPkYxYxKUSD715ctatsZ+FR/NKdDBXPPfj8OPwaCqNj0\n",
       "6pKpS8f89GjrYIMjbYgCC31UiGjtDyXpVuQsedpHSJEvMaBazNIjCueNFu9dgZkoicXsa5s7pR3C\n",
       "KxmWEaFcXkmho8/69DJdo+T/2rPfzI+bzfowFslfNUDxD8Y5ePZsk9//nlLrhWaVrqyuaw6iclvK\n",
       "3PFAIfP/226aaiQQ4KAgqQWbX04O9/NopLO6wCS5jUNfbuUnDKP8xTNODcSL8oNlUAA5oQAAAE4B\n",
       "nmF0Q38AAAMDtad0AA22F39kCK7bx90ALwv9j1LAhFf00hel4Y00g3lDyhEfnSG+tXxdVPT6qN0D\n",
       "uJ3J67YSPjGh5nLAEWd2kuMAEPAAAAGxAZ5jakN/AAAGIAFNcAAhZh96AZt4xxnDvZFCVymHPUVn\n",
       "44R5k1y3LUt6HqXlf3Z8SltzC3vNqztI4IyiQwCW4KeX3rS5x/nuEyFLnLOJ44EtRfibGHrIa2iL\n",
       "C8xB4/RxLLQTzdfOx4kGB7q2R8plASc5haSPyXun+NpT87pj0y8Xuq4U5Gcqr+ftHByXH3cMk8jZ\n",
       "Xw5JTf9JBsBfpYu3TvpBHqMxyZX4lHXJaqkokPajxioR46tJGzaRA3GLrpwEyfGH996gUFEfQl0r\n",
       "4e/7GRkOGLO9hykqOdIlAgSDGS0lOLaViXyHjELQuE8snClAC1BlJhff8tkEtaU3dxDb8O6lzk27\n",
       "nH1OQU/cuwYHlHkZeVZB7gw8PhIITVSMe6wXTGDqqSfMHWn6T6pl8Tgc0CkJ9ZuzSABGmiOAvPrl\n",
       "laoYBDGEvzjBoeIRmZ4gXlOse3CQ8vNcfVsVbi/cIdJIHnujCibzJ8MlfO1GyfwMh0EGlFo5njZS\n",
       "nH7KeQRiO2zAf22VVBSwfGTxcSBpPlORMBIDgyYPBd04vEsqcN0rv3meodb2jRs0uzykEJkWJIAH\n",
       "NQAAB2NBmmZJqEFomUwU8Ef//rUqgAAAVzWPv8ABSw6369XMN3ySpoDz1IPnOCWQIdxsspR4LSks\n",
       "lXQl1YV4fSxXPcXIalnoTwYU0f/f3+XsMSj3g3czjr93MVMTxWaXq2TOjmT2Z/znFU4qVC5XKBog\n",
       "tRnOuKOygf0mwxKM+jyo1Cl8cBXIE8zmSQZXAS+Js0gLxJwdohmyjszv1CL6XyYH5r7ZjqvsWfy/\n",
       "ew1RA/r+Pm/XCO07S+/LuZ85bIOb79mglX9rRGsajAS0J1bS52yxTyq7dzBca2dPOqDK86Bc/wc3\n",
       "zQEZz9lJADTqhbK1cUL3C+POXg5OeRxnkH7fIhljH2/6APEaZiYQ5sFs27WbXXD1RM9AwTVVSjqU\n",
       "oERvb4yBxz8XE5mZl+hvZLFXiIxEqa0v3wpyJ6zBU2MDKgdyYlbOMRaY6sLhIf6oEQoDG3twXX+R\n",
       "OoO++0aSO6iaWk4zm3ag2oybaziwik86uQEVa0vlvBD4XGZO3I7KgaYAZ2rQjavOaF7aK9M+EQJS\n",
       "jID4NEnnJQXO6HWN3v0a/qdKe0eL4dDyZ8OBz1gzJUbXbLdL3bzcomKKyJvbk11UxkztYGPxCNdD\n",
       "QDW4w3bAfEJ7DuF306Or1tzcPuE51JXWkE/krgzxsN6g0iKwiXabjOqJSwk5we5I82760nL115lr\n",
       "mp4kK3p618/5rtpkKT/8uHT539rgEp6k2GH1Fec/qko5w8sy2HBjlJTAm0GUnevfnIazno+Ou+M+\n",
       "ggsYUYd0d04g5z9WAcDSKBW4anbPEKIVFALgizJPiMU0eGZ/q8ljOB/IoRWMa50o4tqZb+hpSbCI\n",
       "/YqfPzYD+TSa4Wf3Ro1erqgMkVmR4s6+vUJe4MMKVlWHg5PXidtGutNU5ThcAmpZI68mn7UfMmTl\n",
       "dU30UCgbMzEiYQlWJukst+RBHPujp6vKFYmfx55dh3Dy2klMy/bbY/+hYBGQqBtapHEjuUIdRI/j\n",
       "u2ihyHmgWnkh4cQuqenoHJsPw2Ir7MEV1ZEbiZl+q9qi/94LWavEB1txr/H+mH4GJRXtbcpk9AUE\n",
       "1EOiJpumE8M/FhtFlrtAldoBfpD86H2v3Kkbv+JbGtXnt0iWGAVDZzaBxraqrXJ8AvXXfVrSL432\n",
       "B7m9dwu9eQyRBCRl0yvBNnbx2m/TFTSPzkgVKGDsYnyr97IJVN16gbT7Ie9Bs1+Xo78HUGjtBhze\n",
       "/3FrVqDJ5fuOwyCgLzZf2e3GEIsGFUQ/Ndp13+6qgnWU+ghaLfYsMZqVm4Y4jJaWT49AAwyFZSgH\n",
       "qnaBD8E7U+dKfM9h/ul7FWexZjFp/t8VXQUCMdznYamc4RI/rKbdZA14ftoor/n/p/kicKKvn9nQ\n",
       "BCm4XTrg3fa8cxqklfTbLgEzXD4UZ4HQo9QFRkxYiK6xxpC6CXJpQuxZQ5YGXPZ95slv32/XDF65\n",
       "qA4gU/3dM4aW1Lpxxw50qIsRAFmVEF+Xp8VJmllqSoFKweYf3CY9sgvKM++yZJhvKmrc7S9F5Srm\n",
       "wqR09Z0ZOGlwAcVVcjrWr53wRicLuWfFnDCiG3ZTPzix5VCRIgviN/HT/bdt3hwscR1fgs5cs5T5\n",
       "GG984NBpy+v/RAhf2KRmuveTNDDK9SVEWdjVePH8qZD7DXz1Aqs2RyxYi9lbwBtOn/b1i/p5KgOp\n",
       "VNU0BZpAkjRzkP/PzfHE0Hy5yl8l43dMiZjqfuPIIOZv/qclULiA8HearYYJ25nSIGWCorfHmMEP\n",
       "UuxvqeDuVH44h7hyGjpXosCG4lyxLToNqsuiIbEUE0gnVM6FHjEpJcVyZ6Ww7eO3oCpT3eXkYx0S\n",
       "78/+XQugDfApiAZk6A0PDwIL32kTH4t8Ge1frG5s9iu+VgMOcpvllBmeKNVMND4dTOwRvVDvrOwq\n",
       "SY840HH9gLRVxnBIMw4+Ku4r/TCu8LjMxpdo3SsMypiEo/EGLZDnW0oM1BMX/ZPQDRsIhDe7JWiL\n",
       "Zkh8TbZhlnQn2AZFy+NhuQPu/veXuK++Oe7exp+gJZ3s3A8NaPeYdY/ra33QuV7w0jdZcXc6XOMq\n",
       "Vp2cIrccHenP5sjqUK+/U9SGwg7nlOKdqZb4ZKxiklUqGh+Qvt06GoPQLDQrPBYPcy1K2ekblZgY\n",
       "9iA/lxzk7WU8szJyVLU3gjed+ciCkrZUtu4dd98roxgM4h4Y+vuU9Y2JmPA1NpUNcA3JaOl+Yj6K\n",
       "m/EntPQVMa8psxhrDQsnMpVgVgz3G4/P2PaIeMmh4D2PPeYNSDSllCSte6hIbcuPl8YH6QsCcx0Q\n",
       "A1tdSVxZylX+y0r+NfjzY2TBAb3z5pXbQEIQUMTP6FiREZM2r00t5yzOKYDL7MR6KPvmfaOdmc4k\n",
       "CBxLw9Qh6DPSO3X+Tk/fPjLE9ALyDJcTMV8HV7WRZmmYQWr9zieEDFlJWQyxQV9VpKj1wlftNVYr\n",
       "keCCrdZsQZv3i+sQa+OTpjC6JPQayxAKL2Jc9xA/M9uXPENa6BKg/lBw7koFmMhySRKuB7IidBqy\n",
       "VybbVwtTbKYsqcowAB/hAAAAPAGehWpDfwAAAwBNYyT73dx62oV6cJlMe7ddamS2LA1D3rfGGoNA\n",
       "8Q4iQYaDzi81odgiZt/mT6Pf6ACXgQAACZJBmolJ4QpSZTAgj//+tSqAAAEYccX1ACwQt5Un7blk\n",
       "rbZEWGGg8AypXFrzJ6hSgQmAJ0NMCpODXE9HEzLxzjPPasgCSxh1wxO8WsheG+6CtKerJFHW23If\n",
       "tikwHXLdP9Hg3oRwoGcisxZQC8/mRQuMV5E7u+u5TftTnN0CEQNI1fEo/ITKx2qbREmosKMqe1yG\n",
       "kIyzUEo/eRGr89QkzTgnwos5I9enWiwoULHT08FyOFzMGNNjpTDU3hNlCwQDDco9DBtUh9d98Bz2\n",
       "wT6WSqm0ARrfyAPhmRfb80xKZ5fjAG47cR4HUpLbqo29/A9jUD4DdnUJscpbSQnS1whOfEA7FmgD\n",
       "pf++OHkrWt9AJ+BB8voxDz6wOUb3RuwFKjRUwMeQWI0oDqbSWlLXw0F+r1WUtP6Em/fpu3T/+vht\n",
       "4/+M1ZAOiJbpsIjd1/rT1/nE6mdBG478QDtjyoWGTaX5KhHuYLdf9i2bY3iUpNZ7xpHcopMEjyyJ\n",
       "fSbmkKT4GQbK1Ji0hARoPAHpw6+YL5hcsV7sSGS6kR15JDt53k9E9jxts0qKXWv30k6OT2zhk0r7\n",
       "cLW9NSGqhKce0Eup6YZ8QlSWhuHho0LT93EIM+idw7/sSBdTeBW4tmNbquqZs5hQcRSpUz/l19rV\n",
       "vMD7P4AZIluT+2fe6yTxTs5ilcfmQHJ0boktuUUgcLKKoif0vbx/aYhMcW9JMlvVLCxTcm77tsAF\n",
       "VS5bZWCFrO3mllr9XGj/bcz5b0KvfY/ejj910kfB2rAp2nBWK3ZuB/CtpP2JXvBKdrLB8yaTzoFQ\n",
       "291mw1+R89UK5V9G0uNrg8TXlgAmBXG7Ya4Hs3C8TbB6QIR92paCZrUnN1XX64r0HDMYqK7yLnZM\n",
       "TcRA4EdkB0WQ7scHCbgf5x4lpPq2GDkyoZJI9W/JaaWxNSSMl6tNKerZUTpfQfwn3fCh9ikJN3Nf\n",
       "SpSwZ4BLnJzq3sClTvZiP1LUzrn30oAj5Fw/y1XqfDJnJilVaybBKebznzjdxhOwL8gWi/nbepgs\n",
       "flTXTtpldRTwlYOxbd9DCV5miy1ydS5IUcQyePgPlsOCea0wVmc88U+zmnPf5YVypY6oD1DUMttQ\n",
       "cdBQy6qewOdVd4zbaLCCiTxbLIayJUyeksmomUTKGv1xybcnUDybGU73OV54N0QGyN2lyNYoXSSJ\n",
       "uGVhGVlVdwGYB2xwRqB5oYZS565oPPK/tnkZVHY4ExFSfuzFjJwF74Y8xTfHDfmc/iS3sEEfOuQc\n",
       "LzRHh2C+NAQ3ZexJK5YEMC8BnoHP6Y2S0YGNmKJ9pfzRnLw7z3GKax4RU3bODwoKag80aweYzKEM\n",
       "bCdtycaWIuzUxdFalcFcoIpYSwkV3EAPQdQjfUxK3RfxGOTHqqbHbNXq3alSWYCRTeW6ZuMBORmj\n",
       "GouYV1L7v3rGWLJ6l88uZPKjop0QJGzE932dgv75gjPEB3gmHGhHgulDpNWdRX4WSvy5kPsZD6qJ\n",
       "xoifWGcPie+jBizSChWbAT981I3qDly3Rm43pf/B4pDOXuPk8zD3fw1nOY+J++cFLBeRoBnehmWa\n",
       "BmVAtiuwcHIZ7HhClRkB7XVY25EphS9Dqsgmvy/RyvuJbFz2/qbfH4dNTO+DYsSXy8ipsndzEZTM\n",
       "vDIed3DlHnjj/mVWb39q28lXDR1tgfK/W9C1l5hrpX7I72GSp1aSQyYXNqv/94CNCGOYX3tNj39F\n",
       "fePE7WaPPOvspfkOmenh5oClrPEWwy8bTOp81/ghs9+r7VtCui0RF6pAkEYV874VDmfn6RR92Y1W\n",
       "42MY1PKy9J+70NLy65xMljwAEE447hHZ0AAUV/4k+BLjbeEB3S0xmzT0mt3yQG5D9+N+aGfLD9Fy\n",
       "gEolaBX6fucMxuc20mHuR9/nT5hmA1kzZ6mibgAsJTt2wUyQpd8qWt4YTyYQT/+cLC5KlHYs3T8Q\n",
       "IncgQiubi+p6qpQ6m0G/zMofkj4HhX4V78qIiH/ktqaALgBKxxUIwL4Iz/ACGKq5Yg5x3hgZz/ZB\n",
       "qch5bHeWCDwCeTlWaELtUzGclU++qeWK2u7zXZ/FhvXUOkL+VbSEBFjglYtLlp0nuBc+J/iMuqv8\n",
       "iU+2LA7PTIbTFkfQwMYfU98o15Cyxfc11oJp6zT/MijqTfR3BW3YiBPWa+SXbAF631JnT/Lkyo1S\n",
       "c9Y4q7wVwoUcJjLslOLA1qrL5mXM9BvSCstGlZ0Fe8D8uLijszypwSSLINgZJXt1M9y98RgeGgAv\n",
       "3BPLuhS/LiUtZ83fNSvHVv+bUAv5ZmrPd8tbghVwN3ztVdDTe1ISTX7/0DBd6yN4mJZVcdhHdiTj\n",
       "egPXI57nxL65DDZ1JkVQ2JDpbcgpc1fN/Yy5z1UFMs+Mm8dmEhItdzyFQ0toFG4JgfA25VG/b3V8\n",
       "cCQZKNGVMfZNqQHKzYqmDP+8LV2qfRB8eSacbGV1ubgRszRgqZgiuY0UIeOT+Mxf3QiJ1FzQLwNe\n",
       "pnIBlclydg8pDoFVucRXgN3dDdTm0SEwVHU8GqptVHIA/nuTCosz9H6AcNTvIx2fTVsClsugOBaR\n",
       "KOFdINzSoE/R+Oa4ac0GtVthaN2qYUux6Rx01YDuoa45zQ97rWn68nfEJYtOQmMeiJHuMbdTeHEs\n",
       "PF1awjlDvtus2l/2vavdSB1W7uEDuohwqffmBfQpKmXgXjTOrg72ESfqxu1iAcoqmWHOSfQjqvpj\n",
       "7pZD7m5qwZTLFfSq1UVfyPibhvZZYGuK0zeyVpeJ/Gazl/yFusw8At1wwcJsKHF8BUSWZskjz5gc\n",
       "doMDOjigm9daxI5Nk/IOMcrOHBjsmfBT7pow8hfba5IQnkKqwzu+QcnIXscrqS/XRfpIHn2VPRnX\n",
       "vWGLofvXno8qHxuCW6dtjJGGxfCbTnd7aZ3J0AuaftAEXOshTfXngu0ogVdeijHuhkln4rdhI65v\n",
       "lxZUeLvOfgY8jjs1M06ZNG3ODVYTYFjd0YIyWh3VbBx2Q2Gm2hJYf/bXaxrvg2m1y4rtUV7L+Pze\n",
       "bR/58jm8UGw3Tw7MmwxxeO1J3tloXZpDBtMXwvFaJ5J2adMenA9fwvLVC+UxSJ0YlcFXWq8IQiGC\n",
       "uJRpI5rBUGMoMIOuzonMjbdmCNmwzkjEuax0vdr6uvpEFvM/jYiJ/HD2vIm2OT/MA/w9lZiLRZ7R\n",
       "Pdp4vJ4rrWDkJjErslNozT967IcR+NXU0j4lGtdRmeza5F3mbUKCcG/4NDYD1DsV4Zu8tvW+4Q8n\n",
       "DfYA+UOEtbpwKp6xy41uGlaRJsT7SAAPSQAAAURBnqdFNEw3/wAAAwDJF2M70VTZz4WzEaEYyTqD\n",
       "foEuzd6yPs2dd2KhRgBbU7m3zi0AAA5iuT5kajLnmnwLHujlN4i3nDPmVD1fOZ7ShYOupR2+s/Os\n",
       "qmWydftFp2tMD+sZj11zRp8ELSI0EVjc5AyIlITPIHlVNMZtl9pby5nczS4rnoRPm4Q5+CM4ACyQ\n",
       "KTBZHupIheEVeek00yBvoe5PMcQTBnGihL11Gzfp3RdvC4H80MtXL7577tW7pUHMKiZTVZrPzeVw\n",
       "dvkg0HZijIJ/fZYpZWgyN5WD7bhudLgFgXJDFhCA2wm8qlB5dhUWc6Y7wMltafcvq2SBDyM7eP/T\n",
       "bfvcqNJZ8p82ckVdx5JaAMwx0eTlql4VUfYvObbG8cELta3Jx3uDlmfJevw6zqKgaDszXsDlmLkU\n",
       "9UBMH5H4qLQABAwAAADTAZ7IakN/AAADAM4AKGs6DBNDJwpTf27WsDIgAD8tlQg2xaYzGhGnodQE\n",
       "1HwCG5UaVDPYNAC1frJpTRxeTrAvWr1kda5YglIT0BvTttvJDeF2flUSumMHeO9XIARjOJMsm2uY\n",
       "3j5X5xc0FjjMVJHolIVb4OAhVlA6SQGedvxJMFMaEEfa+iJtUQATmkUvFxsrgc2huc3VYwaVCDkS\n",
       "8NRIRYo3q/iyEmwQUY7njm7jQOgEMlFtDXoSaTsWKubneFKQPezFnRzj4rroym7iHntSuwAS8AAA\n",
       "DJ1Bms1JqEFomUwIIf/+qlUAAAMCMIXKADdBwXvmXIYPGISj9sdlMvY6LNzbU1omTtUp9GWfV5JE\n",
       "XtjG6f/T6OfcltuPjVPQAz/MeAgNdu8nEk+lz9m6D/S3Ut6WCcaXx9MtG+0K5gta9GCQbE1icYGw\n",
       "ObEwNaMW5qynZxqsr1GkqRr1iQVhDR2ZV5dqaTxgQw+gIrAEt3vxLgOqVc/EP8euW+XNhclYS/tN\n",
       "BlISb/boo+/9S4+F4SLUF/bKVdL4IPDXqHO7twlP3Ra6WMQTSrNVn/3DfjGkwGpLPEhYsFsFkzU+\n",
       "GevYPME6rRbDuH+qzEP56hf5CGl8SftDWUR0xH+VJA7tPfZxy6RYhwXr48LyT9miY6LMH/okQO3l\n",
       "Ddrs4ZOvAHEeqiO8uQqetqPRk/qvOWzjjIKy2xQqogkwjgpCfHUUhbJMKRMMcJ038ZyFaIbXtuF3\n",
       "y34REmvgiYE1Y/0ytWzdh6YHfpydYZkIS53kC0l5kpdkSnNEyB6PmsUkdVgcOcOuNvN72Gdh4z4e\n",
       "HeK1PJvG8YXJFp3Xi+Ouf14GKG8R/Zlut/C46qw/+Ya6SmxDzprW1o5Ghjo6hkf2fiEujmO8gsml\n",
       "0KOroGQYTcy5BGB5vzkjC+GpWkbXqkFDKvcBXiHRyt4RAATcgGosVAiqzOVzAaABdPI2RyUL+Byy\n",
       "vd6vVNqnnBbBhZ3QeefxZ8MVrOp9ld490VMplLf7CcljT3TmGpHneLm99oM6wgl5j6WqCboNTymT\n",
       "YtT95vxDSgNQ0VZ0UdDG2M75k+7PtuJsRuFPQ3e5uYQN61XFLGbeyPCH+J94Qdz9pR7fpqOtWhwQ\n",
       "59GfTVKAhuqKPxBq5Fp9d92UvYOPZ9pfO7md7n3EF1F0JHvtVXWQD/cWIIx5gl+lc4MZBvHPPyFZ\n",
       "Mt7wGtfyf+88Z0/hqOG0vL78oXHdL47ZwwfjdG+altErdIGl/rgfYGGXug7lD+uWXtipP4wAj2+L\n",
       "8wObEPLcybFCcBza3DTwA/fLNkTw46IDkh274pM3ckn+chfGJcSLx96Td9eFKLZSe0vxpS2+NcGC\n",
       "iKZynFRL3BVsc/NBAkHV777fbAEvnflBjMKdsSZxdKXJjwEKLGWUyl2208hvASDPV6XFrc7VrD59\n",
       "O5sFwDPKDvg5Ts6YVroKlLPOSawaCMLBhcn2SIUk1bBL5Us8a2HKplckDb7762QDEJ0XZEhlQztO\n",
       "MP62b19yGhkoGwLz0YTh/YhgQSCSCf8GHjdWzCTy/jtX09n0ieIqvNr8STYN6u0m8GGvTvPwTclv\n",
       "v0Sn3biIunHWeHntMuv2TFpskl9ONGmHO4By6iUKub6FF+BRQonf44tjbO28r/L0CUoYJoZdjqin\n",
       "5s/fFQ8gqRRb+a8TTi1ip+fO4Z/0IWWYlJ08Sy4w/v9D3BVlO+IzOaQV2hxhEDsSR0VhNFV5TfYy\n",
       "dd0hbso3i/d/VLEI65t675jd0lJbMy410ruUVy/whvTouKNrdcZUftSn06GH7oCEhQ1VLuCMvx6L\n",
       "oBC90r6Gn1GtdNkAPJ1hq6zJw0hdCl5GOJtDOzzBOUFBEa9Wz3CTHx9SRkcENUa7PIwHSfn2/8le\n",
       "RrKIMF1DAKsv/m7Kf7WI6MJGmfO8cY6YC52q0PQdNb5DD6mfjLuJLvhZPiZzlAbGY3n9mOWgMPHp\n",
       "2WX97ZRxrIoVHBJb/vlonSWV17Cm485/rQtUX3jA+KhClUM5NtEgIfFl2n1qe1QEn/boVc5hmW49\n",
       "ajxttbdw0CJq99UhM76pciZLMbMvLvv1l8j0/nkBvIr7ITsTm1E99Kv6k/1Ir2kyficfAajAWFdi\n",
       "pIAiTM9jnXtIQRlXnXjXzf7jhV1sxUfDLzcSOCbEaYqxtlLRd+n6Bsq7MabCQsSLSGv0cwwHOmx3\n",
       "gwJC4qyRnyQY9Jb2VW5HNuzdObP/V5NwWOcPkyjpLCz9P3wutHAy/JYU9/wm2ywdx2mK2rOESnIN\n",
       "wJ5umMPe7gUrLuBDds+xhMdHT5FYOm30FH6IN4lZifFg2qFgLnc0HVyEzikvmFg30QZ6UEDgwj34\n",
       "gCkEYZlr9Mf+AGz/DPoJEI6jgHWpRR38J06ca8nDxfynuXrasz22FP4WiZ0R2bTin1T5wMdGGgzp\n",
       "QRO62IO0bMkF4nLKYzxKQHEhjgzz0PqqlHScwCIbO3t6zVU6woNlc45cXqi3KHLzA+6kf44LzwHD\n",
       "2Q7+wtdQUML88y6DoI90de0zYcuYGKaoeYJsb004OijvnXsSpfBBoxG83W10vSOs6lY6f9FX0vhO\n",
       "fjTndybrzPOtGUgrzrKQEZfBbNWDItzBjOIvDwKZjYdBmNJP9YN4uMa0Ej/LJA169uJw89xt/MW9\n",
       "gQG9ycmuZOaL8mdpTxVwgtv4Kdx001qaMHEDpyQROhLjSDg3LHJzGlH6YFpwtUYXoXfXgJIIoZUh\n",
       "/Dv4cATG/5MXBMBkQiTssMe3kiQyZxx3t7JaAH/7WjxCE6a12jfGpA4/zigJs15BzlTed5/ATeGM\n",
       "pJ6WvuRdHkvLFvgmvLH3VdJQW1jN2TnIsf/RnRh/ZRlmmSm8PZqth8dYjlfdJ8T/MAhEh8+T3LBa\n",
       "oT33C27UV7banuH4U60rRA2ecLqh8pnmfa+4lZ5wZ8Runs6DPp+OGM3zEITt+eyrvVv8YqeogxV0\n",
       "3s100RwKM0fCMsNsclloEew3lDgMld0cWa+FYjKttF13a4stkRLLGpTVsYE+c4nqA8TLOT8rFMuY\n",
       "ZLeyihX6C5NetVrkHqWonugSYxFP8GLix22po7uvaxQ3dB5Lq5rvcYxmJjN5tWf4l6GH9J3tqbma\n",
       "+eHkRtmIBVst2n0Bqvh2ETt8jMOZy3o7eyzWyVIs09BOeaqRShA1AgtMyLCUscQiAlBIiSBquqVy\n",
       "g6kqHxJmora7Y5zHmxGLVZ6OnCmQgvSwgZ4xDwktCF9B22v9nrSr8sjWmYnxywH/cDwSzvi702Yy\n",
       "qw2O9zqAZ/QcgV5nsleEOdnTYkaB9M6b3UdmAIKEGCDd+QNdZUu7uCBIFyEl7WsGC6Q2xPfaGshw\n",
       "PjdS3oYvAQL2Yt2N/XY4ICazoP/KW0qNf7hwvMNlXOFOjYDUkx2MK4Ao4nm62TuS0fcgdPWDGAkD\n",
       "GKa2djHh2h0j/aop7xzr5Vol4/1+5H+5W3iatTlH44QuV3OT/s2lToRbkB5Kr3zxJIr9j7nN1q6c\n",
       "R8IDHFes15ysoIWK4fr0I5lmgQIWghaU8mpXifKIj+aQhtNMwrkeMaQvHBJ0QslzKnJijIfKcCVU\n",
       "0KKT738VUFL15AU1k+qaIJtNyrnhMGUTkJGctTxtdTXJKQZ+RvvGpctNEcQbJWIojnholZ5PWpMD\n",
       "pot7ACJhd9G3yQFYolnp8mvCXhLg0O3bVA9XWFzj8VP6TdqjLI1gAYkiD/OLABEGutUBoMf0vaDg\n",
       "y3fgXSOvkrFgbTVcahebIZ9ghkNBcvvG7nMVpPhNEWM+VQ26mjVwKZzt4zDYxfeHMwSipYwRPAQN\n",
       "uYUpbIdp7gRYFzadXkJl5LTej/J5EZxfed5ttWvWwhhqVdC8HuIlpnnwTfheyaPdsyOpVOVbetZE\n",
       "YL14STG/7M9M7sJkWMZtZVOK/Ji8uHZT1veh2oLTwohWJQkygog9dx+j7SlcBO1G6HjzavtM97kn\n",
       "dQQ+p+J6PnzRxps5S1vBIC+dDNSDj6pEpmQW9tkUj35USO8Q95qSIr6jCQrat+LyTw/KVQiubD59\n",
       "UraNwZ1EbG0G+AQITq8sqhFQUGEpYjEv4x6ngwjL7n/+m8ZvlP2pzlJlYeDt6y4/kAIZD1PyalJX\n",
       "MAipGEjXMzXAEXCXY1hJMFU06y9VX8dCmiq6R0z+3DGZQ2f6vqT8WCrfw1XUetMxXBnGgWW8nkzH\n",
       "os2erXQAknVMqfIM/Mhl6nhMeBhB3/0wVS5pFqdsRqP0WXESPwnUeu/+OL4NhBmLJGzlOz8GJ6a9\n",
       "1W/S7Vw5+ZkWj7Lyg7yxLj3WjJFtnZqdqtlrTIcvzgXqQ3YRjh//ss9pdnsLYz0071i7OmFgJYuw\n",
       "hReM/+uYQU95Xia5AhI6ek7LBJR8Rb4JrCT4pwQ/Wy1fwioHxdgxYldTDfF/WPKA3bEHGe7W4cd6\n",
       "hLReqFR3S9J8N46ckYvAJ0aPqHX+eGwicLARO/S/RW5xG4GUh6Yb+0nZURNUWZaXDJ39sHA3cvmd\n",
       "+6d7QAtzfpgCY3jFJPgFpGn6Z6bCwT4DlN6EjKHEI04/VKe+sQN7Aj1JH1ajUUcsbrAPeEAQ20dN\n",
       "PIT/y5E35gyJcGvF5frRTwop+Fkme97l1omr1piIBaf/izdEgAGfAAABxEGe60URLDv/AAAEQck2\n",
       "Xf6p4xu5bP/qjAZbLwDAAABWj+eN55QQT8QBC/Yep53BrmjdApZiiatexj9ty+QRhD7RwzhlX8nR\n",
       "t9IfySsG+UIbWZf8o5ZHW8JrVshkJekAsFhWB1Sb7NxJQBaFMxasOxxoDQJnqNuYyDmrsaFW+eGL\n",
       "56tDzHwtzwcpr1pFNFDHjRHNVEcQ6H8Kb4891PfMI3EhzwhxrPCwwsdm68hQV97XN1LO/94+Upvf\n",
       "FxC4YwLnRT/syLGFEm67dgw9A0WghFBhgRMJsHBcVJowijqnRDAfn6p43gfJU07pccththFzupNi\n",
       "Xto9tzl/owPUEhK5ewDuF0P+wyHDZsQmleYqF1+OUxbNlzJo+/9V0d3EDg+bgqwp8IPrGC6NjZdO\n",
       "jTqukJy4CtopRCHnlbUI6Ol6e0ZeLPOYFvmeV2xMRahMwjFPnWHOZBFow8r0lHqoEKOOcykYW5qK\n",
       "qRjCxFgZ4BhzCvWEdIuD6MXdeORBUDLlyROZsQuZyQDttNeQGnp4OgkZVYu/2n1kagsKpwm7vtEj\n",
       "ssua4JPcz9wiXda2P5c/7v7/W/7ouo3/gu/Jbp5HG328m4hswA+YAAABQAGfCnRDfwAABfkJmp66\n",
       "d4CioW+Ye04KE1EAAAMAcWLOwuIZQIPNHxmkS8eQFn/SK4UdedFr3wAXANI9aPl3Q2RRdWPeEitF\n",
       "8i/w/ViMUN8IWFraYyCx5UWnS4QEQKSCngtBZ97ukaIrLfyMc8D5HNR9XBoQG/Y12Ry4gQasYXV4\n",
       "nZ31qBfHKAfl8Dd9uPo/lZA2qp+GAIufmVQln5t9apZwmWU5gZI9AzNVMnefsYNdCZRzRS5CjxiQ\n",
       "6Dhyk0tKbjJ3udYpmohJyh8ZK1KLNW72ps/UZgJx0ws4MJoJNagtn+GH/T1TrCTTxKRBSYNXUcxI\n",
       "pNLQebr0QY1/B/TTzVnHrc/x9Pq+StywGMrhYVdKqxzG3Vvqa5siWNFMupEpn9bNjXGVIkLuoFzp\n",
       "d74fyO0fF1GXz07JfSGA/77xQATcAAAA1gGfDGpDfwAAAwCO17E4hVstRp0hhv1I446IwMOWrZpi\n",
       "J1tnzIAcXGmktVhn0OROc1d6RsNdItmANdrcD7PBqoAGhLjgSNOTGQQR5JsZ4HgtqThUeGxZc3cv\n",
       "oh42pF3Guj3pN1iiaRhCSdj20UET1x+gR8bK8YaUZOSeCaJzzqA46ru7r97Ple6fuIWqy3SoZ7gq\n",
       "HvmXeH5RqjSqXaBwTYD41jtVUp+Q/MLUrvtd6O42h7Ie1dSfY4URbUEW8wPjCnJZK5OTOgVOfpxN\n",
       "un8+KFeNEcQAGLEAAAi8QZsQSahBbJlMCH///qmWAAAIggqtQAkMc0fDPvHxEgwhLoJEyg4tf0Rv\n",
       "K7H21Vwe4C5TaCTAIdbjuLsWqB8ABYmPnYXvb8YWpRVOFOeC9gkduRu0v3a/GkRgw3LDw5Z4N+W4\n",
       "ah8DSvpgLsMYquYnqfDYLo3XUBQgF4g+yxmjcV65nl0NgXNbaWJKyErM5MpFMMJtW8rc0oQIhq5z\n",
       "5gz8cgrNtXmCBcZzAMEmVvdLH5YIMlLLtgWwEh4s5ro1M8EAyIPjMUoAjmpIQ103xGngOilI1kEj\n",
       "oGC3D9/9vTmmz53FtSaD2Zsj/T3SEkXiscRKUzuNo54DOFMbagWgcFerbpGIckfsYZ1sjNQMYLC/\n",
       "kHlB6UAPxBbRKKgUvbTU/EUqABuQMx/TpubaPc4yoKSBeIpxFQABs292gnroGyPf69WqFN8cQ2/B\n",
       "MB/84k2YfB6gXH2bUBZhMdmBLpOHrG3mI28LwD8MuEyfujrgK3XCN2LQc57mwVrU8RvBYHs6zsx7\n",
       "73JnMW0K0H/vzzrbyoO4iablnO4rlU2Bm82ymM97d/SpsI7WNha7Y3iqxVyHSya2Opbu1kQWSCIv\n",
       "eq4rT7VEPH2hdC5534MtgthHac+u0kepKCqfzKoOhHYr86fiuVvFGroRQE1Amh4tPuE7doBUvVbQ\n",
       "FgXyS+3UIx4QRZHHqWDrRJjT5NHdmQDtFoTPWxACLPlxoEbg4HOEPix0lYxs4t15aP7wY+JN6buu\n",
       "aghZ7Bz9WWMn3J3xcg9XpugglRNnwucFL6C+U/7JbiNEUWzXvCLYbuoyZxsl3d8L/91rLFQ4HlO0\n",
       "jbqOmMkBqmr03kyIcW4s+/REUhy8D9WEz8pV4Y5qvmryxY37UJdoTWPNzls3X7uPWRtmhf/fBdod\n",
       "Rr6l9FB2TujGeZdU7h60LgW77x/EkS5x5nIafS69XaggYN2uKaSj2glW5quOLRQGirTmz5Ef3yq4\n",
       "hXx8NpY7zTd4tNr3a2Va8BESST0f9ucL8F/IjAiG8GRsIIKzuQBSxo1+PF0QirG0En1l8lKCK1wA\n",
       "mJ86p93iOC56HsUJzSGhCbkeJL5DXXR+56wT43LnW3vin8KpFqTaAxLN4QZedvsCoFW6tepegc9j\n",
       "hdUSxDDrPB+0lPJznMd+mzTWqTYizEI3S4YgITJuxS8dsHZ9Qj+ImPNcXB8jGHXAjRHBsN8c+tSi\n",
       "M6W6glYiSSGuuBBWv5KIsL4u2yGi3PTOvpHPIGbpW6G1Gh4ONZi1Hzf77cb0CrBh23ORxsx88EH5\n",
       "jzWxTbP4LBp6Shl1FRBioLBRfE8n4TpaQ7V0UsTEHMNj5xxIgosLJI1IXp6fFN5Wx098dCxWbBvj\n",
       "5dAtqWNBhdyJhYL47rRsuAdounvQRX/7H8c6Xia/3/9xhI2EbnbRuxkQt3tz18SAEINexu3qgyUY\n",
       "7yORTR5JwjNjOB3Ok5R/IDhy7aJXZB6sEWZUYWllHZgbo2/LD8E8TX03cl8PeH01Rlt3OdZ+2J0l\n",
       "cE09NP9LeFSejZN5ltUGxhXa8OUrCO0RFUxs1Ig6n94SsE0c//xDhHamiLY+2hSFt/hzIA07kiWj\n",
       "warmhV2n589TD8EEf3tdYMr9lz7p4Nw1wXmQhzvDo36FL8XvQ34u4tThA1lxG9AVxstfSKNkYQXX\n",
       "MrJF64A7+GaaUiMLsI0TRmyjDxUTivdODm141XqclDhk8Caxpm6Ijw/+1jy7WIpnwlt8KYukIbQU\n",
       "5yo+arnU0ynk0dAq6xuE8qrHi/ez8ETTTXeqRZBnBV0dH7B0UiYsLoMen38kVZnr+ufcwdBviR0F\n",
       "MPjaGtRWZKoxzuPCen5Pj6UP2loydsdJoBYQMuYqDKe4T9qh0glH7vdoHMubiQP2mJjCW76yxyUj\n",
       "8NtOCxG88KoJS22T5boMIDAMxNYK7k2KBJxiCKhfKERltVy7yy1nGY098zgjCaD5ECGFNbq4uVPF\n",
       "Ehwua8vR2wfJMP4mPJJWvsTaJY82DjTQqJ0PHLAh9SRhoXqm+l/o3ER3/LtJ9MRTv/Kplho1qvkv\n",
       "58diZ+GXDTn5RPwsqjmQdT8qvR5doQL0kOqBPr9YWj04a2k023/8xldA04l9hxQfH1OBH9kZQQkK\n",
       "UpmRKDpVZezCLooNvbfpgkLoS3/oG0yMYYN8Q2BOmH8VSSn/j6OJ7fIex0TPy/dAoxqXyPMW4iBN\n",
       "dlbjsQ/REFNKO/ptWl0JFyq0G3n+YQZ/sruwi6aKw1iH/Mv4d1ymOoHKMTlL4SfSkPa+uTYHTzia\n",
       "+4p1Sslxaf+T6lmgxp6u0XdV+Ely2GdMY+KXIlGV7XsDZYcjJ+7f94VTbNngn+pWALtz4Pd2rJ8I\n",
       "y1V0AbzpUhICVyGPMj14XhqMEjT3hlh/lWyGqB7zoai1xFOyomWTIPv6rvkEalKVW1RjUdc1fUF5\n",
       "41rz2FIMk2wUXN/y97GpPvEguchJUaC4Epu2ga5MKpAFP7P6yo/9pNq4bVNgjd4ci7nDxDtUO8v3\n",
       "GqF+1u1pvvXaygzhy4JwzeUzXMGVG0AAgBHa3LZmIlNZWMM1AKINMaALimJpATHqNl4OFBqCy/CM\n",
       "IOE/oI7a5eh7rOuLl2A7l2YcuYcghhuTgPAd3aMw0zWu9MQ+1FchURlJiaZS2mBFgHqTp7yXqMSU\n",
       "aiha7Uqx3kvzUECnjn3COJA+LiS686WOwq6qeWxdcJ6Tg5gKnwaih3cOMROIOLhDUbNLUwx/Ak++\n",
       "NJpS1v6V1HqpW63Em72zdL4sXHaNwsxFLddrVs4epAYq94StB8WtZLOh0PVkwouUZYBr1BbmGZH1\n",
       "ZdBi2c7LEibGrtwaUnL7oudv+fAm6iE6JF17KfFpQhVQwheXn6siYiXOnluYY0jVuZcoefskcROq\n",
       "web60yoTH8isETMldZn08b+kGWOf66Rhthi3ILrwVnn+jfxJIcmQrDCYMRsP2FuI6l2qJD2DOZE2\n",
       "ZKxof74JKzCYFcY0gBQVjr87JWvXBTJVIAAN6QAAAbxBny5FFSw3/wAAAwJrJRcAAmvGpI/bzHAH\n",
       "6GzX9NlVxyMJacq9K1Ok31rTlCYjnOStm6xKSyTJoNwe2PP31n6odE/lSQ/aydQaqCT3Jj5vMH4h\n",
       "b2jVWj346iS+NMTfn8adhR/ZKXWiY41uoxx9+5K+Qm86ZI/i/Mt2IJAEivhf2/0ZQa4YunEvFbqg\n",
       "IaMrjn88mI/Sxj4sVOeca2UZPvXiDn66/Bp9si+q4g4eUpO5biAGejWvUe2B+5bwtxlP6hufpUvN\n",
       "1ku+rVXoTRf/mo0EoJaxr+vCcCeLPrVEFW3pkIYLD/1GkjgNWN6h3RoyTPoD3KSNvcFWU86THVWL\n",
       "zjJRgLxZnpUalyel5Jk9DgOyi1yK/EMOw8KdlfSyn4JBSs0GDlvpPtyzvs2ShS0FXX7xIiM1i8xT\n",
       "gmQPzZq8OtbqKjYYYeisxvh8cLBj0GQ7JzSh/Pxw5ArHPRsO8FOqcROUTLYS53+eJkYXJ6ViN150\n",
       "VI9Vxo4HvrN4My8YQ89UJDkvfPr4OSM7XNXuiUnbVJHsawhcdl1OYT8Dcc2ASXOSnwldo/myGq7o\n",
       "tJveKmzwscsB+BWYpcMhGk0AEHEAAAEGAZ9PakN/AAAN0XZBGPEOWn7tY2FAOpa2V5gAABz53es0\n",
       "pu9wPbcC9IABq1cueL/xtyfjTef72AOnD1tV5etVyKj7GQ5E52cYAM5ql2FcXGp2f1WwxnX/5oi0\n",
       "9IrMLzofFD6F1MNZILdU+aK6o9BoskM8mQFoJzt1Swec4mKxtLdFHl7cvuNb0D+5srATOdCKKTVX\n",
       "Zn6qSqJsUpEX3JlKP3CbZ6GMvpGGCPgd4/Kd0ZP6Hee/nybZ1Q+RwenSp1i0GOWz/+GQp5JWzmF0\n",
       "W4fBnPpek1Bd4jWowY6gEhZf5ZiXV7jZwXC6jKbz8B/9sblAPQB2O69Xlqmqws3COn+z6Zf+4ACL\n",
       "gAAAA+RBm1NJqEFsmUwIb//+p4QAACLfI2FqK35gBBnEMLosmPnW42Oe322P9tzrMeT7L0PEot+t\n",
       "+hmkJETQeNpvQ4xc9Yd+tfBPtbVISNtbzY9VLM/1tM0cFBDi9VVeLMoYR2CendZSYwUfqAop0XZI\n",
       "gJFGDEF6I5A3kZ08eP9IdORtb9/s4CDGaxn163IRR5/AROT1SwdSXGnFXbnSVHFwVkpRH/obS1yx\n",
       "zUH+6b28546cBiH4nME4wH0jZhbDY8jTUrXUey0jIu1Xh+q/bhbOInfy1fGrhufhYeB8p+HVGej5\n",
       "bKAl+HMT5yHkIITKATZ7UKeDqhNogkAVqhcyZ9OD3knnK8jOsmnt0Pm1kUwSckgaiUvtp25iT6+S\n",
       "tEUBsisdfID61GMTRuugCtwMi3tjPtj55yZr0j/Zss3E9Cjce2pWbcatFHAvRFxXeJ4TVj0cVMtj\n",
       "yc1562Rf734SxFt/fqa3NjATrP4wHiU/rOUSsJwcV7AK6DnvPwwpEahrhhtpscOcCGSEWiPHam6H\n",
       "SpkjbYlKsVtr5v0L9DOwFiX2JfAN/b6GtK3tP62HZyjsZ6Z9j30FrPPvReYoWNN2d4gb141A7TSh\n",
       "j8+ixnGqj2wvICQ1Gwyy08lrUnQrTa4DEPX0CtEhsWgTnA9SXEWIGqSjGfdcmbzxhlqoQu1ZERBp\n",
       "0zsJKqR2BCYrt7b+7h1C43xptlVIw0dFkDzTn3S435O4RZi+qPi2SyS9CE65cdFvff9vwwBVDB18\n",
       "MmBoVkNTkwBe4mUwUpFbJYaDkqYJm/gICbx6uimfnYDmxLgSkkQSgLI14cyavxSs6CX7MrBLWgb6\n",
       "VCgW4qezegSuX3pjXBvhBVp0SIvN0pCUVQnVB5MFN9oomPkWTlOV3BXNtVzaoOCEwl2GLmR1i4vv\n",
       "FXoyDJnLsj+M6sZk/Ubf7irhuwedhWA80uEGMcYBVFc4oqwbf1rqMrY5zSergjTO0Ob4+5pQ96+f\n",
       "aUbJGK4mQMEyQGgeU2hNWnSSZIgyn3q00yMV4eWGdd+U7Cw4C9pnCeDpARWCE6Cd2AxwWl/KIHd/\n",
       "PRKwgCivZZkCsOEXB9+TLFhIHXY+XXqXZeT5wIVi0eU4DbreAuTSPFE5SIdCWYNIFFGOmt+sRlkc\n",
       "gT3/XCUOQKvav9R7Dv22eZYzn6R9CGwphnjj4AKtXgdrGZN0tUL/pwJD/Gs3rcoCRVAB5L9oOwCK\n",
       "x4YcHC/g0b0NSeIBus7qssGye+Op8GpwRPjzhgTt4FxIm+zZdDKYPxvds1JPb6kgfZV5Kgvc1CuG\n",
       "UtOhfR4OBl6o2sZRcuqc2fYTgkeszgqiooKRzXqACTgAAAEoQZ9xRRUsN/8AAA3Smlytx2swPSgA\n",
       "CZ66Xe9m70i8ctxcIQ5O0+6Wgii7dP5JuNy2xzioDpVgaQCmgEfQXztpc+ZemuED1mfCZUXoIznu\n",
       "Pe20dmTE1U7DqHU/z5og/wtVEr7Rzz9QgGxf0o3d6Zrsd696WQ4xflvxxMWyN594dhF6v+xrlLg6\n",
       "Qy1QDhdmzcrmBn8heeJgZjXIgJX3v6jZhY4trqnL/YvGO4lwlKtVEdAP+B8rk4dy7jxxcd/NA712\n",
       "ArRp9rqPzDsgA5yZeepNrwajT7km7TWpzVvcPDohgu9rKYaTCAaEROAYt/spFMwXFRZGSibo8Uuc\n",
       "u3n8vFcctRCQ/HGrUPcSzsDU84ETBnYdV7rV3J05jszZr0w52zCcGnFABEpACdkAAAB3AZ+SakN/\n",
       "AAAOgpTWS8wEgpdW2V1GdOxYMoN2WxLNPXybitOu9AALKTQY+rUSlKfDQQj5u+fiZgBld4TVlupQ\n",
       "3c+pcSsyMQeg2KYXl+1ZpOswg1+p1Xgq2VRwJpr36ybM3yj+iO61pH6C4WaDXuPGvBUColYAAWUA\n",
       "AAQKbW9vdgAAAGxtdmhkAAAAAAAAAAAAAAAAAAAD6AAAB9AAAQAAAQAAAAAAAAAAAAAAAAEAAAAA\n",
       "AAAAAAAAAAAAAAABAAAAAAAAAAAAAAAAAABAAAAAAAAAAAAAAAAAAAAAAAAAAAAAAAAAAAAAAAAA\n",
       "AgAAAzR0cmFrAAAAXHRraGQAAAADAAAAAAAAAAAAAAABAAAAAAAAB9AAAAAAAAAAAAAAAAAAAAAA\n",
       "AAEAAAAAAAAAAAAAAAAAAAABAAAAAAAAAAAAAAAAAABAAAAAAkAAAAJAAAAAAAAkZWR0cwAAABxl\n",
       "bHN0AAAAAAAAAAEAAAfQAAAIAAABAAAAAAKsbWRpYQAAACBtZGhkAAAAAAAAAAAAAAAAAAAoAAAA\n",
       "UABVxAAAAAAALWhkbHIAAAAAAAAAAHZpZGUAAAAAAAAAAAAAAABWaWRlb0hhbmRsZXIAAAACV21p\n",
       "bmYAAAAUdm1oZAAAAAEAAAAAAAAAAAAAACRkaW5mAAAAHGRyZWYAAAAAAAAAAQAAAAx1cmwgAAAA\n",
       "AQAAAhdzdGJsAAAAt3N0c2QAAAAAAAAAAQAAAKdhdmMxAAAAAAAAAAEAAAAAAAAAAAAAAAAAAAAA\n",
       "AkACQABIAAAASAAAAAAAAAABAAAAAAAAAAAAAAAAAAAAAAAAAAAAAAAAAAAAAAAAAAAAGP//AAAA\n",
       "NWF2Y0MBZAAW/+EAGGdkABas2UCQEmhAAAADAEAAAAUDxYtlgAEABmjr48siwP34+AAAAAAcdXVp\n",
       "ZGtoQPJfJE/FujmlG88DI/MAAAAAAAAAGHN0dHMAAAAAAAAAAQAAABQAAAQAAAAAFHN0c3MAAAAA\n",
       "AAAAAQAAAAEAAACYY3R0cwAAAAAAAAARAAAAAQAACAAAAAABAAAUAAAAAAEAAAgAAAAAAQAAAAAA\n",
       "AAABAAAEAAAAAAEAAAwAAAAAAQAABAAAAAABAAAQAAAAAAIAAAQAAAAAAQAAFAAAAAABAAAIAAAA\n",
       "AAEAAAAAAAAAAQAABAAAAAABAAAQAAAAAAIAAAQAAAAAAQAAEAAAAAACAAAEAAAAABxzdHNjAAAA\n",
       "AAAAAAEAAAABAAAAFAAAAAEAAABkc3RzegAAAAAAAAAAAAAAFAAANzcAAAqPAAAC0gAAAFIAAAG1\n",
       "AAAHZwAAAEAAAAmWAAABSAAAANcAAAyhAAAByAAAAUQAAADaAAAIwAAAAcAAAAEKAAAD6AAAASwA\n",
       "AAB7AAAAFHN0Y28AAAAAAAAAAQAAADAAAABidWR0YQAAAFptZXRhAAAAAAAAACFoZGxyAAAAAAAA\n",
       "AABtZGlyYXBwbAAAAAAAAAAAAAAAAC1pbHN0AAAAJal0b28AAAAdZGF0YQAAAAEAAAAATGF2ZjU4\n",
       "Ljc3LjEwMA==\n",
       "\">\n",
       "  Your browser does not support the video tag.\n",
       "</video>"
      ],
      "text/plain": [
       "<IPython.core.display.HTML object>"
      ]
     },
     "execution_count": 96,
     "metadata": {},
     "output_type": "execute_result"
    }
   ],
   "source": [
    "HTML(anim.to_html5_video())"
   ]
  },
  {
   "cell_type": "code",
   "execution_count": 93,
   "metadata": {},
   "outputs": [],
   "source": [
    "from queue import Queue\n",
    "\n",
    "shape = (image_array[0].shape[0], image_array[0].shape[1])\n",
    "categorize_matrix = np.full(shape, -1)\n",
    "\n",
    "def get_adjacent(x, y, shape):\n",
    "    result = []\n",
    "    if x-1 >= 0:\n",
    "        result.append((x-1,y))\n",
    "    if x+1 < shape[0]:\n",
    "        result.append((x+1,y))\n",
    "    if y-1 >= 0:\n",
    "        result.append((x,y-1))\n",
    "    if y+1 < shape[1]:\n",
    "        result.append((x,y+1))\n",
    "    return result\n",
    "\n",
    "\n",
    "def bfs_fill(start_x, start_y, cat_matrix, heat_mask, cat_value):\n",
    "    q = Queue()\n",
    "    value = heat_mask[start_x][start_y]\n",
    "    cat_matrix[start_x][start_y] = cat_value\n",
    "    q.put((start_x, start_y))\n",
    "    \n",
    "    while not q.empty():\n",
    "        (x,y) = q.get()\n",
    "        adjacent_array = get_adjacent(x, y, cat_matrix.shape)\n",
    "        for (ad_x, ad_y) in adjacent_array:\n",
    "            if cat_matrix[ad_x][ad_y] == -1 and heat_mask[ad_x][ad_y] == value:\n",
    "                cat_matrix[ad_x][ad_y] = cat_value\n",
    "                q.put((ad_x, ad_y))\n",
    "    \n",
    "cat_value = 0\n",
    "for x in range(shape[0]):\n",
    "    for y in range(shape[1]):\n",
    "        if categorize_matrix[x][y] == -1:\n",
    "            bfs_fill(x, y, categorize_matrix, line_data, cat_value)\n",
    "            cat_value += 1\n",
    "            \n",
    "aoi_mask = categorize_matrix.astype(int)\n",
    "aoi_names = [str(idx) for idx in range(cat_value)]\n",
    "\n",
    "colors = save_aoi_sequences(\"./results/aois/unsupervised/\" + config_folder_prefix_array[0], image_array[0], config_image_prefix_array[0], aoi_mask, aoi_names, visual_stimulus_data_matrix[0])"
   ]
  },
  {
   "cell_type": "code",
   "execution_count": 94,
   "metadata": {},
   "outputs": [
    {
     "data": {
      "image/png": "[encoded data removed]",
      "text/plain": [
       "<Figure size 576x576 with 1 Axes>"
      ]
     },
     "metadata": {},
     "output_type": "display_data"
    }
   ],
   "source": [
    "fig, ax = plt.subplots(figsize=(8,8))\n",
    "\n",
    "im = image_array[0].copy()\n",
    "\n",
    "for height in range(im.shape[0]):\n",
    "    for width in range(im.shape[1]):\n",
    "        im[height, width] = 0.4 * im[height, width] + 0.6 * colors[categorize_matrix[height, width]]\n",
    "\n",
    "ax.imshow(im)\n",
    "ax.plot(x, y, ':', linewidth=2, color='black');"
   ]
  },
  {
   "cell_type": "code",
   "execution_count": null,
   "metadata": {},
   "outputs": [],
   "source": []
  }
 ],
 "metadata": {
  "kernelspec": {
   "display_name": "Python 3",
   "language": "python",
   "name": "python3"
  },
  "language_info": {
   "codemirror_mode": {
    "name": "ipython",
    "version": 3
   },
   "file_extension": ".py",
   "mimetype": "text/x-python",
   "name": "python",
   "nbconvert_exporter": "python",
   "pygments_lexer": "ipython3",
   "version": "3.8.5"
  }
 },
 "nbformat": 4,
 "nbformat_minor": 4
}
