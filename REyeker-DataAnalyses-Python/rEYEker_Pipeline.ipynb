{
 "cells": [
  {
   "cell_type": "markdown",
   "metadata": {},
   "source": [
    "<h1> Data Analysis for REYeker</h1>"
   ]
  },
  {
   "cell_type": "code",
   "execution_count": 1,
   "metadata": {},
   "outputs": [],
   "source": [
    "# lib for dataframes\n",
    "import pandas as pd\n",
    "\n",
    "# lib for saving np images\n",
    "from PIL import Image\n",
    "\n",
    "# lib for plotting\n",
    "%matplotlib inline\n",
    "import matplotlib.pyplot as plt\n",
    "\n",
    "# lib for numerical computations\n",
    "import numpy as np\n",
    "\n",
    "# lib for crerating paths\n",
    "from pathlib import Path\n",
    "\n",
    "# REYeker lib\n",
    "import modules.rEYEkerAnalysis as rEYEker"
   ]
  },
  {
   "cell_type": "markdown",
   "metadata": {},
   "source": [
    "<h2>1. Configuration</h2>"
   ]
  },
  {
   "cell_type": "markdown",
   "metadata": {},
   "source": [
    "<h5>Database configuration </h5>"
   ]
  },
  {
   "cell_type": "code",
   "execution_count": 2,
   "metadata": {},
   "outputs": [],
   "source": [
    "# path to the datafile\n",
    "config_datasheet_path = r'./preprocessed.xlsx'\n",
    "\n",
    "# columns with visual stimulus data\n",
    "config_visual_stimulus_variable = \"ClickData\"\n",
    "\n",
    "# columns with programming style\n",
    "config_programming_style_variable = \"ProgrammingStyle\"\n",
    "\n",
    "# columns with comprehension style\n",
    "config_comprehension_variable = \"Comprehension\"\n",
    "\n",
    "# columns with names of the algo\n",
    "config_algo_name_variable = \"Algorithm\"\n",
    "\n",
    "# columns with correctness value\n",
    "config_corectness_variable = \"Correctness\"\n",
    "\n",
    "# columns with time data of visual stimulus\n",
    "config_time_variable_array = []\n",
    "\n",
    "# columns with the given answers of the studen\n",
    "config_flag_variable = \"Flag\"\n",
    "\n",
    "# colums of response time\n",
    "config_response_time_variable = \"ResponseTime\""
   ]
  },
  {
   "cell_type": "markdown",
   "metadata": {},
   "source": [
    "<h5>Configuration for REYEker data </h5>"
   ]
  },
  {
   "cell_type": "code",
   "execution_count": 3,
   "metadata": {},
   "outputs": [],
   "source": [
    "# file for loading rEYEker settings\n",
    "config_reyeker_settings_path = \"data/used.json\""
   ]
  },
  {
   "cell_type": "markdown",
   "metadata": {},
   "source": [
    "<h5>Import the preprocessed dataframe</h5>"
   ]
  },
  {
   "cell_type": "code",
   "execution_count": 4,
   "metadata": {},
   "outputs": [],
   "source": [
    "needed_columns = [\"Subject\",\n",
    "                  config_programming_style_variable, \n",
    "                  config_comprehension_variable, \n",
    "                  config_algo_name_variable,\n",
    "                  config_flag_variable,\n",
    "                  config_corectness_variable,\n",
    "                  config_visual_stimulus_variable]\n",
    "\n",
    "raw = pd.read_excel(config_datasheet_path)\n",
    "df = pd.DataFrame(raw, columns=needed_columns)\n",
    "algo_name_array = [name for name in df[config_algo_name_variable].unique()]\n",
    "\n",
    "df_tensor = []\n",
    "\n",
    "for algo_name in algo_name_array:\n",
    "    algo_df = df.loc[df[config_algo_name_variable]==algo_name]\n",
    "    df_array = [algo_df.loc[(df[config_programming_style_variable]==\"R\") & (algo_df[config_comprehension_variable]==\"BU\")],\n",
    "                algo_df.loc[(df[config_programming_style_variable]==\"I\") & (algo_df[config_comprehension_variable]==\"BU\")],\n",
    "                algo_df.loc[(df[config_programming_style_variable]==\"R\") & (algo_df[config_comprehension_variable]==\"TD\")],\n",
    "                algo_df.loc[(df[config_programming_style_variable]==\"I\") & (algo_df[config_comprehension_variable]==\"TD\")],]\n",
    "    df_tensor.append(df_array)"
   ]
  },
  {
   "cell_type": "code",
   "execution_count": 5,
   "metadata": {},
   "outputs": [],
   "source": [
    "# data for loading the images\n",
    "image_path_tensor = []\n",
    "\n",
    "for algo_name in algo_name_array:\n",
    "    image_path_array =[\n",
    "        'images/BR/BR_' + algo_name + '.png',\n",
    "        'images/BI/BI_' + algo_name + '.png',\n",
    "        'images/TR/TR_' + algo_name + '.png',\n",
    "        'images/TI/TI_' + algo_name + '.png',\n",
    "    ]\n",
    "    image_path_tensor.append(image_path_array)\n",
    "    \n",
    "# where to save to heatmaps and sequence diagrams\n",
    "config_folder_prefix_array = ['BR/','BI/', 'TR/','TI/']\n",
    "\n",
    "# used for saving the heatmaps and sequence diagrams\n",
    "config_image_prefix_tensor = []\n",
    "for algo_name in algo_name_array:\n",
    "    image_prefix_array =[\n",
    "        'BR_' + algo_name + '_',\n",
    "        'BI_' + algo_name + '_',\n",
    "        'TR_' + algo_name + '_',\n",
    "        'TI_' + algo_name + '_',\n",
    "    ]\n",
    "    config_image_prefix_tensor.append(image_prefix_array)"
   ]
  },
  {
   "cell_type": "markdown",
   "metadata": {},
   "source": [
    "<h4>Splitting Dataframes in right and wrong answers.</h4>"
   ]
  },
  {
   "cell_type": "code",
   "execution_count": 6,
   "metadata": {},
   "outputs": [],
   "source": [
    "df_tensor_right = [[df.loc[df[config_corectness_variable]==True] for df in df_array] for df_array in df_tensor]"
   ]
  },
  {
   "cell_type": "markdown",
   "metadata": {},
   "source": [
    "<h4>Remove Outliers</h4>"
   ]
  },
  {
   "cell_type": "code",
   "execution_count": 7,
   "metadata": {},
   "outputs": [],
   "source": [
    "df_tensor = [[df.loc[df[config_flag_variable]!=\"outlier\"]  for df in df_array] for df_array in df_tensor_right]"
   ]
  },
  {
   "cell_type": "markdown",
   "metadata": {},
   "source": [
    "<h4>Import REYeker Settings</h4>"
   ]
  },
  {
   "cell_type": "code",
   "execution_count": 8,
   "metadata": {},
   "outputs": [],
   "source": [
    "(_data, _times, click_setting) = rEYEker.load_data_from_json(config_reyeker_settings_path)"
   ]
  },
  {
   "cell_type": "markdown",
   "metadata": {},
   "source": [
    "<h4>Import Images Settings</h4>"
   ]
  },
  {
   "cell_type": "code",
   "execution_count": 9,
   "metadata": {},
   "outputs": [],
   "source": [
    "image_tensor = []\n",
    "\n",
    "# read in every image\n",
    "for image_path_array in image_path_tensor:\n",
    "    image_array = []\n",
    "    for image_path in image_path_array:\n",
    "        img = rEYEker.load_image(image_path)\n",
    "        image_array.append(img)\n",
    "    image_tensor.append(image_array)"
   ]
  },
  {
   "cell_type": "markdown",
   "metadata": {},
   "source": [
    "<h4> Cast Data to Valid format</h4>"
   ]
  },
  {
   "cell_type": "markdown",
   "metadata": {},
   "source": [
    "Import the visual stimulus measured Data"
   ]
  },
  {
   "cell_type": "code",
   "execution_count": 10,
   "metadata": {},
   "outputs": [],
   "source": [
    "visual_stimulus_data_tensor = []\n",
    "\n",
    "#iter over every dataframe\n",
    "for df_array in df_tensor: \n",
    "    \n",
    "    visual_stimulus_data_matrix = []\n",
    "    for idx, dataframe in enumerate(df_array):\n",
    "        visual_stimulus_array = []\n",
    "    \n",
    "        #iter over every row \n",
    "        for _idx, row in dataframe.iterrows():\n",
    "            data_str = row[config_visual_stimulus_variable]\n",
    "            data_str = data_str.strip()\n",
    "            coordinates_str = data_str.split(\" \")\n",
    "            coordinates = []\n",
    "            \n",
    "            # iter over every coordinate pair x-y\n",
    "            for coordinate_str in coordinates_str:\n",
    "                coordinate = coordinate_str.split(\"-\")\n",
    "                coordinate = (int(coordinate[0]), int(coordinate[1]))\n",
    "                coordinates.append(coordinate)\n",
    "                \n",
    "            visual_stimulus_array.append(coordinates)\n",
    "            \n",
    "        visual_stimulus_data_matrix.append(visual_stimulus_array)\n",
    "        \n",
    "    visual_stimulus_data_tensor.append(visual_stimulus_data_matrix)"
   ]
  },
  {
   "cell_type": "markdown",
   "metadata": {},
   "source": [
    "<h4>Helper Functions</h4>"
   ]
  },
  {
   "cell_type": "code",
   "execution_count": 11,
   "metadata": {},
   "outputs": [],
   "source": [
    "def save_images(image_array, folder, image_name):\n",
    "    \"\"\"\n",
    "    :brief saves an array of images to a certain location incrementing the postfix by a number\n",
    "    :param image_array:        array of images (np.ndarray)\n",
    "    :param folder:     prefix of image/ folder location\n",
    "    :param image_name: prefix for the image\n",
    "    \"\"\"\n",
    "    \n",
    "    Path(folder).mkdir(parents=True, exist_ok=True)\n",
    "    \n",
    "    prefix = folder + image_name\n",
    "    \n",
    "    #TODO create folders if there are none present\n",
    "    for idx, data in enumerate(image_array):\n",
    "        data = data*255\n",
    "        data = np.uint8(data)\n",
    "        im = Image.fromarray(data)\n",
    "        im.save(prefix + str(idx) + '.png')\n",
    "        \n",
    "def compare_for_h0(arr_1, arr_2, alpha):\n",
    "    t, p = stats.ttest_ind(arr_1, arr_2)\n",
    "    if p > alpha:\n",
    "        return True, t, p\n",
    "    else:\n",
    "        return False, t, p\n",
    "    \n",
    "def is_in(value, tup):\n",
    "    return tup[0] <= value <= tup[1]\n",
    "\n",
    "def get_0_offset(number):\n",
    "    i = 0\n",
    "    number = int(number)\n",
    "    while number != 0:\n",
    "        number = int(number / 10)\n",
    "        i = i + 1\n",
    "    return i"
   ]
  },
  {
   "cell_type": "markdown",
   "metadata": {},
   "source": [
    "<h2>2. Create Single Heatmaps</h2>"
   ]
  },
  {
   "cell_type": "markdown",
   "metadata": {},
   "source": [
    "create heatmaps"
   ]
  },
  {
   "cell_type": "code",
   "execution_count": 12,
   "metadata": {},
   "outputs": [
    {
     "name": "stdout",
     "output_type": "stream",
     "text": [
      "Going to process 8 datatables: \n",
      "\tGoing to process datatable #0 with 4 datasets: \n",
      "\t\tdataset #0 (up to 5): [0;1;2;3;4;]\n",
      "\t\tdataset #1 (up to 3): [0;1;2;]\n",
      "\t\tdataset #2 (up to 3): [0;1;2;]\n",
      "\t\tdataset #3 (up to 8): [0;1;2;3;4;5;6;7;]\n",
      "\tGoing to process datatable #1 with 4 datasets: \n",
      "\t\tdataset #0 (up to 12): [0;1;2;3;4;5;6;7;8;9;10;11;]\n",
      "\t\tdataset #1 (up to 7): [0;1;2;3;4;5;6;]\n",
      "\t\tdataset #2 (up to 5): [0;1;2;3;4;]\n",
      "\t\tdataset #3 (up to 14): [0;1;2;3;4;5;6;7;8;9;10;11;12;13;]\n",
      "\tGoing to process datatable #2 with 4 datasets: \n",
      "\t\tdataset #0 (up to 19): [0;1;2;3;4;5;6;7;8;9;10;11;12;13;14;15;16;17;18;]\n",
      "\t\tdataset #1 (up to 25): [0;1;2;3;4;5;6;7;8;9;10;11;12;13;14;15;16;17;18;19;20;21;22;23;24;]\n",
      "\t\tdataset #2 (up to 24): [0;1;2;3;4;5;6;7;8;9;10;11;12;13;14;15;16;17;18;19;20;21;22;23;]\n",
      "\t\tdataset #3 (up to 16): [0;1;2;3;4;5;6;7;8;9;10;11;12;13;14;15;]\n",
      "\tGoing to process datatable #3 with 4 datasets: \n",
      "\t\tdataset #0 (up to 13): [0;1;2;3;4;5;6;7;8;9;10;11;12;]\n",
      "\t\tdataset #1 (up to 17): [0;1;2;3;4;5;6;7;8;9;10;11;12;13;14;15;16;]\n",
      "\t\tdataset #2 (up to 14): [0;1;2;3;4;5;6;7;8;9;10;11;12;13;]\n",
      "\t\tdataset #3 (up to 21): [0;1;2;3;4;5;6;7;8;9;10;11;12;13;14;15;16;17;18;19;20;]\n",
      "\tGoing to process datatable #4 with 4 datasets: \n",
      "\t\tdataset #0 (up to 6): [0;1;2;3;4;5;]\n",
      "\t\tdataset #1 (up to 6): [0;1;2;3;4;5;]\n",
      "\t\tdataset #2 (up to 11): [0;1;2;3;4;5;6;7;8;9;10;]\n",
      "\t\tdataset #3 (up to 12): [0;1;2;3;4;5;6;7;8;9;10;11;]\n",
      "\tGoing to process datatable #5 with 4 datasets: \n",
      "\t\tdataset #0 (up to 4): [0;1;2;3;]\n",
      "\t\tdataset #1 (up to 6): [0;1;2;3;4;5;]\n",
      "\t\tdataset #2 (up to 3): [0;1;2;]\n",
      "\t\tdataset #3 (up to 4): [0;1;2;3;]\n",
      "\tGoing to process datatable #6 with 4 datasets: \n",
      "\t\tdataset #0 (up to 3): [0;1;2;]\n",
      "\t\tdataset #1 (up to 2): [0;1;]\n",
      "\t\tdataset #2 (up to 4): [0;1;2;3;]\n",
      "\t\tdataset #3 (up to 5): [0;1;2;3;4;]\n",
      "\tGoing to process datatable #7 with 4 datasets: \n",
      "\t\tdataset #0 (up to 13): [0;1;2;3;4;5;6;7;8;9;10;11;12;]\n",
      "\t\tdataset #1 (up to 18): [0;1;2;3;4;5;6;7;8;9;10;11;12;13;14;15;16;17;]\n",
      "\t\tdataset #2 (up to 10): [0;1;2;3;4;5;6;7;8;9;]\n",
      "\t\tdataset #3 (up to 22): [0;1;2;3;4;5;6;7;8;9;10;11;12;13;14;15;16;17;18;19;20;21;]\n"
     ]
    }
   ],
   "source": [
    "heatmap_tensor = []\n",
    "\n",
    "print(\"Going to process \" + str(len(visual_stimulus_data_tensor)) + \" datatables: \")\n",
    "for idx, visual_stimulus_data_matrix in enumerate(visual_stimulus_data_tensor):\n",
    "    heatmaps_matrix = [] \n",
    "    print(\"\\tGoing to process datatable #\" + str(idx) + \" with \" + str(len(visual_stimulus_data_matrix)) + \" datasets: \")\n",
    "    \n",
    "    # iterate over all the datasets\n",
    "    for dataset_idx, stimulus_dataset in enumerate(visual_stimulus_data_matrix):\n",
    "        \n",
    "        print(\"\\t\\tdataset #\" + str(dataset_idx) + \" (up to \"+ str(len(stimulus_dataset)) + \"): [\", end='')\n",
    "        heatmap_array = []\n",
    "    \n",
    "        # iterate over all the measurements of the dataset\n",
    "        for visual_idx, stimulus_measurement in enumerate(stimulus_dataset):\n",
    "            \n",
    "            print(str(visual_idx), end=\";\")\n",
    "            \n",
    "            im = rEYEker.draw_shape_heat_map(image_tensor[idx][dataset_idx], stimulus_measurement, click_setting,  should_copy=True)\n",
    "            heatmap_array.append(im)\n",
    "       \n",
    "        print(\"]\")\n",
    "        heatmaps_matrix.append(heatmap_array)\n",
    "        \n",
    "    heatmap_tensor.append(heatmaps_matrix)"
   ]
  },
  {
   "cell_type": "markdown",
   "metadata": {},
   "source": [
    "\n",
    "save Heatmaps"
   ]
  },
  {
   "cell_type": "code",
   "execution_count": 13,
   "metadata": {},
   "outputs": [
    {
     "name": "stdout",
     "output_type": "stream",
     "text": [
      "Writing to:./results/BinarySearch/heatmaps/heatmaps/BR/\n",
      "Writing to:./results/BinarySearch/heatmaps/heatmaps/BI/\n",
      "Writing to:./results/BinarySearch/heatmaps/heatmaps/TR/\n",
      "Writing to:./results/BinarySearch/heatmaps/heatmaps/TI/\n",
      "Writing to:./results/BubbleSort/heatmaps/heatmaps/BR/\n",
      "Writing to:./results/BubbleSort/heatmaps/heatmaps/BI/\n",
      "Writing to:./results/BubbleSort/heatmaps/heatmaps/TR/\n",
      "Writing to:./results/BubbleSort/heatmaps/heatmaps/TI/\n",
      "Writing to:./results/Factorial/heatmaps/heatmaps/BR/\n",
      "Writing to:./results/Factorial/heatmaps/heatmaps/BI/\n",
      "Writing to:./results/Factorial/heatmaps/heatmaps/TR/\n",
      "Writing to:./results/Factorial/heatmaps/heatmaps/TI/\n",
      "Writing to:./results/Fibonacci/heatmaps/heatmaps/BR/\n",
      "Writing to:./results/Fibonacci/heatmaps/heatmaps/BI/\n",
      "Writing to:./results/Fibonacci/heatmaps/heatmaps/TR/\n",
      "Writing to:./results/Fibonacci/heatmaps/heatmaps/TI/\n",
      "Writing to:./results/IntegerBinary/heatmaps/heatmaps/BR/\n",
      "Writing to:./results/IntegerBinary/heatmaps/heatmaps/BI/\n",
      "Writing to:./results/IntegerBinary/heatmaps/heatmaps/TR/\n",
      "Writing to:./results/IntegerBinary/heatmaps/heatmaps/TI/\n",
      "Writing to:./results/MultiplyMatrix/heatmaps/heatmaps/BR/\n",
      "Writing to:./results/MultiplyMatrix/heatmaps/heatmaps/BI/\n",
      "Writing to:./results/MultiplyMatrix/heatmaps/heatmaps/TR/\n",
      "Writing to:./results/MultiplyMatrix/heatmaps/heatmaps/TI/\n",
      "Writing to:./results/PrimeFactors/heatmaps/heatmaps/BR/\n",
      "Writing to:./results/PrimeFactors/heatmaps/heatmaps/BI/\n",
      "Writing to:./results/PrimeFactors/heatmaps/heatmaps/TR/\n",
      "Writing to:./results/PrimeFactors/heatmaps/heatmaps/TI/\n",
      "Writing to:./results/ReverseString/heatmaps/heatmaps/BR/\n",
      "Writing to:./results/ReverseString/heatmaps/heatmaps/BI/\n",
      "Writing to:./results/ReverseString/heatmaps/heatmaps/TR/\n",
      "Writing to:./results/ReverseString/heatmaps/heatmaps/TI/\n"
     ]
    }
   ],
   "source": [
    "for algo_idx, heatmaps_matrix in enumerate(heatmap_tensor):\n",
    "    for idx, heatmap_array in enumerate(heatmaps_matrix):\n",
    "        path = \"./results/\" + str(algo_name_array[algo_idx]) + \"/heatmaps/heatmaps/\" +  config_folder_prefix_array[idx]\n",
    "        print(\"Writing to:\" + path)\n",
    "        save_images(heatmap_array, path, config_image_prefix_tensor[algo_idx][idx])"
   ]
  },
  {
   "cell_type": "markdown",
   "metadata": {},
   "source": [
    "<h2>3. Create Average Heatmaps</h2>"
   ]
  },
  {
   "cell_type": "markdown",
   "metadata": {},
   "source": [
    "create heatmaps"
   ]
  },
  {
   "cell_type": "code",
   "execution_count": 14,
   "metadata": {},
   "outputs": [
    {
     "name": "stdout",
     "output_type": "stream",
     "text": [
      "Going to process 8 datatables: \n",
      "\tGoing to process datatable #0 with 4 datasets: \n",
      "\t\t#0#1#2#3\tGoing to process datatable #1 with 4 datasets: \n",
      "\t\t#0#1#2#3\tGoing to process datatable #2 with 4 datasets: \n",
      "\t\t#0#1#2#3\tGoing to process datatable #3 with 4 datasets: \n",
      "\t\t#0#1#2#3\tGoing to process datatable #4 with 4 datasets: \n",
      "\t\t#0#1#2#3\tGoing to process datatable #5 with 4 datasets: \n",
      "\t\t#0#1#2#3\tGoing to process datatable #6 with 4 datasets: \n",
      "\t\t#0#1#2#3\tGoing to process datatable #7 with 4 datasets: \n",
      "\t\t#0#1#2#3"
     ]
    }
   ],
   "source": [
    "heatmap_tensor = []\n",
    "\n",
    "print(\"Going to process \" + str(len(visual_stimulus_data_tensor)) + \" datatables: \")\n",
    "for algo_idx, visual_stimulus_data_matrix in enumerate(visual_stimulus_data_tensor):\n",
    "    average_heatmap_array = []\n",
    "    print(\"\\tGoing to process datatable #\" + str(algo_idx) + \" with \" + str(len(visual_stimulus_data_matrix)) + \" datasets: \")\n",
    "    print(\"\\t\\t\", end=\"\")\n",
    "    \n",
    "    # iterate over all the datasets\n",
    "    for idx, stimulus_dataset in enumerate(visual_stimulus_data_matrix):\n",
    "        print(\"#\" + str(idx), end=\"\")\n",
    "        image = image_tensor[algo_idx][idx]\n",
    "        visual_measurements = visual_stimulus_data_matrix[idx]\n",
    "        im, mask = rEYEker.draw_average_shape_heat_map_rel(image, visual_measurements, click_setting, 1.0, .0, None, should_copy=True)\n",
    "        average_heatmap_array.append(im)\n",
    "        \n",
    "    print()\n",
    "        \n",
    "    heatmap_tensor.append(average_heatmap_array)"
   ]
  },
  {
   "cell_type": "markdown",
   "metadata": {},
   "source": [
    "save heatmaps"
   ]
  },
  {
   "cell_type": "code",
   "execution_count": 15,
   "metadata": {},
   "outputs": [
    {
     "name": "stdout",
     "output_type": "stream",
     "text": [
      "Writing to:./results/BinarySearch/heatmaps/average_heatmap/\n",
      "Writing to:./results/BinarySearch/heatmaps/average_heatmap/\n",
      "Writing to:./results/BinarySearch/heatmaps/average_heatmap/\n",
      "Writing to:./results/BinarySearch/heatmaps/average_heatmap/\n",
      "Writing to:./results/BubbleSort/heatmaps/average_heatmap/\n",
      "Writing to:./results/BubbleSort/heatmaps/average_heatmap/\n",
      "Writing to:./results/BubbleSort/heatmaps/average_heatmap/\n",
      "Writing to:./results/BubbleSort/heatmaps/average_heatmap/\n",
      "Writing to:./results/Factorial/heatmaps/average_heatmap/\n",
      "Writing to:./results/Factorial/heatmaps/average_heatmap/\n",
      "Writing to:./results/Factorial/heatmaps/average_heatmap/\n",
      "Writing to:./results/Factorial/heatmaps/average_heatmap/\n",
      "Writing to:./results/Fibonacci/heatmaps/average_heatmap/\n",
      "Writing to:./results/Fibonacci/heatmaps/average_heatmap/\n",
      "Writing to:./results/Fibonacci/heatmaps/average_heatmap/\n",
      "Writing to:./results/Fibonacci/heatmaps/average_heatmap/\n",
      "Writing to:./results/IntegerBinary/heatmaps/average_heatmap/\n",
      "Writing to:./results/IntegerBinary/heatmaps/average_heatmap/\n",
      "Writing to:./results/IntegerBinary/heatmaps/average_heatmap/\n",
      "Writing to:./results/IntegerBinary/heatmaps/average_heatmap/\n",
      "Writing to:./results/MultiplyMatrix/heatmaps/average_heatmap/\n",
      "Writing to:./results/MultiplyMatrix/heatmaps/average_heatmap/\n",
      "Writing to:./results/MultiplyMatrix/heatmaps/average_heatmap/\n",
      "Writing to:./results/MultiplyMatrix/heatmaps/average_heatmap/\n",
      "Writing to:./results/PrimeFactors/heatmaps/average_heatmap/\n",
      "Writing to:./results/PrimeFactors/heatmaps/average_heatmap/\n",
      "Writing to:./results/PrimeFactors/heatmaps/average_heatmap/\n",
      "Writing to:./results/PrimeFactors/heatmaps/average_heatmap/\n",
      "Writing to:./results/ReverseString/heatmaps/average_heatmap/\n",
      "Writing to:./results/ReverseString/heatmaps/average_heatmap/\n",
      "Writing to:./results/ReverseString/heatmaps/average_heatmap/\n",
      "Writing to:./results/ReverseString/heatmaps/average_heatmap/\n"
     ]
    }
   ],
   "source": [
    "for algo_idx, heatmaps_matrix in enumerate(heatmap_tensor):\n",
    "    for idx, heatmap in enumerate(heatmaps_matrix):\n",
    "        path = \"./results/\" + str(algo_name_array[algo_idx]) + \"/heatmaps/average_heatmap/\" \n",
    "        print(\"Writing to:\" + path)\n",
    "        save_images([heatmap], path, config_image_prefix_tensor[algo_idx][idx])"
   ]
  },
  {
   "cell_type": "markdown",
   "metadata": {},
   "source": [
    "<h2>4. Create Sequence diagramms</h2>"
   ]
  },
  {
   "cell_type": "markdown",
   "metadata": {},
   "source": [
    "create sequence diagrams"
   ]
  },
  {
   "cell_type": "code",
   "execution_count": 16,
   "metadata": {},
   "outputs": [
    {
     "name": "stdout",
     "output_type": "stream",
     "text": [
      "Going to process 8 datatables: \n",
      "\tGoing to process datatable #3 with 4 datasets: \n",
      "\t\tdataset #0 (up to 5): [0;1;2;3;4;]\n",
      "\t\tdataset #1 (up to 3): [0;1;2;]\n",
      "\t\tdataset #2 (up to 3): [0;1;2;]\n",
      "\t\tdataset #3 (up to 8): [0;1;2;3;4;5;6;7;]\n",
      "\tGoing to process datatable #3 with 4 datasets: \n",
      "\t\tdataset #0 (up to 12): [0;1;2;3;4;5;6;7;8;9;10;11;]\n",
      "\t\tdataset #1 (up to 7): [0;1;2;3;4;5;6;]\n",
      "\t\tdataset #2 (up to 5): [0;1;2;3;4;]\n",
      "\t\tdataset #3 (up to 14): [0;1;2;3;4;5;6;7;8;9;10;11;12;13;]\n",
      "\tGoing to process datatable #3 with 4 datasets: \n",
      "\t\tdataset #0 (up to 19): [0;1;2;3;4;5;6;7;8;9;10;11;12;13;14;15;16;17;18;]\n",
      "\t\tdataset #1 (up to 25): [0;1;2;3;4;5;6;7;8;9;10;11;12;13;14;15;16;17;18;19;20;21;22;23;24;]\n",
      "\t\tdataset #2 (up to 24): [0;1;2;3;4;5;6;7;8;9;10;11;12;13;14;15;16;17;18;19;20;21;22;23;]\n",
      "\t\tdataset #3 (up to 16): [0;1;2;3;4;5;6;7;8;9;10;11;12;13;14;15;]\n",
      "\tGoing to process datatable #3 with 4 datasets: \n",
      "\t\tdataset #0 (up to 13): [0;1;2;3;4;5;6;7;8;9;10;11;12;]\n",
      "\t\tdataset #1 (up to 17): [0;1;2;3;4;5;6;7;8;9;10;11;12;13;14;15;16;]\n",
      "\t\tdataset #2 (up to 14): [0;1;2;3;4;5;6;7;8;9;10;11;12;13;]\n",
      "\t\tdataset #3 (up to 21): [0;1;2;3;4;5;6;7;8;9;10;11;12;13;14;15;16;17;18;19;20;]\n",
      "\tGoing to process datatable #3 with 4 datasets: \n",
      "\t\tdataset #0 (up to 6): [0;1;2;3;4;5;]\n",
      "\t\tdataset #1 (up to 6): [0;1;2;3;4;5;]\n",
      "\t\tdataset #2 (up to 11): [0;1;2;3;4;5;6;7;8;9;10;]\n",
      "\t\tdataset #3 (up to 12): [0;1;2;3;4;5;6;7;8;9;10;11;]\n",
      "\tGoing to process datatable #3 with 4 datasets: \n",
      "\t\tdataset #0 (up to 4): [0;1;2;3;]\n",
      "\t\tdataset #1 (up to 6): [0;1;2;3;4;5;]\n",
      "\t\tdataset #2 (up to 3): [0;1;2;]\n",
      "\t\tdataset #3 (up to 4): [0;1;2;3;]\n",
      "\tGoing to process datatable #3 with 4 datasets: \n",
      "\t\tdataset #0 (up to 3): [0;1;2;]\n",
      "\t\tdataset #1 (up to 2): [0;1;]\n",
      "\t\tdataset #2 (up to 4): [0;1;2;3;]\n",
      "\t\tdataset #3 (up to 5): [0;1;2;3;4;]\n",
      "\tGoing to process datatable #3 with 4 datasets: \n",
      "\t\tdataset #0 (up to 13): [0;1;2;3;4;5;6;7;8;9;10;11;12;]\n",
      "\t\tdataset #1 (up to 18): [0;1;2;3;4;5;6;7;8;9;10;11;12;13;14;15;16;17;]\n",
      "\t\tdataset #2 (up to 10): [0;1;2;3;4;5;6;7;8;9;]\n",
      "\t\tdataset #3 (up to 22): [0;1;2;3;4;5;6;7;8;9;10;11;12;13;14;15;16;17;18;19;20;21;]\n"
     ]
    }
   ],
   "source": [
    "sequence_diagrams_tensor = []\n",
    "\n",
    "print(\"Going to process \" + str(len(visual_stimulus_data_tensor)) + \" datatables: \")\n",
    "for algo_idx, visual_stimulus_data_matrix in enumerate(visual_stimulus_data_tensor):\n",
    "    sequence_diagrams_matrix = []\n",
    "    print(\"\\tGoing to process datatable #\" + str(idx) + \" with \" + str(len(visual_stimulus_data_matrix)) + \" datasets: \")\n",
    "    \n",
    "    # iterate over all the datasets\n",
    "    for dataset_idx, stimulus_dataset in enumerate(visual_stimulus_data_matrix):\n",
    "        sequence_diagram_array = []\n",
    "        print(\"\\t\\tdataset #\" + str(dataset_idx) + \" (up to \"+ str(len(stimulus_dataset)) + \"): [\", end='')\n",
    "    \n",
    "        # iterate over all the measurements of the dataset\n",
    "        for visual_idx, stimulus_measurement in enumerate(stimulus_dataset):\n",
    "            print(str(visual_idx), end=\";\")\n",
    "            im = image_tensor[algo_idx][dataset_idx]\n",
    "            try:\n",
    "                im = rEYEker.draw_vertical_line_diagram(im, stimulus_measurement, should_copy=True)\n",
    "                sequence_diagram_array.append(im)\n",
    "                \n",
    "            except:\n",
    "                #TODO\n",
    "                sequence_diagram_array.append(im.copy())\n",
    "                #print(\"W.I.P.:\", end='')\n",
    "                #print(\"to many clicks for dataset \" + str(dataset_idx) + \" datset \" + str(visual_idx))\n",
    "                \n",
    "        print(\"]\")\n",
    "        sequence_diagrams_matrix.append(sequence_diagram_array)\n",
    "    sequence_diagrams_tensor.append(sequence_diagrams_matrix)"
   ]
  },
  {
   "cell_type": "markdown",
   "metadata": {},
   "source": [
    "save sequence diagrams"
   ]
  },
  {
   "cell_type": "code",
   "execution_count": 17,
   "metadata": {},
   "outputs": [
    {
     "name": "stdout",
     "output_type": "stream",
     "text": [
      "Writing to:./results/BinarySearch/sequence_diagrams/BR/\n",
      "Writing to:./results/BinarySearch/sequence_diagrams/BI/\n",
      "Writing to:./results/BinarySearch/sequence_diagrams/TR/\n",
      "Writing to:./results/BinarySearch/sequence_diagrams/TI/\n",
      "Writing to:./results/BubbleSort/sequence_diagrams/BR/\n",
      "Writing to:./results/BubbleSort/sequence_diagrams/BI/\n",
      "Writing to:./results/BubbleSort/sequence_diagrams/TR/\n",
      "Writing to:./results/BubbleSort/sequence_diagrams/TI/\n",
      "Writing to:./results/Factorial/sequence_diagrams/BR/\n",
      "Writing to:./results/Factorial/sequence_diagrams/BI/\n",
      "Writing to:./results/Factorial/sequence_diagrams/TR/\n",
      "Writing to:./results/Factorial/sequence_diagrams/TI/\n",
      "Writing to:./results/Fibonacci/sequence_diagrams/BR/\n",
      "Writing to:./results/Fibonacci/sequence_diagrams/BI/\n",
      "Writing to:./results/Fibonacci/sequence_diagrams/TR/\n",
      "Writing to:./results/Fibonacci/sequence_diagrams/TI/\n",
      "Writing to:./results/IntegerBinary/sequence_diagrams/BR/\n",
      "Writing to:./results/IntegerBinary/sequence_diagrams/BI/\n",
      "Writing to:./results/IntegerBinary/sequence_diagrams/TR/\n",
      "Writing to:./results/IntegerBinary/sequence_diagrams/TI/\n",
      "Writing to:./results/MultiplyMatrix/sequence_diagrams/BR/\n",
      "Writing to:./results/MultiplyMatrix/sequence_diagrams/BI/\n",
      "Writing to:./results/MultiplyMatrix/sequence_diagrams/TR/\n",
      "Writing to:./results/MultiplyMatrix/sequence_diagrams/TI/\n",
      "Writing to:./results/PrimeFactors/sequence_diagrams/BR/\n",
      "Writing to:./results/PrimeFactors/sequence_diagrams/BI/\n",
      "Writing to:./results/PrimeFactors/sequence_diagrams/TR/\n",
      "Writing to:./results/PrimeFactors/sequence_diagrams/TI/\n",
      "Writing to:./results/ReverseString/sequence_diagrams/BR/\n",
      "Writing to:./results/ReverseString/sequence_diagrams/BI/\n",
      "Writing to:./results/ReverseString/sequence_diagrams/TR/\n",
      "Writing to:./results/ReverseString/sequence_diagrams/TI/\n"
     ]
    }
   ],
   "source": [
    "for algo_idx, sequence_diagrams_matrix in enumerate(sequence_diagrams_tensor):\n",
    "    for idx, sequence_diagram_array in enumerate(sequence_diagrams_matrix):\n",
    "        path = \"./results/\" + str(algo_name_array[algo_idx]) + \"/sequence_diagrams/\" +  config_folder_prefix_array[idx]\n",
    "        print(\"Writing to:\" + path)\n",
    "        save_images(sequence_diagram_array, path, config_image_prefix_tensor[algo_idx][idx])"
   ]
  },
  {
   "cell_type": "code",
   "execution_count": null,
   "metadata": {},
   "outputs": [],
   "source": []
  }
 ],
 "metadata": {
  "kernelspec": {
   "display_name": "Python 3",
   "language": "python",
   "name": "python3"
  },
  "language_info": {
   "codemirror_mode": {
    "name": "ipython",
    "version": 3
   },
   "file_extension": ".py",
   "mimetype": "text/x-python",
   "name": "python",
   "nbconvert_exporter": "python",
   "pygments_lexer": "ipython3",
   "version": "3.8.5"
  }
 },
 "nbformat": 4,
 "nbformat_minor": 4
}
